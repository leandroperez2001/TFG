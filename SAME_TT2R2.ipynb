{
 "cells": [
  {
   "cell_type": "code",
   "execution_count": 30,
   "metadata": {},
   "outputs": [
    {
     "data": {
      "text/html": [
       "<div>\n",
       "<style scoped>\n",
       "    .dataframe tbody tr th:only-of-type {\n",
       "        vertical-align: middle;\n",
       "    }\n",
       "\n",
       "    .dataframe tbody tr th {\n",
       "        vertical-align: top;\n",
       "    }\n",
       "\n",
       "    .dataframe thead th {\n",
       "        text-align: right;\n",
       "    }\n",
       "</style>\n",
       "<table border=\"1\" class=\"dataframe\">\n",
       "  <thead>\n",
       "    <tr style=\"text-align: right;\">\n",
       "      <th></th>\n",
       "      <th>BETABLOQUEANTES</th>\n",
       "      <th>ASPIRINA</th>\n",
       "      <th>OTROS_ANTIAGREGANTES</th>\n",
       "      <th>VERAPAMILO</th>\n",
       "      <th>DILTIAZEM</th>\n",
       "      <th>DIGOXINA</th>\n",
       "      <th>OTROS_ANTIARRITMICOS</th>\n",
       "      <th>SOTALOL</th>\n",
       "      <th>IMC</th>\n",
       "      <th>N_PASTILLAS_D_INICIO</th>\n",
       "      <th>...</th>\n",
       "      <th>CUALQUIER_ANTIAGREGANTE</th>\n",
       "      <th>DOBLE_ANTIAGREGACION</th>\n",
       "      <th>SAME-TT2R2_MAS3</th>\n",
       "      <th>N_COMEDICACIONES</th>\n",
       "      <th>ICTUS/EMBOLIA</th>\n",
       "      <th>ENFERMEDAD_VASCULAR</th>\n",
       "      <th>DISFUNCION/DILATACION</th>\n",
       "      <th>SAME_MAS_DE_2</th>\n",
       "      <th>ALTERACION</th>\n",
       "      <th>BLOQUEO_CALCIO</th>\n",
       "    </tr>\n",
       "  </thead>\n",
       "  <tbody>\n",
       "    <tr>\n",
       "      <th>0</th>\n",
       "      <td>0</td>\n",
       "      <td>0</td>\n",
       "      <td>0</td>\n",
       "      <td>0</td>\n",
       "      <td>0</td>\n",
       "      <td>0</td>\n",
       "      <td>0</td>\n",
       "      <td>0</td>\n",
       "      <td>37.49</td>\n",
       "      <td>5</td>\n",
       "      <td>...</td>\n",
       "      <td>0</td>\n",
       "      <td>0</td>\n",
       "      <td>0</td>\n",
       "      <td>0</td>\n",
       "      <td>0</td>\n",
       "      <td>0</td>\n",
       "      <td>0</td>\n",
       "      <td>0</td>\n",
       "      <td>0</td>\n",
       "      <td>0</td>\n",
       "    </tr>\n",
       "    <tr>\n",
       "      <th>1</th>\n",
       "      <td>1</td>\n",
       "      <td>1</td>\n",
       "      <td>1</td>\n",
       "      <td>0</td>\n",
       "      <td>0</td>\n",
       "      <td>0</td>\n",
       "      <td>0</td>\n",
       "      <td>0</td>\n",
       "      <td>29.30</td>\n",
       "      <td>16</td>\n",
       "      <td>...</td>\n",
       "      <td>1</td>\n",
       "      <td>1</td>\n",
       "      <td>0</td>\n",
       "      <td>1</td>\n",
       "      <td>0</td>\n",
       "      <td>1</td>\n",
       "      <td>1</td>\n",
       "      <td>1</td>\n",
       "      <td>0</td>\n",
       "      <td>0</td>\n",
       "    </tr>\n",
       "    <tr>\n",
       "      <th>2</th>\n",
       "      <td>1</td>\n",
       "      <td>1</td>\n",
       "      <td>0</td>\n",
       "      <td>0</td>\n",
       "      <td>0</td>\n",
       "      <td>0</td>\n",
       "      <td>0</td>\n",
       "      <td>0</td>\n",
       "      <td>35.00</td>\n",
       "      <td>14</td>\n",
       "      <td>...</td>\n",
       "      <td>1</td>\n",
       "      <td>0</td>\n",
       "      <td>0</td>\n",
       "      <td>1</td>\n",
       "      <td>0</td>\n",
       "      <td>0</td>\n",
       "      <td>1</td>\n",
       "      <td>0</td>\n",
       "      <td>0</td>\n",
       "      <td>0</td>\n",
       "    </tr>\n",
       "    <tr>\n",
       "      <th>3</th>\n",
       "      <td>1</td>\n",
       "      <td>0</td>\n",
       "      <td>0</td>\n",
       "      <td>0</td>\n",
       "      <td>0</td>\n",
       "      <td>0</td>\n",
       "      <td>0</td>\n",
       "      <td>0</td>\n",
       "      <td>25.00</td>\n",
       "      <td>13</td>\n",
       "      <td>...</td>\n",
       "      <td>0</td>\n",
       "      <td>0</td>\n",
       "      <td>0</td>\n",
       "      <td>2</td>\n",
       "      <td>1</td>\n",
       "      <td>0</td>\n",
       "      <td>1</td>\n",
       "      <td>1</td>\n",
       "      <td>0</td>\n",
       "      <td>0</td>\n",
       "    </tr>\n",
       "    <tr>\n",
       "      <th>4</th>\n",
       "      <td>0</td>\n",
       "      <td>0</td>\n",
       "      <td>0</td>\n",
       "      <td>0</td>\n",
       "      <td>0</td>\n",
       "      <td>0</td>\n",
       "      <td>0</td>\n",
       "      <td>0</td>\n",
       "      <td>44.00</td>\n",
       "      <td>8</td>\n",
       "      <td>...</td>\n",
       "      <td>0</td>\n",
       "      <td>0</td>\n",
       "      <td>1</td>\n",
       "      <td>0</td>\n",
       "      <td>0</td>\n",
       "      <td>0</td>\n",
       "      <td>1</td>\n",
       "      <td>0</td>\n",
       "      <td>0</td>\n",
       "      <td>0</td>\n",
       "    </tr>\n",
       "  </tbody>\n",
       "</table>\n",
       "<p>5 rows × 62 columns</p>\n",
       "</div>"
      ],
      "text/plain": [
       "   BETABLOQUEANTES  ASPIRINA  OTROS_ANTIAGREGANTES  VERAPAMILO  DILTIAZEM  \\\n",
       "0                0         0                     0           0          0   \n",
       "1                1         1                     1           0          0   \n",
       "2                1         1                     0           0          0   \n",
       "3                1         0                     0           0          0   \n",
       "4                0         0                     0           0          0   \n",
       "\n",
       "   DIGOXINA  OTROS_ANTIARRITMICOS  SOTALOL    IMC  N_PASTILLAS_D_INICIO  ...  \\\n",
       "0         0                     0        0  37.49                     5  ...   \n",
       "1         0                     0        0  29.30                    16  ...   \n",
       "2         0                     0        0  35.00                    14  ...   \n",
       "3         0                     0        0  25.00                    13  ...   \n",
       "4         0                     0        0  44.00                     8  ...   \n",
       "\n",
       "   CUALQUIER_ANTIAGREGANTE  DOBLE_ANTIAGREGACION  SAME-TT2R2_MAS3  \\\n",
       "0                        0                     0                0   \n",
       "1                        1                     1                0   \n",
       "2                        1                     0                0   \n",
       "3                        0                     0                0   \n",
       "4                        0                     0                1   \n",
       "\n",
       "   N_COMEDICACIONES  ICTUS/EMBOLIA  ENFERMEDAD_VASCULAR  \\\n",
       "0                 0              0                    0   \n",
       "1                 1              0                    1   \n",
       "2                 1              0                    0   \n",
       "3                 2              1                    0   \n",
       "4                 0              0                    0   \n",
       "\n",
       "   DISFUNCION/DILATACION  SAME_MAS_DE_2  ALTERACION  BLOQUEO_CALCIO  \n",
       "0                      0              0           0               0  \n",
       "1                      1              1           0               0  \n",
       "2                      1              0           0               0  \n",
       "3                      1              1           0               0  \n",
       "4                      1              0           0               0  \n",
       "\n",
       "[5 rows x 62 columns]"
      ]
     },
     "execution_count": 30,
     "metadata": {},
     "output_type": "execute_result"
    }
   ],
   "source": [
    "#importar df_sin_anomalias\n",
    "import pandas as pd\n",
    "import numpy as np\n",
    "\n",
    "df_sin_anomalos= pd.read_csv('df_sin_anomalos.csv')\n",
    "df_sin_anomalos.head()"
   ]
  },
  {
   "cell_type": "code",
   "execution_count": 316,
   "metadata": {},
   "outputs": [
    {
     "data": {
      "text/plain": [
       "1    290\n",
       "2    242\n",
       "3    193\n",
       "0    162\n",
       "4     99\n",
       "5     14\n",
       "Name: SAME-TT2R2, dtype: int64"
      ]
     },
     "execution_count": 316,
     "metadata": {},
     "output_type": "execute_result"
    }
   ],
   "source": [
    "# SAME-TT2R2 value counts\n",
    "df_sin_anomalos['SAME-TT2R2'].value_counts()"
   ]
  },
  {
   "cell_type": "code",
   "execution_count": 31,
   "metadata": {},
   "outputs": [
    {
     "data": {
      "image/png": "[encoded data removed]",
      "text/plain": [
       "<Figure size 1000x500 with 1 Axes>"
      ]
     },
     "metadata": {},
     "output_type": "display_data"
    }
   ],
   "source": [
    "# boxplot de TRT_6MESES_SIN_1_MES y SAME-TT2R2\n",
    "import matplotlib.pyplot as plt\n",
    "import seaborn as sns\n",
    "\n",
    "plt.figure(figsize=(10,5))\n",
    "sns.boxplot(y='TRT_6MESES_SIN_1_MES', x='SAME-TT2R2', data=df_sin_anomalos)\n",
    "# y labeñ\n",
    "plt.ylabel('TRT')\n",
    "# title\n",
    "plt.title('TRT vs SAME-TT2R2')\n",
    "plt.show()"
   ]
  },
  {
   "attachments": {},
   "cell_type": "markdown",
   "metadata": {},
   "source": [
    "### SAME-TT2R2 vs TRT_6MESES_SIN_1_MES"
   ]
  },
  {
   "cell_type": "code",
   "execution_count": 347,
   "metadata": {},
   "outputs": [
    {
     "name": "stdout",
     "output_type": "stream",
     "text": [
      "SAME-TT2R2 = 0\n",
      "ShapiroResult(statistic=0.9795090556144714, pvalue=0.0107024647295475)\n",
      "\n",
      "SAME-TT2R2 = 1\n",
      "ShapiroResult(statistic=0.9861664175987244, pvalue=0.003682483918964863)\n",
      "\n",
      "SAME-TT2R2 = 2\n",
      "ShapiroResult(statistic=0.9792227745056152, pvalue=0.0021424083970487118)\n",
      "\n",
      "SAME-TT2R2 = 3\n",
      "ShapiroResult(statistic=0.9750783443450928, pvalue=0.001503923092968762)\n",
      "\n",
      "SAME-TT2R2 = 4\n",
      "ShapiroResult(statistic=0.975027859210968, pvalue=0.10166825354099274)\n",
      "\n",
      "SAME-TT2R2 = 5\n"
     ]
    },
    {
     "ename": "ValueError",
     "evalue": "Data must be at least length 3.",
     "output_type": "error",
     "traceback": [
      "\u001b[0;31m---------------------------------------------------------------------------\u001b[0m",
      "\u001b[0;31mValueError\u001b[0m                                Traceback (most recent call last)",
      "Cell \u001b[0;32mIn[347], line 6\u001b[0m\n\u001b[1;32m      4\u001b[0m \u001b[39mfor\u001b[39;00m i \u001b[39min\u001b[39;00m \u001b[39mrange\u001b[39m(\u001b[39m6\u001b[39m):\n\u001b[1;32m      5\u001b[0m     \u001b[39mprint\u001b[39m(\u001b[39m'\u001b[39m\u001b[39mSAME-TT2R2 =\u001b[39m\u001b[39m'\u001b[39m, i)\n\u001b[0;32m----> 6\u001b[0m     \u001b[39mprint\u001b[39m(shapiro(df_sin_anomalos[df_sin_anomalos[\u001b[39m'\u001b[39;49m\u001b[39mSAME-TT2R2_prueba\u001b[39;49m\u001b[39m'\u001b[39;49m]\u001b[39m==\u001b[39;49mi][\u001b[39m'\u001b[39;49m\u001b[39mTRT_6MESES_SIN_1_MES\u001b[39;49m\u001b[39m'\u001b[39;49m]))\n\u001b[1;32m      7\u001b[0m     \u001b[39mprint\u001b[39m()\n\u001b[1;32m      9\u001b[0m \u001b[39m# si p-value < 0.05, no es normal\u001b[39;00m\n\u001b[1;32m     10\u001b[0m \u001b[39m# si p-value > 0.05, es normal\u001b[39;00m\n",
      "File \u001b[0;32m/Library/Frameworks/Python.framework/Versions/3.9/lib/python3.9/site-packages/scipy/stats/morestats.py:1749\u001b[0m, in \u001b[0;36mshapiro\u001b[0;34m(x)\u001b[0m\n\u001b[1;32m   1747\u001b[0m N \u001b[39m=\u001b[39m \u001b[39mlen\u001b[39m(x)\n\u001b[1;32m   1748\u001b[0m \u001b[39mif\u001b[39;00m N \u001b[39m<\u001b[39m \u001b[39m3\u001b[39m:\n\u001b[0;32m-> 1749\u001b[0m     \u001b[39mraise\u001b[39;00m \u001b[39mValueError\u001b[39;00m(\u001b[39m\"\u001b[39m\u001b[39mData must be at least length 3.\u001b[39m\u001b[39m\"\u001b[39m)\n\u001b[1;32m   1751\u001b[0m a \u001b[39m=\u001b[39m zeros(N, \u001b[39m'\u001b[39m\u001b[39mf\u001b[39m\u001b[39m'\u001b[39m)\n\u001b[1;32m   1752\u001b[0m init \u001b[39m=\u001b[39m \u001b[39m0\u001b[39m\n",
      "\u001b[0;31mValueError\u001b[0m: Data must be at least length 3."
     ]
    }
   ],
   "source": [
    "# test de normalidad de TRT_6MESES_SIN_1_MES cuando SAME-TT2R2 es 0, 1, 2,3,4 y 5\n",
    "from scipy.stats import shapiro\n",
    "\n",
    "for i in range(6):\n",
    "    print('SAME-TT2R2 =', i)\n",
    "    print(shapiro(df_sin_anomalos[df_sin_anomalos['SAME-TT2R2']==i]['TRT_6MESES_SIN_1_MES']))\n",
    "    print()\n",
    "\n",
    "# si p-value < 0.05, no es normal\n",
    "# si p-value > 0.05, es normal\n"
   ]
  },
  {
   "cell_type": "code",
   "execution_count": 348,
   "metadata": {},
   "outputs": [
    {
     "name": "stdout",
     "output_type": "stream",
     "text": [
      "ShapiroResult(statistic=0.9026875495910645, pvalue=1.0396772578837695e-24)\n"
     ]
    }
   ],
   "source": [
    "# shapiro de TRT_6MESES_SIN_1_MES con SAME-TT2R2\n",
    "print(shapiro(df_sin_anomalos['SAME-TT2R2']))\n"
   ]
  },
  {
   "cell_type": "code",
   "execution_count": 349,
   "metadata": {},
   "outputs": [
    {
     "name": "stdout",
     "output_type": "stream",
     "text": [
      "stat=nan, p=nan\n",
      "Se rechaza H0, las varianzas no son iguales\n"
     ]
    },
    {
     "name": "stderr",
     "output_type": "stream",
     "text": [
      "/Library/Frameworks/Python.framework/Versions/3.9/lib/python3.9/site-packages/numpy/core/fromnumeric.py:3474: RuntimeWarning: Mean of empty slice.\n",
      "  return _methods._mean(a, axis=axis, dtype=dtype,\n",
      "/Library/Frameworks/Python.framework/Versions/3.9/lib/python3.9/site-packages/numpy/core/_methods.py:189: RuntimeWarning: invalid value encountered in double_scalars\n",
      "  ret = ret.dtype.type(ret / rcount)\n"
     ]
    }
   ],
   "source": [
    "# test de normalidad y homogeneidad para comparar las medias de SAME-TT2R2\n",
    "from scipy.stats import shapiro\n",
    "from scipy.stats import levene\n",
    "\n",
    "# test de homogeneidad\n",
    "stat, p = levene(df_sin_anomalos['TRT_6MESES_SIN_1_MES'][df_sin_anomalos['SAME-TT2R2'] == 0],\n",
    "                 df_sin_anomalos['TRT_6MESES_SIN_1_MES'][df_sin_anomalos['SAME-TT2R2'] == 1],\n",
    "                 df_sin_anomalos['TRT_6MESES_SIN_1_MES'][df_sin_anomalos['SAME-TT2R2'] == 2],\n",
    "                 df_sin_anomalos['TRT_6MESES_SIN_1_MES'][df_sin_anomalos['SAME-TT2R2'] == 3],\n",
    "                 df_sin_anomalos['TRT_6MESES_SIN_1_MES'][df_sin_anomalos['SAME-TT2R2'] == 4],\n",
    "                 df_sin_anomalos['TRT_6MESES_SIN_1_MES'][df_sin_anomalos['SAME-TT2R2'] == 5])\n",
    "print('stat=%.3f, p=%.3f' % (stat, p))\n",
    "if p > 0.05:\n",
    "    print('No se rechaza H0, las varianzas son iguales')\n",
    "else:\n",
    "    print('Se rechaza H0, las varianzas no son iguales')"
   ]
  },
  {
   "cell_type": "code",
   "execution_count": 350,
   "metadata": {},
   "outputs": [
    {
     "name": "stdout",
     "output_type": "stream",
     "text": [
      "KruskalResult(statistic=3.191888902777199, pvalue=0.5262420239205713)\n"
     ]
    }
   ],
   "source": [
    "# test de kruskal wallis para TRT_6MESES_SIN_1_MES para variables categoricas con mas de dos valores unicos\n",
    "from scipy.stats import kruskal\n",
    "\n",
    "# test de kruskal wallis\n",
    "print(kruskal(*[group[\"TRT_6MESES_SIN_1_MES\"].values for name, group in df_sin_anomalos.groupby('SAME-TT2R2')]))\n"
   ]
  },
  {
   "cell_type": "code",
   "execution_count": 187,
   "metadata": {},
   "outputs": [
    {
     "data": {
      "text/html": [
       "<div>\n",
       "<style scoped>\n",
       "    .dataframe tbody tr th:only-of-type {\n",
       "        vertical-align: middle;\n",
       "    }\n",
       "\n",
       "    .dataframe tbody tr th {\n",
       "        vertical-align: top;\n",
       "    }\n",
       "\n",
       "    .dataframe thead th {\n",
       "        text-align: right;\n",
       "    }\n",
       "</style>\n",
       "<table border=\"1\" class=\"dataframe\">\n",
       "  <thead>\n",
       "    <tr style=\"text-align: right;\">\n",
       "      <th></th>\n",
       "      <th>count</th>\n",
       "      <th>mean</th>\n",
       "      <th>std</th>\n",
       "      <th>min</th>\n",
       "      <th>25%</th>\n",
       "      <th>50%</th>\n",
       "      <th>75%</th>\n",
       "      <th>max</th>\n",
       "    </tr>\n",
       "    <tr>\n",
       "      <th>SAME-TT2R2</th>\n",
       "      <th></th>\n",
       "      <th></th>\n",
       "      <th></th>\n",
       "      <th></th>\n",
       "      <th></th>\n",
       "      <th></th>\n",
       "      <th></th>\n",
       "      <th></th>\n",
       "    </tr>\n",
       "  </thead>\n",
       "  <tbody>\n",
       "    <tr>\n",
       "      <th>0</th>\n",
       "      <td>162.0</td>\n",
       "      <td>58.576543</td>\n",
       "      <td>19.354601</td>\n",
       "      <td>12.5</td>\n",
       "      <td>44.40</td>\n",
       "      <td>57.1</td>\n",
       "      <td>71.400</td>\n",
       "      <td>100.0</td>\n",
       "    </tr>\n",
       "    <tr>\n",
       "      <th>1</th>\n",
       "      <td>290.0</td>\n",
       "      <td>57.051379</td>\n",
       "      <td>18.526155</td>\n",
       "      <td>0.0</td>\n",
       "      <td>44.40</td>\n",
       "      <td>55.6</td>\n",
       "      <td>71.400</td>\n",
       "      <td>100.0</td>\n",
       "    </tr>\n",
       "    <tr>\n",
       "      <th>2</th>\n",
       "      <td>242.0</td>\n",
       "      <td>58.407025</td>\n",
       "      <td>19.077951</td>\n",
       "      <td>0.0</td>\n",
       "      <td>44.40</td>\n",
       "      <td>55.6</td>\n",
       "      <td>71.400</td>\n",
       "      <td>100.0</td>\n",
       "    </tr>\n",
       "    <tr>\n",
       "      <th>3</th>\n",
       "      <td>193.0</td>\n",
       "      <td>55.851295</td>\n",
       "      <td>20.420224</td>\n",
       "      <td>0.0</td>\n",
       "      <td>41.20</td>\n",
       "      <td>50.0</td>\n",
       "      <td>71.400</td>\n",
       "      <td>100.0</td>\n",
       "    </tr>\n",
       "    <tr>\n",
       "      <th>4</th>\n",
       "      <td>99.0</td>\n",
       "      <td>53.800000</td>\n",
       "      <td>19.800170</td>\n",
       "      <td>20.0</td>\n",
       "      <td>40.85</td>\n",
       "      <td>50.0</td>\n",
       "      <td>66.700</td>\n",
       "      <td>100.0</td>\n",
       "    </tr>\n",
       "    <tr>\n",
       "      <th>5</th>\n",
       "      <td>14.0</td>\n",
       "      <td>54.264286</td>\n",
       "      <td>29.966458</td>\n",
       "      <td>5.9</td>\n",
       "      <td>27.30</td>\n",
       "      <td>50.0</td>\n",
       "      <td>83.025</td>\n",
       "      <td>100.0</td>\n",
       "    </tr>\n",
       "  </tbody>\n",
       "</table>\n",
       "</div>"
      ],
      "text/plain": [
       "            count       mean        std   min    25%   50%     75%    max\n",
       "SAME-TT2R2                                                               \n",
       "0           162.0  58.576543  19.354601  12.5  44.40  57.1  71.400  100.0\n",
       "1           290.0  57.051379  18.526155   0.0  44.40  55.6  71.400  100.0\n",
       "2           242.0  58.407025  19.077951   0.0  44.40  55.6  71.400  100.0\n",
       "3           193.0  55.851295  20.420224   0.0  41.20  50.0  71.400  100.0\n",
       "4            99.0  53.800000  19.800170  20.0  40.85  50.0  66.700  100.0\n",
       "5            14.0  54.264286  29.966458   5.9  27.30  50.0  83.025  100.0"
      ]
     },
     "execution_count": 187,
     "metadata": {},
     "output_type": "execute_result"
    }
   ],
   "source": [
    "# describe() de TRT_6MESES_SIN_1_MES para SAME-TT2R2\n",
    "df_sin_anomalos.groupby('SAME-TT2R2')['TRT_6MESES_SIN_1_MES'].describe()"
   ]
  },
  {
   "attachments": {},
   "cell_type": "markdown",
   "metadata": {},
   "source": [
    "### SAME-TT2R2_MAS2 vs TRT_6MESES_SIN_1_MES"
   ]
  },
  {
   "cell_type": "code",
   "execution_count": 188,
   "metadata": {},
   "outputs": [
    {
     "data": {
      "text/plain": [
       "1    548\n",
       "0    452\n",
       "Name: SAME-TT2R2_MAS2, dtype: int64"
      ]
     },
     "execution_count": 188,
     "metadata": {},
     "output_type": "execute_result"
    }
   ],
   "source": [
    "# dividir same en (0,1 = 0) y (2,3,4,5 = 1)\n",
    "df_sin_anomalos['SAME-TT2R2_MAS2'] = 0\n",
    "df_sin_anomalos.loc[df_sin_anomalos['SAME-TT2R2'] > 1, 'SAME-TT2R2_MAS2'] = 1\n",
    "df_sin_anomalos['SAME-TT2R2_MAS2'].value_counts()"
   ]
  },
  {
   "cell_type": "code",
   "execution_count": 189,
   "metadata": {},
   "outputs": [
    {
     "name": "stdout",
     "output_type": "stream",
     "text": [
      "SAME-TT2R2_MAS2 = 0\n",
      "ShapiroResult(statistic=0.9855981469154358, pvalue=0.00018657704640645534)\n",
      "\n",
      "SAME-TT2R2_MAS2 = 1\n",
      "ShapiroResult(statistic=0.9798827767372131, pvalue=7.366673457909201e-07)\n",
      "\n"
     ]
    }
   ],
   "source": [
    "# test de normalidad para TRT_6MESES_SIN_1_MES cuando SAME-TT2R2_MAS2 es 0 y 1 y decir si son normales o no\n",
    "from scipy.stats import shapiro\n",
    "\n",
    "for i in range(2):\n",
    "    print('SAME-TT2R2_MAS2 =', i)\n",
    "    print(shapiro(df_sin_anomalos[df_sin_anomalos['SAME-TT2R2_MAS2']==i]['TRT_6MESES_SIN_1_MES']))\n",
    "    print()"
   ]
  },
  {
   "cell_type": "code",
   "execution_count": 190,
   "metadata": {},
   "outputs": [
    {
     "name": "stdout",
     "output_type": "stream",
     "text": [
      "stat=1.983, p=0.159\n",
      "No se rechaza H0, las varianzas son iguales\n"
     ]
    }
   ],
   "source": [
    "# test de homocedasticidad\n",
    "stat, p = levene(df_sin_anomalos['TRT_6MESES_SIN_1_MES'][df_sin_anomalos['SAME-TT2R2_MAS2'] == 0],\n",
    "                df_sin_anomalos['TRT_6MESES_SIN_1_MES'][df_sin_anomalos['SAME-TT2R2_MAS2'] == 1])\n",
    "print('stat=%.3f, p=%.3f' % (stat, p))\n",
    "if p > 0.05:\n",
    "    print('No se rechaza H0, las varianzas son iguales')\n",
    "else:\n",
    "    print('Se rechaza H0, las varianzas no son iguales')"
   ]
  },
  {
   "cell_type": "code",
   "execution_count": 191,
   "metadata": {},
   "outputs": [
    {
     "name": "stdout",
     "output_type": "stream",
     "text": [
      "stat=128473.500, p=0.308\n",
      "No se rechaza H0, las medianas son iguales\n"
     ]
    }
   ],
   "source": [
    "# mann whitney para comparar las medias de SAME-TT2R2_2\n",
    "from scipy.stats import mannwhitneyu\n",
    "\n",
    "stat, p = mannwhitneyu(df_sin_anomalos['TRT_6MESES_SIN_1_MES'][df_sin_anomalos['SAME-TT2R2_MAS2'] == 0],\n",
    "                        df_sin_anomalos['TRT_6MESES_SIN_1_MES'][df_sin_anomalos['SAME-TT2R2_MAS2'] == 1])\n",
    "print('stat=%.3f, p=%.3f' % (stat, p))\n",
    "if p > 0.05:\n",
    "    print('No se rechaza H0, las medianas son iguales')\n",
    "else:\n",
    "    print('Se rechaza H0, las medianas no son iguales')"
   ]
  },
  {
   "cell_type": "code",
   "execution_count": 192,
   "metadata": {},
   "outputs": [
    {
     "data": {
      "image/png": "[encoded data removed]",
      "text/plain": [
       "<Figure size 1000x500 with 1 Axes>"
      ]
     },
     "metadata": {},
     "output_type": "display_data"
    }
   ],
   "source": [
    "# boxplot de TRT_6MESES_SIN_1_MES y SAME-TT2R2_2\n",
    "plt.figure(figsize=(10,5))\n",
    "sns.boxplot(y='TRT_6MESES_SIN_1_MES', x='SAME-TT2R2_MAS2', data=df_sin_anomalos)\n",
    "plt.show()"
   ]
  },
  {
   "cell_type": "code",
   "execution_count": 193,
   "metadata": {},
   "outputs": [
    {
     "data": {
      "text/html": [
       "<div>\n",
       "<style scoped>\n",
       "    .dataframe tbody tr th:only-of-type {\n",
       "        vertical-align: middle;\n",
       "    }\n",
       "\n",
       "    .dataframe tbody tr th {\n",
       "        vertical-align: top;\n",
       "    }\n",
       "\n",
       "    .dataframe thead th {\n",
       "        text-align: right;\n",
       "    }\n",
       "</style>\n",
       "<table border=\"1\" class=\"dataframe\">\n",
       "  <thead>\n",
       "    <tr style=\"text-align: right;\">\n",
       "      <th></th>\n",
       "      <th>count</th>\n",
       "      <th>mean</th>\n",
       "      <th>std</th>\n",
       "      <th>min</th>\n",
       "      <th>25%</th>\n",
       "      <th>50%</th>\n",
       "      <th>75%</th>\n",
       "      <th>max</th>\n",
       "    </tr>\n",
       "    <tr>\n",
       "      <th>SAME-TT2R2_MAS2</th>\n",
       "      <th></th>\n",
       "      <th></th>\n",
       "      <th></th>\n",
       "      <th></th>\n",
       "      <th></th>\n",
       "      <th></th>\n",
       "      <th></th>\n",
       "      <th></th>\n",
       "    </tr>\n",
       "  </thead>\n",
       "  <tbody>\n",
       "    <tr>\n",
       "      <th>0</th>\n",
       "      <td>452.0</td>\n",
       "      <td>57.598009</td>\n",
       "      <td>18.820107</td>\n",
       "      <td>0.0</td>\n",
       "      <td>44.4</td>\n",
       "      <td>55.6</td>\n",
       "      <td>71.4</td>\n",
       "      <td>100.0</td>\n",
       "    </tr>\n",
       "    <tr>\n",
       "      <th>1</th>\n",
       "      <td>548.0</td>\n",
       "      <td>56.568796</td>\n",
       "      <td>20.037551</td>\n",
       "      <td>0.0</td>\n",
       "      <td>42.9</td>\n",
       "      <td>54.5</td>\n",
       "      <td>71.4</td>\n",
       "      <td>100.0</td>\n",
       "    </tr>\n",
       "  </tbody>\n",
       "</table>\n",
       "</div>"
      ],
      "text/plain": [
       "                 count       mean        std  min   25%   50%   75%    max\n",
       "SAME-TT2R2_MAS2                                                           \n",
       "0                452.0  57.598009  18.820107  0.0  44.4  55.6  71.4  100.0\n",
       "1                548.0  56.568796  20.037551  0.0  42.9  54.5  71.4  100.0"
      ]
     },
     "execution_count": 193,
     "metadata": {},
     "output_type": "execute_result"
    }
   ],
   "source": [
    "df_sin_anomalos.groupby('SAME-TT2R2_MAS2')['TRT_6MESES_SIN_1_MES'].describe()"
   ]
  },
  {
   "attachments": {},
   "cell_type": "markdown",
   "metadata": {},
   "source": [
    "### SAME-TT2R2_MAS3 vs TRT_6MESES_SIN_1_MES"
   ]
  },
  {
   "cell_type": "code",
   "execution_count": 194,
   "metadata": {},
   "outputs": [
    {
     "data": {
      "text/plain": [
       "0    694\n",
       "1    306\n",
       "Name: SAME-TT2R2_MAS3, dtype: int64"
      ]
     },
     "execution_count": 194,
     "metadata": {},
     "output_type": "execute_result"
    }
   ],
   "source": [
    "#dividir same en (0,1,2 = 0) y (3,4,5 = 1)\n",
    "df_sin_anomalos['SAME-TT2R2_MAS3'] = 0\n",
    "df_sin_anomalos.loc[df_sin_anomalos['SAME-TT2R2'] > 2, 'SAME-TT2R2_MAS3'] = 1\n",
    "df_sin_anomalos['SAME-TT2R2_MAS3'].value_counts()"
   ]
  },
  {
   "cell_type": "code",
   "execution_count": 195,
   "metadata": {},
   "outputs": [
    {
     "name": "stdout",
     "output_type": "stream",
     "text": [
      "SAME-TT2R2_MAS3 = 0\n",
      "ShapiroResult(statistic=0.9843886494636536, pvalue=9.315651254837576e-07)\n",
      "\n",
      "SAME-TT2R2_MAS3 = 1\n",
      "ShapiroResult(statistic=0.9762479066848755, pvalue=5.883157791686244e-05)\n",
      "\n"
     ]
    }
   ],
   "source": [
    "for i in range(2):\n",
    "    print('SAME-TT2R2_MAS3 =', i)\n",
    "    print(shapiro(df_sin_anomalos[df_sin_anomalos['SAME-TT2R2_MAS3']==i]['TRT_6MESES_SIN_1_MES']))\n",
    "    print()"
   ]
  },
  {
   "cell_type": "code",
   "execution_count": 196,
   "metadata": {},
   "outputs": [
    {
     "name": "stdout",
     "output_type": "stream",
     "text": [
      "stat=2.416, p=0.120\n",
      "No se rechaza H0, las varianzas son iguales\n"
     ]
    }
   ],
   "source": [
    "# test de homocedasticidad\n",
    "stat, p = levene(df_sin_anomalos['TRT_6MESES_SIN_1_MES'][df_sin_anomalos['SAME-TT2R2_MAS3'] == 0],\n",
    "                df_sin_anomalos['TRT_6MESES_SIN_1_MES'][df_sin_anomalos['SAME-TT2R2_MAS3'] == 1])\n",
    "print('stat=%.3f, p=%.3f' % (stat, p))\n",
    "if p > 0.05:\n",
    "    print('No se rechaza H0, las varianzas son iguales')\n",
    "else:\n",
    "    print('Se rechaza H0, las varianzas no son iguales')"
   ]
  },
  {
   "cell_type": "code",
   "execution_count": 197,
   "metadata": {},
   "outputs": [
    {
     "name": "stdout",
     "output_type": "stream",
     "text": [
      "stat=115827.000, p=0.022\n",
      "Se rechaza H0, las medianas no son iguales\n"
     ]
    }
   ],
   "source": [
    "# test de mann whitney para comparar las medianas de SAME-TT2R2_3\n",
    "\n",
    "stat, p = mannwhitneyu(df_sin_anomalos['TRT_6MESES_SIN_1_MES'][df_sin_anomalos['SAME-TT2R2_MAS3'] == 0],\n",
    "                        df_sin_anomalos['TRT_6MESES_SIN_1_MES'][df_sin_anomalos['SAME-TT2R2_MAS3'] == 1])\n",
    "print('stat=%.3f, p=%.3f' % (stat, p))\n",
    "if p > 0.05:\n",
    "    print('No se rechaza H0, las medianas son iguales')\n",
    "else:\n",
    "    print('Se rechaza H0, las medianas no son iguales')"
   ]
  },
  {
   "cell_type": "code",
   "execution_count": 309,
   "metadata": {},
   "outputs": [
    {
     "data": {
      "image/png": "[encoded data removed]",
      "text/plain": [
       "<Figure size 1000x500 with 1 Axes>"
      ]
     },
     "metadata": {},
     "output_type": "display_data"
    }
   ],
   "source": [
    "# violines de TRT_6MESES_SIN_1_MES y SAME-TT2R2_3\n",
    "plt.figure(figsize=(10,5))\n",
    "sns.violinplot(y='TRT_6MESES_SIN_1_MES', x='SAME-TT2R2_MAS3', data=df_sin_anomalos)\n",
    "# cambiar nombre de los ejes\n",
    "plt.ylabel('TRT')\n",
    "# titulo\n",
    "plt.title('TRT vs SAME-TT2R2_MAS3')\n",
    "plt.show()"
   ]
  },
  {
   "cell_type": "code",
   "execution_count": 198,
   "metadata": {},
   "outputs": [
    {
     "data": {
      "image/png": "[encoded data removed]",
      "text/plain": [
       "<Figure size 1000x500 with 1 Axes>"
      ]
     },
     "metadata": {},
     "output_type": "display_data"
    }
   ],
   "source": [
    "plt.figure(figsize=(10,5))\n",
    "sns.boxplot(y='TRT_6MESES_SIN_1_MES', x='SAME-TT2R2_MAS3', data=df_sin_anomalos)\n",
    "# cambiar los labels del eje x\n",
    "plt.xticks([0,1], ['<3', '>=3'])\n",
    "#cambia el titulo del eje x\n",
    "plt.xlabel('SAME-TT2R2')\n",
    "plt.ylabel(\"TRT\")\n",
    "plt.show()"
   ]
  },
  {
   "cell_type": "code",
   "execution_count": 199,
   "metadata": {},
   "outputs": [
    {
     "data": {
      "text/html": [
       "<div>\n",
       "<style scoped>\n",
       "    .dataframe tbody tr th:only-of-type {\n",
       "        vertical-align: middle;\n",
       "    }\n",
       "\n",
       "    .dataframe tbody tr th {\n",
       "        vertical-align: top;\n",
       "    }\n",
       "\n",
       "    .dataframe thead th {\n",
       "        text-align: right;\n",
       "    }\n",
       "</style>\n",
       "<table border=\"1\" class=\"dataframe\">\n",
       "  <thead>\n",
       "    <tr style=\"text-align: right;\">\n",
       "      <th></th>\n",
       "      <th>count</th>\n",
       "      <th>mean</th>\n",
       "      <th>std</th>\n",
       "      <th>min</th>\n",
       "      <th>25%</th>\n",
       "      <th>50%</th>\n",
       "      <th>75%</th>\n",
       "      <th>max</th>\n",
       "    </tr>\n",
       "    <tr>\n",
       "      <th>SAME-TT2R2_MAS3</th>\n",
       "      <th></th>\n",
       "      <th></th>\n",
       "      <th></th>\n",
       "      <th></th>\n",
       "      <th></th>\n",
       "      <th></th>\n",
       "      <th></th>\n",
       "      <th></th>\n",
       "    </tr>\n",
       "  </thead>\n",
       "  <tbody>\n",
       "    <tr>\n",
       "      <th>0</th>\n",
       "      <td>694.0</td>\n",
       "      <td>57.880115</td>\n",
       "      <td>18.900594</td>\n",
       "      <td>0.0</td>\n",
       "      <td>44.4</td>\n",
       "      <td>55.6</td>\n",
       "      <td>71.4</td>\n",
       "      <td>100.0</td>\n",
       "    </tr>\n",
       "    <tr>\n",
       "      <th>1</th>\n",
       "      <td>306.0</td>\n",
       "      <td>55.115033</td>\n",
       "      <td>20.680363</td>\n",
       "      <td>0.0</td>\n",
       "      <td>40.0</td>\n",
       "      <td>50.0</td>\n",
       "      <td>71.4</td>\n",
       "      <td>100.0</td>\n",
       "    </tr>\n",
       "  </tbody>\n",
       "</table>\n",
       "</div>"
      ],
      "text/plain": [
       "                 count       mean        std  min   25%   50%   75%    max\n",
       "SAME-TT2R2_MAS3                                                           \n",
       "0                694.0  57.880115  18.900594  0.0  44.4  55.6  71.4  100.0\n",
       "1                306.0  55.115033  20.680363  0.0  40.0  50.0  71.4  100.0"
      ]
     },
     "execution_count": 199,
     "metadata": {},
     "output_type": "execute_result"
    }
   ],
   "source": [
    "df_sin_anomalos.groupby('SAME-TT2R2_MAS3')['TRT_6MESES_SIN_1_MES'].describe()"
   ]
  },
  {
   "attachments": {},
   "cell_type": "markdown",
   "metadata": {},
   "source": [
    "### SAME-TT2R2_MAS4 vs TRT_6MESES_SIN_1_MES"
   ]
  },
  {
   "cell_type": "code",
   "execution_count": 200,
   "metadata": {},
   "outputs": [
    {
     "name": "stdout",
     "output_type": "stream",
     "text": [
      "SAME-TT2R2_MAS4 = 0\n",
      "ShapiroResult(statistic=0.9829010367393494, pvalue=1.1281454881384434e-08)\n",
      "\n",
      "SAME-TT2R2_MAS4 = 1\n",
      "ShapiroResult(statistic=0.9735445976257324, pvalue=0.024219101294875145)\n",
      "\n"
     ]
    }
   ],
   "source": [
    "# dividir same en (0,1,2,3 = 0) y (4,5 = 1)\n",
    "df_sin_anomalos['SAME-TT2R2_MAS4'] = 0\n",
    "df_sin_anomalos.loc[df_sin_anomalos['SAME-TT2R2'] > 3, 'SAME-TT2R2_MAS4'] = 1\n",
    "\n",
    "for i in range(2):\n",
    "    print('SAME-TT2R2_MAS4 =', i)\n",
    "    print(shapiro(df_sin_anomalos[df_sin_anomalos['SAME-TT2R2_MAS4']==i]['TRT_6MESES_SIN_1_MES']))\n",
    "    print()"
   ]
  },
  {
   "cell_type": "code",
   "execution_count": 201,
   "metadata": {},
   "outputs": [
    {
     "data": {
      "text/plain": [
       "0    887\n",
       "1    113\n",
       "Name: SAME-TT2R2_MAS4, dtype: int64"
      ]
     },
     "execution_count": 201,
     "metadata": {},
     "output_type": "execute_result"
    }
   ],
   "source": [
    "df_sin_anomalos['SAME-TT2R2_MAS4'].value_counts()"
   ]
  },
  {
   "cell_type": "code",
   "execution_count": 202,
   "metadata": {},
   "outputs": [
    {
     "name": "stdout",
     "output_type": "stream",
     "text": [
      "stat=1.367, p=0.243\n",
      "No se rechaza H0, las varianzas son iguales\n"
     ]
    }
   ],
   "source": [
    "stat, p = levene(df_sin_anomalos['TRT_6MESES_SIN_1_MES'][df_sin_anomalos['SAME-TT2R2_MAS4'] == 0],\n",
    "                df_sin_anomalos['TRT_6MESES_SIN_1_MES'][df_sin_anomalos['SAME-TT2R2_MAS4'] == 1])\n",
    "print('stat=%.3f, p=%.3f' % (stat, p))\n",
    "if p > 0.05:\n",
    "    print('No se rechaza H0, las varianzas son iguales')\n",
    "else:\n",
    "    print('Se rechaza H0, las varianzas no son iguales')"
   ]
  },
  {
   "cell_type": "code",
   "execution_count": 203,
   "metadata": {},
   "outputs": [
    {
     "name": "stdout",
     "output_type": "stream",
     "text": [
      "stat=55552.500, p=0.059\n",
      "No se rechaza H0, las medianas son iguales\n"
     ]
    }
   ],
   "source": [
    "# test de mann whitney para comparar las medianas de SAME-TT2R2_3\n",
    "\n",
    "stat, p = mannwhitneyu(df_sin_anomalos['TRT_6MESES_SIN_1_MES'][df_sin_anomalos['SAME-TT2R2_MAS4'] == 0],\n",
    "                        df_sin_anomalos['TRT_6MESES_SIN_1_MES'][df_sin_anomalos['SAME-TT2R2_MAS4'] == 1])\n",
    "print('stat=%.3f, p=%.3f' % (stat, p))\n",
    "if p > 0.05:\n",
    "    print('No se rechaza H0, las medianas son iguales')\n",
    "else:\n",
    "    print('Se rechaza H0, las medianas no son iguales')"
   ]
  },
  {
   "cell_type": "code",
   "execution_count": 204,
   "metadata": {},
   "outputs": [
    {
     "data": {
      "image/png": "[encoded data removed]",
      "text/plain": [
       "<Figure size 1000x500 with 1 Axes>"
      ]
     },
     "metadata": {},
     "output_type": "display_data"
    }
   ],
   "source": [
    "plt.figure(figsize=(10,5))\n",
    "sns.boxplot(y='TRT_6MESES_SIN_1_MES', x='SAME-TT2R2_MAS4', data=df_sin_anomalos)\n",
    "plt.show()"
   ]
  },
  {
   "cell_type": "code",
   "execution_count": 205,
   "metadata": {},
   "outputs": [
    {
     "data": {
      "text/html": [
       "<div>\n",
       "<style scoped>\n",
       "    .dataframe tbody tr th:only-of-type {\n",
       "        vertical-align: middle;\n",
       "    }\n",
       "\n",
       "    .dataframe tbody tr th {\n",
       "        vertical-align: top;\n",
       "    }\n",
       "\n",
       "    .dataframe thead th {\n",
       "        text-align: right;\n",
       "    }\n",
       "</style>\n",
       "<table border=\"1\" class=\"dataframe\">\n",
       "  <thead>\n",
       "    <tr style=\"text-align: right;\">\n",
       "      <th></th>\n",
       "      <th>count</th>\n",
       "      <th>mean</th>\n",
       "      <th>std</th>\n",
       "      <th>min</th>\n",
       "      <th>25%</th>\n",
       "      <th>50%</th>\n",
       "      <th>75%</th>\n",
       "      <th>max</th>\n",
       "    </tr>\n",
       "    <tr>\n",
       "      <th>SAME-TT2R2_MAS4</th>\n",
       "      <th></th>\n",
       "      <th></th>\n",
       "      <th></th>\n",
       "      <th></th>\n",
       "      <th></th>\n",
       "      <th></th>\n",
       "      <th></th>\n",
       "      <th></th>\n",
       "    </tr>\n",
       "  </thead>\n",
       "  <tbody>\n",
       "    <tr>\n",
       "      <th>0</th>\n",
       "      <td>887.0</td>\n",
       "      <td>57.438670</td>\n",
       "      <td>19.247845</td>\n",
       "      <td>0.0</td>\n",
       "      <td>44.4</td>\n",
       "      <td>55.6</td>\n",
       "      <td>71.4</td>\n",
       "      <td>100.0</td>\n",
       "    </tr>\n",
       "    <tr>\n",
       "      <th>1</th>\n",
       "      <td>113.0</td>\n",
       "      <td>53.857522</td>\n",
       "      <td>21.149357</td>\n",
       "      <td>5.9</td>\n",
       "      <td>37.5</td>\n",
       "      <td>50.0</td>\n",
       "      <td>71.4</td>\n",
       "      <td>100.0</td>\n",
       "    </tr>\n",
       "  </tbody>\n",
       "</table>\n",
       "</div>"
      ],
      "text/plain": [
       "                 count       mean        std  min   25%   50%   75%    max\n",
       "SAME-TT2R2_MAS4                                                           \n",
       "0                887.0  57.438670  19.247845  0.0  44.4  55.6  71.4  100.0\n",
       "1                113.0  53.857522  21.149357  5.9  37.5  50.0  71.4  100.0"
      ]
     },
     "execution_count": 205,
     "metadata": {},
     "output_type": "execute_result"
    }
   ],
   "source": [
    "df_sin_anomalos.groupby('SAME-TT2R2_MAS4')['TRT_6MESES_SIN_1_MES'].describe()"
   ]
  },
  {
   "attachments": {},
   "cell_type": "markdown",
   "metadata": {},
   "source": [
    "### TRT vs SAME-TT2R2"
   ]
  },
  {
   "cell_type": "code",
   "execution_count": 306,
   "metadata": {},
   "outputs": [
    {
     "data": {
      "text/plain": [
       "0    660\n",
       "1    340\n",
       "Name: TRT, dtype: int64"
      ]
     },
     "execution_count": 306,
     "metadata": {},
     "output_type": "execute_result"
    }
   ],
   "source": [
    "# value counts de TRT\n",
    "df_sin_anomalos['TRT'].value_counts()"
   ]
  },
  {
   "cell_type": "code",
   "execution_count": 355,
   "metadata": {},
   "outputs": [
    {
     "name": "stdout",
     "output_type": "stream",
     "text": [
      "stat=5.336, p=0.376\n",
      "No se rechaza H0, las variables son independientes\n"
     ]
    }
   ],
   "source": [
    "# test chi cuadrado para SAME-TT2R2\n",
    "from scipy.stats import chi2_contingency\n",
    "\n",
    "# test chi cuadrado\n",
    "stat, p, dof, expected = chi2_contingency(pd.crosstab(df_sin_anomalos['SAME-TT2R2_prueba'], df_sin_anomalos['TRT']))\n",
    "print('stat=%.3f, p=%.3f' % (stat, p))\n",
    "if p > 0.05:\n",
    "    print('No se rechaza H0, las variables son independientes')\n",
    "else:\n",
    "    print('Se rechaza H0, las variables no son independientes')"
   ]
  },
  {
   "cell_type": "code",
   "execution_count": 207,
   "metadata": {},
   "outputs": [
    {
     "data": {
      "text/html": [
       "<div>\n",
       "<style scoped>\n",
       "    .dataframe tbody tr th:only-of-type {\n",
       "        vertical-align: middle;\n",
       "    }\n",
       "\n",
       "    .dataframe tbody tr th {\n",
       "        vertical-align: top;\n",
       "    }\n",
       "\n",
       "    .dataframe thead th {\n",
       "        text-align: right;\n",
       "    }\n",
       "</style>\n",
       "<table border=\"1\" class=\"dataframe\">\n",
       "  <thead>\n",
       "    <tr style=\"text-align: right;\">\n",
       "      <th>TRT</th>\n",
       "      <th>0</th>\n",
       "      <th>1</th>\n",
       "    </tr>\n",
       "    <tr>\n",
       "      <th>SAME-TT2R2</th>\n",
       "      <th></th>\n",
       "      <th></th>\n",
       "    </tr>\n",
       "  </thead>\n",
       "  <tbody>\n",
       "    <tr>\n",
       "      <th>0</th>\n",
       "      <td>98</td>\n",
       "      <td>64</td>\n",
       "    </tr>\n",
       "    <tr>\n",
       "      <th>1</th>\n",
       "      <td>198</td>\n",
       "      <td>92</td>\n",
       "    </tr>\n",
       "    <tr>\n",
       "      <th>2</th>\n",
       "      <td>154</td>\n",
       "      <td>88</td>\n",
       "    </tr>\n",
       "    <tr>\n",
       "      <th>3</th>\n",
       "      <td>130</td>\n",
       "      <td>63</td>\n",
       "    </tr>\n",
       "    <tr>\n",
       "      <th>4</th>\n",
       "      <td>72</td>\n",
       "      <td>27</td>\n",
       "    </tr>\n",
       "    <tr>\n",
       "      <th>5</th>\n",
       "      <td>8</td>\n",
       "      <td>6</td>\n",
       "    </tr>\n",
       "  </tbody>\n",
       "</table>\n",
       "</div>"
      ],
      "text/plain": [
       "TRT           0   1\n",
       "SAME-TT2R2         \n",
       "0            98  64\n",
       "1           198  92\n",
       "2           154  88\n",
       "3           130  63\n",
       "4            72  27\n",
       "5             8   6"
      ]
     },
     "execution_count": 207,
     "metadata": {},
     "output_type": "execute_result"
    }
   ],
   "source": [
    "# value counts de SAME-TT2R2 segun TRT\n",
    "pd.crosstab(df_sin_anomalos['SAME-TT2R2'], df_sin_anomalos['TRT'])\n"
   ]
  },
  {
   "cell_type": "code",
   "execution_count": 208,
   "metadata": {},
   "outputs": [
    {
     "name": "stdout",
     "output_type": "stream",
     "text": [
      "stat=0.711, p=0.100\n",
      "No se rechaza H0, las variables son independientes\n"
     ]
    }
   ],
   "source": [
    "# fisher test entre SAME-TT2R2 = (0 y 1) y TRT\n",
    "from scipy.stats import fisher_exact\n",
    "SAME_0_1 = df_sin_anomalos[df_sin_anomalos['SAME-TT2R2'] < 2]\n",
    "\n",
    "stat, p = fisher_exact(pd.crosstab(SAME_0_1[\"SAME-TT2R2\"], df_sin_anomalos['TRT']))\n",
    "print('stat=%.3f, p=%.3f' % (stat, p))\n",
    "if p > 0.05:\n",
    "    print('No se rechaza H0, las variables son independientes')\n",
    "else:\n",
    "    print('Se rechaza H0, las variables no son independientes')\n"
   ]
  },
  {
   "cell_type": "code",
   "execution_count": 209,
   "metadata": {},
   "outputs": [
    {
     "data": {
      "text/html": [
       "<div>\n",
       "<style scoped>\n",
       "    .dataframe tbody tr th:only-of-type {\n",
       "        vertical-align: middle;\n",
       "    }\n",
       "\n",
       "    .dataframe tbody tr th {\n",
       "        vertical-align: top;\n",
       "    }\n",
       "\n",
       "    .dataframe thead th {\n",
       "        text-align: right;\n",
       "    }\n",
       "</style>\n",
       "<table border=\"1\" class=\"dataframe\">\n",
       "  <thead>\n",
       "    <tr style=\"text-align: right;\">\n",
       "      <th>TRT</th>\n",
       "      <th>0</th>\n",
       "      <th>1</th>\n",
       "    </tr>\n",
       "    <tr>\n",
       "      <th>SAME-TT2R2</th>\n",
       "      <th></th>\n",
       "      <th></th>\n",
       "    </tr>\n",
       "  </thead>\n",
       "  <tbody>\n",
       "    <tr>\n",
       "      <th>0</th>\n",
       "      <td>98</td>\n",
       "      <td>64</td>\n",
       "    </tr>\n",
       "    <tr>\n",
       "      <th>1</th>\n",
       "      <td>198</td>\n",
       "      <td>92</td>\n",
       "    </tr>\n",
       "  </tbody>\n",
       "</table>\n",
       "</div>"
      ],
      "text/plain": [
       "TRT           0   1\n",
       "SAME-TT2R2         \n",
       "0            98  64\n",
       "1           198  92"
      ]
     },
     "execution_count": 209,
     "metadata": {},
     "output_type": "execute_result"
    }
   ],
   "source": [
    "# cross tab de SAME-TT2R2 = (0 y 1) y TRT\n",
    "pd.crosstab(SAME_0_1[\"SAME-TT2R2\"], df_sin_anomalos['TRT'])"
   ]
  },
  {
   "cell_type": "code",
   "execution_count": 210,
   "metadata": {},
   "outputs": [
    {
     "name": "stdout",
     "output_type": "stream",
     "text": [
      "stat=0.875, p=0.531\n",
      "No se rechaza H0, las variables son independientes\n"
     ]
    }
   ],
   "source": [
    "#escoger aquellas filas donde SAME-TT2R2 = 0 y SAME-TT2R2 = 2\n",
    "SAME_0_2 = df_sin_anomalos[(df_sin_anomalos['SAME-TT2R2'] == 0) | (df_sin_anomalos['SAME-TT2R2'] == 2)]\n",
    "\n",
    "stat, p = fisher_exact(pd.crosstab(SAME_0_2[\"SAME-TT2R2\"], df_sin_anomalos['TRT']))\n",
    "print('stat=%.3f, p=%.3f' % (stat, p))\n",
    "if p > 0.05:\n",
    "    print('No se rechaza H0, las variables son independientes')\n",
    "else:\n",
    "    print('Se rechaza H0, las variables no son independientes')"
   ]
  },
  {
   "cell_type": "code",
   "execution_count": 211,
   "metadata": {},
   "outputs": [
    {
     "data": {
      "text/html": [
       "<div>\n",
       "<style scoped>\n",
       "    .dataframe tbody tr th:only-of-type {\n",
       "        vertical-align: middle;\n",
       "    }\n",
       "\n",
       "    .dataframe tbody tr th {\n",
       "        vertical-align: top;\n",
       "    }\n",
       "\n",
       "    .dataframe thead th {\n",
       "        text-align: right;\n",
       "    }\n",
       "</style>\n",
       "<table border=\"1\" class=\"dataframe\">\n",
       "  <thead>\n",
       "    <tr style=\"text-align: right;\">\n",
       "      <th>TRT</th>\n",
       "      <th>0</th>\n",
       "      <th>1</th>\n",
       "    </tr>\n",
       "    <tr>\n",
       "      <th>SAME-TT2R2</th>\n",
       "      <th></th>\n",
       "      <th></th>\n",
       "    </tr>\n",
       "  </thead>\n",
       "  <tbody>\n",
       "    <tr>\n",
       "      <th>0</th>\n",
       "      <td>98</td>\n",
       "      <td>64</td>\n",
       "    </tr>\n",
       "    <tr>\n",
       "      <th>2</th>\n",
       "      <td>154</td>\n",
       "      <td>88</td>\n",
       "    </tr>\n",
       "  </tbody>\n",
       "</table>\n",
       "</div>"
      ],
      "text/plain": [
       "TRT           0   1\n",
       "SAME-TT2R2         \n",
       "0            98  64\n",
       "2           154  88"
      ]
     },
     "execution_count": 211,
     "metadata": {},
     "output_type": "execute_result"
    }
   ],
   "source": [
    "# cross tab de SAME-TT2R2 = (0 y 2) y TRT\n",
    "pd.crosstab(SAME_0_2[\"SAME-TT2R2\"], df_sin_anomalos['TRT'])"
   ]
  },
  {
   "cell_type": "code",
   "execution_count": 212,
   "metadata": {},
   "outputs": [
    {
     "name": "stdout",
     "output_type": "stream",
     "text": [
      "stat=0.742, p=0.184\n",
      "No se rechaza H0, las variables son independientes\n"
     ]
    }
   ],
   "source": [
    "SAME_0_3 = df_sin_anomalos[(df_sin_anomalos['SAME-TT2R2'] == 0) | (df_sin_anomalos['SAME-TT2R2'] == 3)]\n",
    "\n",
    "stat, p = fisher_exact(pd.crosstab(SAME_0_3[\"SAME-TT2R2\"], df_sin_anomalos['TRT']))\n",
    "print('stat=%.3f, p=%.3f' % (stat, p))\n",
    "if p > 0.05:\n",
    "    print('No se rechaza H0, las variables son independientes')\n",
    "else:\n",
    "    print('Se rechaza H0, las variables no son independientes')"
   ]
  },
  {
   "cell_type": "code",
   "execution_count": 213,
   "metadata": {},
   "outputs": [
    {
     "data": {
      "text/html": [
       "<div>\n",
       "<style scoped>\n",
       "    .dataframe tbody tr th:only-of-type {\n",
       "        vertical-align: middle;\n",
       "    }\n",
       "\n",
       "    .dataframe tbody tr th {\n",
       "        vertical-align: top;\n",
       "    }\n",
       "\n",
       "    .dataframe thead th {\n",
       "        text-align: right;\n",
       "    }\n",
       "</style>\n",
       "<table border=\"1\" class=\"dataframe\">\n",
       "  <thead>\n",
       "    <tr style=\"text-align: right;\">\n",
       "      <th>TRT</th>\n",
       "      <th>0</th>\n",
       "      <th>1</th>\n",
       "    </tr>\n",
       "    <tr>\n",
       "      <th>SAME-TT2R2</th>\n",
       "      <th></th>\n",
       "      <th></th>\n",
       "    </tr>\n",
       "  </thead>\n",
       "  <tbody>\n",
       "    <tr>\n",
       "      <th>0</th>\n",
       "      <td>98</td>\n",
       "      <td>64</td>\n",
       "    </tr>\n",
       "    <tr>\n",
       "      <th>3</th>\n",
       "      <td>130</td>\n",
       "      <td>63</td>\n",
       "    </tr>\n",
       "  </tbody>\n",
       "</table>\n",
       "</div>"
      ],
      "text/plain": [
       "TRT           0   1\n",
       "SAME-TT2R2         \n",
       "0            98  64\n",
       "3           130  63"
      ]
     },
     "execution_count": 213,
     "metadata": {},
     "output_type": "execute_result"
    }
   ],
   "source": [
    "# cross tab de SAME-TT2R2 = (0 y 3) y TRT\n",
    "pd.crosstab(SAME_0_3[\"SAME-TT2R2\"], df_sin_anomalos['TRT'])"
   ]
  },
  {
   "cell_type": "code",
   "execution_count": 214,
   "metadata": {},
   "outputs": [
    {
     "name": "stdout",
     "output_type": "stream",
     "text": [
      "stat=0.574, p=0.046\n",
      "Se rechaza H0, las variables no son independientes\n"
     ]
    }
   ],
   "source": [
    "SAME_0_4 = df_sin_anomalos[(df_sin_anomalos['SAME-TT2R2'] == 0) | (df_sin_anomalos['SAME-TT2R2'] == 4)]\n",
    "\n",
    "stat, p = fisher_exact(pd.crosstab(SAME_0_4[\"SAME-TT2R2\"], df_sin_anomalos['TRT']))\n",
    "print('stat=%.3f, p=%.3f' % (stat, p))\n",
    "if p > 0.05:\n",
    "    print('No se rechaza H0, las variables son independientes')\n",
    "else:\n",
    "    print('Se rechaza H0, las variables no son independientes')"
   ]
  },
  {
   "cell_type": "code",
   "execution_count": 215,
   "metadata": {},
   "outputs": [
    {
     "data": {
      "text/html": [
       "<div>\n",
       "<style scoped>\n",
       "    .dataframe tbody tr th:only-of-type {\n",
       "        vertical-align: middle;\n",
       "    }\n",
       "\n",
       "    .dataframe tbody tr th {\n",
       "        vertical-align: top;\n",
       "    }\n",
       "\n",
       "    .dataframe thead th {\n",
       "        text-align: right;\n",
       "    }\n",
       "</style>\n",
       "<table border=\"1\" class=\"dataframe\">\n",
       "  <thead>\n",
       "    <tr style=\"text-align: right;\">\n",
       "      <th>TRT</th>\n",
       "      <th>0</th>\n",
       "      <th>1</th>\n",
       "    </tr>\n",
       "    <tr>\n",
       "      <th>SAME-TT2R2</th>\n",
       "      <th></th>\n",
       "      <th></th>\n",
       "    </tr>\n",
       "  </thead>\n",
       "  <tbody>\n",
       "    <tr>\n",
       "      <th>0</th>\n",
       "      <td>98</td>\n",
       "      <td>64</td>\n",
       "    </tr>\n",
       "    <tr>\n",
       "      <th>4</th>\n",
       "      <td>72</td>\n",
       "      <td>27</td>\n",
       "    </tr>\n",
       "  </tbody>\n",
       "</table>\n",
       "</div>"
      ],
      "text/plain": [
       "TRT          0   1\n",
       "SAME-TT2R2        \n",
       "0           98  64\n",
       "4           72  27"
      ]
     },
     "execution_count": 215,
     "metadata": {},
     "output_type": "execute_result"
    }
   ],
   "source": [
    "# cross tab de SAME-TT2R2 = (0 y 4) y TRT\n",
    "pd.crosstab(SAME_0_4[\"SAME-TT2R2\"], df_sin_anomalos['TRT'])"
   ]
  },
  {
   "cell_type": "code",
   "execution_count": 216,
   "metadata": {},
   "outputs": [
    {
     "name": "stdout",
     "output_type": "stream",
     "text": [
      "stat=1.148, p=0.785\n",
      "No se rechaza H0, las variables son independientes\n"
     ]
    }
   ],
   "source": [
    "SAME_0_5 = df_sin_anomalos[(df_sin_anomalos['SAME-TT2R2'] == 0) | (df_sin_anomalos['SAME-TT2R2'] == 5)]\n",
    "\n",
    "stat, p = fisher_exact(pd.crosstab(SAME_0_5[\"SAME-TT2R2\"], df_sin_anomalos['TRT']))\n",
    "print('stat=%.3f, p=%.3f' % (stat, p))\n",
    "if p > 0.05:\n",
    "    print('No se rechaza H0, las variables son independientes')\n",
    "else:\n",
    "    print('Se rechaza H0, las variables no son independientes')"
   ]
  },
  {
   "cell_type": "code",
   "execution_count": 217,
   "metadata": {},
   "outputs": [
    {
     "data": {
      "text/html": [
       "<div>\n",
       "<style scoped>\n",
       "    .dataframe tbody tr th:only-of-type {\n",
       "        vertical-align: middle;\n",
       "    }\n",
       "\n",
       "    .dataframe tbody tr th {\n",
       "        vertical-align: top;\n",
       "    }\n",
       "\n",
       "    .dataframe thead th {\n",
       "        text-align: right;\n",
       "    }\n",
       "</style>\n",
       "<table border=\"1\" class=\"dataframe\">\n",
       "  <thead>\n",
       "    <tr style=\"text-align: right;\">\n",
       "      <th>TRT</th>\n",
       "      <th>0</th>\n",
       "      <th>1</th>\n",
       "    </tr>\n",
       "    <tr>\n",
       "      <th>SAME-TT2R2</th>\n",
       "      <th></th>\n",
       "      <th></th>\n",
       "    </tr>\n",
       "  </thead>\n",
       "  <tbody>\n",
       "    <tr>\n",
       "      <th>0</th>\n",
       "      <td>98</td>\n",
       "      <td>64</td>\n",
       "    </tr>\n",
       "    <tr>\n",
       "      <th>5</th>\n",
       "      <td>8</td>\n",
       "      <td>6</td>\n",
       "    </tr>\n",
       "  </tbody>\n",
       "</table>\n",
       "</div>"
      ],
      "text/plain": [
       "TRT          0   1\n",
       "SAME-TT2R2        \n",
       "0           98  64\n",
       "5            8   6"
      ]
     },
     "execution_count": 217,
     "metadata": {},
     "output_type": "execute_result"
    }
   ],
   "source": [
    "# cross tab de SAME-TT2R2 = (0 y 5) y TRT\n",
    "pd.crosstab(SAME_0_5[\"SAME-TT2R2\"], df_sin_anomalos['TRT'])"
   ]
  },
  {
   "attachments": {},
   "cell_type": "markdown",
   "metadata": {},
   "source": [
    "### TRT vs SAME-TT2R2_MAS2"
   ]
  },
  {
   "cell_type": "code",
   "execution_count": 218,
   "metadata": {},
   "outputs": [
    {
     "name": "stdout",
     "output_type": "stream",
     "text": [
      "stat=0.959, p=0.789\n",
      "No se rechaza H0, las variables son independientes\n"
     ]
    }
   ],
   "source": [
    "# test fisher para SAME-TT2R2_2\n",
    "from scipy.stats import fisher_exact\n",
    "\n",
    "# test fisher\n",
    "stat, p = fisher_exact(pd.crosstab(df_sin_anomalos['SAME-TT2R2_MAS2'], df_sin_anomalos['TRT']))\n",
    "print('stat=%.3f, p=%.3f' % (stat, p))\n",
    "if p > 0.05:\n",
    "    print('No se rechaza H0, las variables son independientes')\n",
    "else:\n",
    "    print('Se rechaza H0, las variables no son independientes')\n",
    "    "
   ]
  },
  {
   "cell_type": "code",
   "execution_count": 219,
   "metadata": {},
   "outputs": [
    {
     "data": {
      "text/html": [
       "<div>\n",
       "<style scoped>\n",
       "    .dataframe tbody tr th:only-of-type {\n",
       "        vertical-align: middle;\n",
       "    }\n",
       "\n",
       "    .dataframe tbody tr th {\n",
       "        vertical-align: top;\n",
       "    }\n",
       "\n",
       "    .dataframe thead th {\n",
       "        text-align: right;\n",
       "    }\n",
       "</style>\n",
       "<table border=\"1\" class=\"dataframe\">\n",
       "  <thead>\n",
       "    <tr style=\"text-align: right;\">\n",
       "      <th>TRT</th>\n",
       "      <th>0</th>\n",
       "      <th>1</th>\n",
       "    </tr>\n",
       "    <tr>\n",
       "      <th>SAME-TT2R2_MAS2</th>\n",
       "      <th></th>\n",
       "      <th></th>\n",
       "    </tr>\n",
       "  </thead>\n",
       "  <tbody>\n",
       "    <tr>\n",
       "      <th>0</th>\n",
       "      <td>296</td>\n",
       "      <td>156</td>\n",
       "    </tr>\n",
       "    <tr>\n",
       "      <th>1</th>\n",
       "      <td>364</td>\n",
       "      <td>184</td>\n",
       "    </tr>\n",
       "  </tbody>\n",
       "</table>\n",
       "</div>"
      ],
      "text/plain": [
       "TRT                0    1\n",
       "SAME-TT2R2_MAS2          \n",
       "0                296  156\n",
       "1                364  184"
      ]
     },
     "execution_count": 219,
     "metadata": {},
     "output_type": "execute_result"
    }
   ],
   "source": [
    "# value counts de SAME-TT2R2_2 segun TRT\n",
    "pd.crosstab(df_sin_anomalos['SAME-TT2R2_MAS2'], df_sin_anomalos['TRT'])"
   ]
  },
  {
   "attachments": {},
   "cell_type": "markdown",
   "metadata": {},
   "source": [
    "### TRT vs SAME-TT2R2_MAS3"
   ]
  },
  {
   "cell_type": "code",
   "execution_count": 220,
   "metadata": {},
   "outputs": [
    {
     "name": "stdout",
     "output_type": "stream",
     "text": [
      "stat=0.843, p=0.248\n",
      "No se rechaza H0, las variables son independientes\n"
     ]
    }
   ],
   "source": [
    "# test fisher para SAME-TT2R2_3\n",
    "from scipy.stats import fisher_exact\n",
    "\n",
    "# test fisher\n",
    "stat, p = fisher_exact(pd.crosstab(df_sin_anomalos['SAME-TT2R2_MAS3'], df_sin_anomalos['TRT']))\n",
    "print('stat=%.3f, p=%.3f' % (stat, p))\n",
    "if p > 0.05:\n",
    "    print('No se rechaza H0, las variables son independientes')\n",
    "else:\n",
    "    print('Se rechaza H0, las variables no son independientes')"
   ]
  },
  {
   "cell_type": "code",
   "execution_count": 221,
   "metadata": {},
   "outputs": [
    {
     "data": {
      "text/html": [
       "<div>\n",
       "<style scoped>\n",
       "    .dataframe tbody tr th:only-of-type {\n",
       "        vertical-align: middle;\n",
       "    }\n",
       "\n",
       "    .dataframe tbody tr th {\n",
       "        vertical-align: top;\n",
       "    }\n",
       "\n",
       "    .dataframe thead th {\n",
       "        text-align: right;\n",
       "    }\n",
       "</style>\n",
       "<table border=\"1\" class=\"dataframe\">\n",
       "  <thead>\n",
       "    <tr style=\"text-align: right;\">\n",
       "      <th>TRT</th>\n",
       "      <th>0</th>\n",
       "      <th>1</th>\n",
       "    </tr>\n",
       "    <tr>\n",
       "      <th>SAME-TT2R2_MAS3</th>\n",
       "      <th></th>\n",
       "      <th></th>\n",
       "    </tr>\n",
       "  </thead>\n",
       "  <tbody>\n",
       "    <tr>\n",
       "      <th>0</th>\n",
       "      <td>450</td>\n",
       "      <td>244</td>\n",
       "    </tr>\n",
       "    <tr>\n",
       "      <th>1</th>\n",
       "      <td>210</td>\n",
       "      <td>96</td>\n",
       "    </tr>\n",
       "  </tbody>\n",
       "</table>\n",
       "</div>"
      ],
      "text/plain": [
       "TRT                0    1\n",
       "SAME-TT2R2_MAS3          \n",
       "0                450  244\n",
       "1                210   96"
      ]
     },
     "execution_count": 221,
     "metadata": {},
     "output_type": "execute_result"
    }
   ],
   "source": [
    "# value counts de SAME-TT2R2_3 segun TRT\n",
    "pd.crosstab(df_sin_anomalos['SAME-TT2R2_MAS3'], df_sin_anomalos['TRT'])"
   ]
  },
  {
   "attachments": {},
   "cell_type": "markdown",
   "metadata": {},
   "source": [
    "### TRT vs SAME-TT2R2_MAS4"
   ]
  },
  {
   "cell_type": "code",
   "execution_count": 222,
   "metadata": {},
   "outputs": [
    {
     "name": "stdout",
     "output_type": "stream",
     "text": [
      "stat=0.779, p=0.292\n",
      "No se rechaza H0, las variables son independientes\n"
     ]
    }
   ],
   "source": [
    "stat, p = fisher_exact(pd.crosstab(df_sin_anomalos['SAME-TT2R2_MAS4'], df_sin_anomalos['TRT']))\n",
    "print('stat=%.3f, p=%.3f' % (stat, p))\n",
    "if p > 0.05:\n",
    "    print('No se rechaza H0, las variables son independientes')\n",
    "else:\n",
    "    print('Se rechaza H0, las variables no son independientes')"
   ]
  },
  {
   "cell_type": "code",
   "execution_count": 223,
   "metadata": {},
   "outputs": [
    {
     "data": {
      "text/html": [
       "<div>\n",
       "<style scoped>\n",
       "    .dataframe tbody tr th:only-of-type {\n",
       "        vertical-align: middle;\n",
       "    }\n",
       "\n",
       "    .dataframe tbody tr th {\n",
       "        vertical-align: top;\n",
       "    }\n",
       "\n",
       "    .dataframe thead th {\n",
       "        text-align: right;\n",
       "    }\n",
       "</style>\n",
       "<table border=\"1\" class=\"dataframe\">\n",
       "  <thead>\n",
       "    <tr style=\"text-align: right;\">\n",
       "      <th>TRT</th>\n",
       "      <th>0</th>\n",
       "      <th>1</th>\n",
       "    </tr>\n",
       "    <tr>\n",
       "      <th>SAME-TT2R2_MAS4</th>\n",
       "      <th></th>\n",
       "      <th></th>\n",
       "    </tr>\n",
       "  </thead>\n",
       "  <tbody>\n",
       "    <tr>\n",
       "      <th>0</th>\n",
       "      <td>580</td>\n",
       "      <td>307</td>\n",
       "    </tr>\n",
       "    <tr>\n",
       "      <th>1</th>\n",
       "      <td>80</td>\n",
       "      <td>33</td>\n",
       "    </tr>\n",
       "  </tbody>\n",
       "</table>\n",
       "</div>"
      ],
      "text/plain": [
       "TRT                0    1\n",
       "SAME-TT2R2_MAS4          \n",
       "0                580  307\n",
       "1                 80   33"
      ]
     },
     "execution_count": 223,
     "metadata": {},
     "output_type": "execute_result"
    }
   ],
   "source": [
    "pd.crosstab(df_sin_anomalos['SAME-TT2R2_MAS4'], df_sin_anomalos['TRT'])"
   ]
  },
  {
   "attachments": {},
   "cell_type": "markdown",
   "metadata": {},
   "source": [
    "### TRT_60 vs SAME-TT2R2"
   ]
  },
  {
   "cell_type": "code",
   "execution_count": 357,
   "metadata": {},
   "outputs": [
    {
     "data": {
      "text/plain": [
       "0    573\n",
       "1    427\n",
       "Name: TRT_60, dtype: int64"
      ]
     },
     "execution_count": 357,
     "metadata": {},
     "output_type": "execute_result"
    }
   ],
   "source": [
    "# dividir TRT_6MESES_SIN_1_MES en (<60 = 0) y (>=60 = 1)\n",
    "df_sin_anomalos['TRT_60'] = 0\n",
    "df_sin_anomalos.loc[df_sin_anomalos['TRT_6MESES_SIN_1_MES'] >= 60, 'TRT_60'] = 1\n",
    "df_sin_anomalos['TRT_60'].value_counts()"
   ]
  },
  {
   "cell_type": "code",
   "execution_count": 358,
   "metadata": {},
   "outputs": [
    {
     "name": "stdout",
     "output_type": "stream",
     "text": [
      "stat=11.011, p=0.051\n",
      "No se rechaza H0, las variables son independientes\n"
     ]
    }
   ],
   "source": [
    "# test de chi cuadrado para SAME-TT2R2 y TRT_60\n",
    "from scipy.stats import chi2_contingency\n",
    "\n",
    "# test chi cuadrado\n",
    "stat, p, dof, expected = chi2_contingency(pd.crosstab(df_sin_anomalos['SAME-TT2R2_prueba'], df_sin_anomalos['TRT_60']))\n",
    "print('stat=%.3f, p=%.3f' % (stat, p))\n",
    "if p > 0.05:\n",
    "    print('No se rechaza H0, las variables son independientes')\n",
    "else:\n",
    "    print('Se rechaza H0, las variables no son independientes')"
   ]
  },
  {
   "cell_type": "code",
   "execution_count": 226,
   "metadata": {},
   "outputs": [
    {
     "data": {
      "text/html": [
       "<div>\n",
       "<style scoped>\n",
       "    .dataframe tbody tr th:only-of-type {\n",
       "        vertical-align: middle;\n",
       "    }\n",
       "\n",
       "    .dataframe tbody tr th {\n",
       "        vertical-align: top;\n",
       "    }\n",
       "\n",
       "    .dataframe thead th {\n",
       "        text-align: right;\n",
       "    }\n",
       "</style>\n",
       "<table border=\"1\" class=\"dataframe\">\n",
       "  <thead>\n",
       "    <tr style=\"text-align: right;\">\n",
       "      <th>TRT_60</th>\n",
       "      <th>0</th>\n",
       "      <th>1</th>\n",
       "    </tr>\n",
       "    <tr>\n",
       "      <th>SAME-TT2R2</th>\n",
       "      <th></th>\n",
       "      <th></th>\n",
       "    </tr>\n",
       "  </thead>\n",
       "  <tbody>\n",
       "    <tr>\n",
       "      <th>0</th>\n",
       "      <td>87</td>\n",
       "      <td>75</td>\n",
       "    </tr>\n",
       "    <tr>\n",
       "      <th>1</th>\n",
       "      <td>164</td>\n",
       "      <td>126</td>\n",
       "    </tr>\n",
       "    <tr>\n",
       "      <th>2</th>\n",
       "      <td>134</td>\n",
       "      <td>108</td>\n",
       "    </tr>\n",
       "    <tr>\n",
       "      <th>3</th>\n",
       "      <td>118</td>\n",
       "      <td>75</td>\n",
       "    </tr>\n",
       "    <tr>\n",
       "      <th>4</th>\n",
       "      <td>62</td>\n",
       "      <td>37</td>\n",
       "    </tr>\n",
       "    <tr>\n",
       "      <th>5</th>\n",
       "      <td>8</td>\n",
       "      <td>6</td>\n",
       "    </tr>\n",
       "  </tbody>\n",
       "</table>\n",
       "</div>"
      ],
      "text/plain": [
       "TRT_60        0    1\n",
       "SAME-TT2R2          \n",
       "0            87   75\n",
       "1           164  126\n",
       "2           134  108\n",
       "3           118   75\n",
       "4            62   37\n",
       "5             8    6"
      ]
     },
     "execution_count": 226,
     "metadata": {},
     "output_type": "execute_result"
    }
   ],
   "source": [
    "# value counts de SAME-TT2R2 segun TRT_60\n",
    "pd.crosstab(df_sin_anomalos['SAME-TT2R2'], df_sin_anomalos['TRT_60'])"
   ]
  },
  {
   "cell_type": "code",
   "execution_count": 227,
   "metadata": {},
   "outputs": [
    {
     "name": "stdout",
     "output_type": "stream",
     "text": [
      "stat=0.891, p=0.622\n",
      "No se rechaza H0, las variables son independientes\n"
     ]
    }
   ],
   "source": [
    "stat, p = fisher_exact(pd.crosstab(SAME_0_1[\"SAME-TT2R2\"], df_sin_anomalos['TRT_60']))\n",
    "print('stat=%.3f, p=%.3f' % (stat, p))\n",
    "if p > 0.05:\n",
    "    print('No se rechaza H0, las variables son independientes')\n",
    "else:\n",
    "    print('Se rechaza H0, las variables no son independientes')"
   ]
  },
  {
   "cell_type": "code",
   "execution_count": 228,
   "metadata": {},
   "outputs": [
    {
     "data": {
      "text/html": [
       "<div>\n",
       "<style scoped>\n",
       "    .dataframe tbody tr th:only-of-type {\n",
       "        vertical-align: middle;\n",
       "    }\n",
       "\n",
       "    .dataframe tbody tr th {\n",
       "        vertical-align: top;\n",
       "    }\n",
       "\n",
       "    .dataframe thead th {\n",
       "        text-align: right;\n",
       "    }\n",
       "</style>\n",
       "<table border=\"1\" class=\"dataframe\">\n",
       "  <thead>\n",
       "    <tr style=\"text-align: right;\">\n",
       "      <th>TRT_60</th>\n",
       "      <th>0</th>\n",
       "      <th>1</th>\n",
       "    </tr>\n",
       "    <tr>\n",
       "      <th>SAME-TT2R2</th>\n",
       "      <th></th>\n",
       "      <th></th>\n",
       "    </tr>\n",
       "  </thead>\n",
       "  <tbody>\n",
       "    <tr>\n",
       "      <th>0</th>\n",
       "      <td>87</td>\n",
       "      <td>75</td>\n",
       "    </tr>\n",
       "    <tr>\n",
       "      <th>1</th>\n",
       "      <td>164</td>\n",
       "      <td>126</td>\n",
       "    </tr>\n",
       "  </tbody>\n",
       "</table>\n",
       "</div>"
      ],
      "text/plain": [
       "TRT_60        0    1\n",
       "SAME-TT2R2          \n",
       "0            87   75\n",
       "1           164  126"
      ]
     },
     "execution_count": 228,
     "metadata": {},
     "output_type": "execute_result"
    }
   ],
   "source": [
    "# cross tab de SAME-TT2R2 = (0 y 1) y TRT_60\n",
    "pd.crosstab(SAME_0_1[\"SAME-TT2R2\"], df_sin_anomalos['TRT_60'])"
   ]
  },
  {
   "cell_type": "code",
   "execution_count": 229,
   "metadata": {},
   "outputs": [
    {
     "name": "stdout",
     "output_type": "stream",
     "text": [
      "stat=0.935, p=0.760\n",
      "No se rechaza H0, las variables son independientes\n"
     ]
    }
   ],
   "source": [
    "stat, p = fisher_exact(pd.crosstab(SAME_0_2[\"SAME-TT2R2\"], df_sin_anomalos['TRT_60']))\n",
    "print('stat=%.3f, p=%.3f' % (stat, p))\n",
    "if p > 0.05:\n",
    "    print('No se rechaza H0, las variables son independientes')\n",
    "else:\n",
    "    print('Se rechaza H0, las variables no son independientes')"
   ]
  },
  {
   "cell_type": "code",
   "execution_count": 230,
   "metadata": {},
   "outputs": [
    {
     "data": {
      "text/html": [
       "<div>\n",
       "<style scoped>\n",
       "    .dataframe tbody tr th:only-of-type {\n",
       "        vertical-align: middle;\n",
       "    }\n",
       "\n",
       "    .dataframe tbody tr th {\n",
       "        vertical-align: top;\n",
       "    }\n",
       "\n",
       "    .dataframe thead th {\n",
       "        text-align: right;\n",
       "    }\n",
       "</style>\n",
       "<table border=\"1\" class=\"dataframe\">\n",
       "  <thead>\n",
       "    <tr style=\"text-align: right;\">\n",
       "      <th>TRT_60</th>\n",
       "      <th>0</th>\n",
       "      <th>1</th>\n",
       "    </tr>\n",
       "    <tr>\n",
       "      <th>SAME-TT2R2</th>\n",
       "      <th></th>\n",
       "      <th></th>\n",
       "    </tr>\n",
       "  </thead>\n",
       "  <tbody>\n",
       "    <tr>\n",
       "      <th>0</th>\n",
       "      <td>87</td>\n",
       "      <td>75</td>\n",
       "    </tr>\n",
       "    <tr>\n",
       "      <th>2</th>\n",
       "      <td>134</td>\n",
       "      <td>108</td>\n",
       "    </tr>\n",
       "  </tbody>\n",
       "</table>\n",
       "</div>"
      ],
      "text/plain": [
       "TRT_60        0    1\n",
       "SAME-TT2R2          \n",
       "0            87   75\n",
       "2           134  108"
      ]
     },
     "execution_count": 230,
     "metadata": {},
     "output_type": "execute_result"
    }
   ],
   "source": [
    "# cross tab de SAME-TT2R2 = (0 y 2) y TRT_60\n",
    "pd.crosstab(SAME_0_2[\"SAME-TT2R2\"], df_sin_anomalos['TRT_60'])"
   ]
  },
  {
   "cell_type": "code",
   "execution_count": 231,
   "metadata": {},
   "outputs": [
    {
     "name": "stdout",
     "output_type": "stream",
     "text": [
      "stat=0.737, p=0.163\n",
      "No se rechaza H0, las variables son independientes\n"
     ]
    }
   ],
   "source": [
    "stat, p = fisher_exact(pd.crosstab(SAME_0_3[\"SAME-TT2R2\"], df_sin_anomalos['TRT_60']))\n",
    "print('stat=%.3f, p=%.3f' % (stat, p))\n",
    "if p > 0.05:\n",
    "    print('No se rechaza H0, las variables son independientes')\n",
    "else:\n",
    "    print('Se rechaza H0, las variables no son independientes')"
   ]
  },
  {
   "cell_type": "code",
   "execution_count": 232,
   "metadata": {},
   "outputs": [
    {
     "data": {
      "text/html": [
       "<div>\n",
       "<style scoped>\n",
       "    .dataframe tbody tr th:only-of-type {\n",
       "        vertical-align: middle;\n",
       "    }\n",
       "\n",
       "    .dataframe tbody tr th {\n",
       "        vertical-align: top;\n",
       "    }\n",
       "\n",
       "    .dataframe thead th {\n",
       "        text-align: right;\n",
       "    }\n",
       "</style>\n",
       "<table border=\"1\" class=\"dataframe\">\n",
       "  <thead>\n",
       "    <tr style=\"text-align: right;\">\n",
       "      <th>TRT_60</th>\n",
       "      <th>0</th>\n",
       "      <th>1</th>\n",
       "    </tr>\n",
       "    <tr>\n",
       "      <th>SAME-TT2R2</th>\n",
       "      <th></th>\n",
       "      <th></th>\n",
       "    </tr>\n",
       "  </thead>\n",
       "  <tbody>\n",
       "    <tr>\n",
       "      <th>0</th>\n",
       "      <td>87</td>\n",
       "      <td>75</td>\n",
       "    </tr>\n",
       "    <tr>\n",
       "      <th>3</th>\n",
       "      <td>118</td>\n",
       "      <td>75</td>\n",
       "    </tr>\n",
       "  </tbody>\n",
       "</table>\n",
       "</div>"
      ],
      "text/plain": [
       "TRT_60        0   1\n",
       "SAME-TT2R2         \n",
       "0            87  75\n",
       "3           118  75"
      ]
     },
     "execution_count": 232,
     "metadata": {},
     "output_type": "execute_result"
    }
   ],
   "source": [
    "# cross tab de SAME-TT2R2 = (0 y 3) y TRT_60\n",
    "pd.crosstab(SAME_0_3[\"SAME-TT2R2\"], df_sin_anomalos['TRT_60'])"
   ]
  },
  {
   "cell_type": "code",
   "execution_count": 233,
   "metadata": {},
   "outputs": [
    {
     "name": "stdout",
     "output_type": "stream",
     "text": [
      "stat=0.692, p=0.197\n",
      "No se rechaza H0, las variables son independientes\n"
     ]
    }
   ],
   "source": [
    "stat, p = fisher_exact(pd.crosstab(SAME_0_4[\"SAME-TT2R2\"], df_sin_anomalos['TRT_60']))\n",
    "print('stat=%.3f, p=%.3f' % (stat, p))\n",
    "if p > 0.05:\n",
    "    print('No se rechaza H0, las variables son independientes')\n",
    "else:\n",
    "    print('Se rechaza H0, las variables no son independientes')"
   ]
  },
  {
   "cell_type": "code",
   "execution_count": 234,
   "metadata": {},
   "outputs": [
    {
     "data": {
      "text/html": [
       "<div>\n",
       "<style scoped>\n",
       "    .dataframe tbody tr th:only-of-type {\n",
       "        vertical-align: middle;\n",
       "    }\n",
       "\n",
       "    .dataframe tbody tr th {\n",
       "        vertical-align: top;\n",
       "    }\n",
       "\n",
       "    .dataframe thead th {\n",
       "        text-align: right;\n",
       "    }\n",
       "</style>\n",
       "<table border=\"1\" class=\"dataframe\">\n",
       "  <thead>\n",
       "    <tr style=\"text-align: right;\">\n",
       "      <th>TRT_60</th>\n",
       "      <th>0</th>\n",
       "      <th>1</th>\n",
       "    </tr>\n",
       "    <tr>\n",
       "      <th>SAME-TT2R2</th>\n",
       "      <th></th>\n",
       "      <th></th>\n",
       "    </tr>\n",
       "  </thead>\n",
       "  <tbody>\n",
       "    <tr>\n",
       "      <th>0</th>\n",
       "      <td>87</td>\n",
       "      <td>75</td>\n",
       "    </tr>\n",
       "    <tr>\n",
       "      <th>4</th>\n",
       "      <td>62</td>\n",
       "      <td>37</td>\n",
       "    </tr>\n",
       "  </tbody>\n",
       "</table>\n",
       "</div>"
      ],
      "text/plain": [
       "TRT_60       0   1\n",
       "SAME-TT2R2        \n",
       "0           87  75\n",
       "4           62  37"
      ]
     },
     "execution_count": 234,
     "metadata": {},
     "output_type": "execute_result"
    }
   ],
   "source": [
    "# cross tab de SAME-TT2R2 = (0 y 4) y TRT_60\n",
    "pd.crosstab(SAME_0_4[\"SAME-TT2R2\"], df_sin_anomalos['TRT_60'])"
   ]
  },
  {
   "cell_type": "code",
   "execution_count": 235,
   "metadata": {},
   "outputs": [
    {
     "name": "stdout",
     "output_type": "stream",
     "text": [
      "stat=0.870, p=1.000\n",
      "No se rechaza H0, las variables son independientes\n"
     ]
    }
   ],
   "source": [
    "stat, p = fisher_exact(pd.crosstab(SAME_0_5[\"SAME-TT2R2\"], df_sin_anomalos['TRT_60']))\n",
    "print('stat=%.3f, p=%.3f' % (stat, p))\n",
    "if p > 0.05:\n",
    "    print('No se rechaza H0, las variables son independientes')\n",
    "else:\n",
    "    print('Se rechaza H0, las variables no son independientes')"
   ]
  },
  {
   "cell_type": "code",
   "execution_count": 236,
   "metadata": {},
   "outputs": [
    {
     "data": {
      "text/html": [
       "<div>\n",
       "<style scoped>\n",
       "    .dataframe tbody tr th:only-of-type {\n",
       "        vertical-align: middle;\n",
       "    }\n",
       "\n",
       "    .dataframe tbody tr th {\n",
       "        vertical-align: top;\n",
       "    }\n",
       "\n",
       "    .dataframe thead th {\n",
       "        text-align: right;\n",
       "    }\n",
       "</style>\n",
       "<table border=\"1\" class=\"dataframe\">\n",
       "  <thead>\n",
       "    <tr style=\"text-align: right;\">\n",
       "      <th>TRT_60</th>\n",
       "      <th>0</th>\n",
       "      <th>1</th>\n",
       "    </tr>\n",
       "    <tr>\n",
       "      <th>SAME-TT2R2</th>\n",
       "      <th></th>\n",
       "      <th></th>\n",
       "    </tr>\n",
       "  </thead>\n",
       "  <tbody>\n",
       "    <tr>\n",
       "      <th>0</th>\n",
       "      <td>87</td>\n",
       "      <td>75</td>\n",
       "    </tr>\n",
       "    <tr>\n",
       "      <th>5</th>\n",
       "      <td>8</td>\n",
       "      <td>6</td>\n",
       "    </tr>\n",
       "  </tbody>\n",
       "</table>\n",
       "</div>"
      ],
      "text/plain": [
       "TRT_60       0   1\n",
       "SAME-TT2R2        \n",
       "0           87  75\n",
       "5            8   6"
      ]
     },
     "execution_count": 236,
     "metadata": {},
     "output_type": "execute_result"
    }
   ],
   "source": [
    "# cross tab de SAME-TT2R2 = (0 y 5) y TRT_60\n",
    "pd.crosstab(SAME_0_5[\"SAME-TT2R2\"], df_sin_anomalos['TRT_60'])"
   ]
  },
  {
   "attachments": {},
   "cell_type": "markdown",
   "metadata": {},
   "source": [
    "### TRT_60 vs SAME-TT2R2_MAS2"
   ]
  },
  {
   "cell_type": "code",
   "execution_count": 356,
   "metadata": {},
   "outputs": [
    {
     "ename": "KeyError",
     "evalue": "'SAME-TT2R2_MAS2'",
     "output_type": "error",
     "traceback": [
      "\u001b[0;31m---------------------------------------------------------------------------\u001b[0m",
      "\u001b[0;31mKeyError\u001b[0m                                  Traceback (most recent call last)",
      "File \u001b[0;32m/Library/Frameworks/Python.framework/Versions/3.9/lib/python3.9/site-packages/pandas/core/indexes/base.py:3621\u001b[0m, in \u001b[0;36mIndex.get_loc\u001b[0;34m(self, key, method, tolerance)\u001b[0m\n\u001b[1;32m   3620\u001b[0m \u001b[39mtry\u001b[39;00m:\n\u001b[0;32m-> 3621\u001b[0m     \u001b[39mreturn\u001b[39;00m \u001b[39mself\u001b[39;49m\u001b[39m.\u001b[39;49m_engine\u001b[39m.\u001b[39;49mget_loc(casted_key)\n\u001b[1;32m   3622\u001b[0m \u001b[39mexcept\u001b[39;00m \u001b[39mKeyError\u001b[39;00m \u001b[39mas\u001b[39;00m err:\n",
      "File \u001b[0;32m/Library/Frameworks/Python.framework/Versions/3.9/lib/python3.9/site-packages/pandas/_libs/index.pyx:136\u001b[0m, in \u001b[0;36mpandas._libs.index.IndexEngine.get_loc\u001b[0;34m()\u001b[0m\n",
      "File \u001b[0;32m/Library/Frameworks/Python.framework/Versions/3.9/lib/python3.9/site-packages/pandas/_libs/index.pyx:163\u001b[0m, in \u001b[0;36mpandas._libs.index.IndexEngine.get_loc\u001b[0;34m()\u001b[0m\n",
      "File \u001b[0;32mpandas/_libs/hashtable_class_helper.pxi:5198\u001b[0m, in \u001b[0;36mpandas._libs.hashtable.PyObjectHashTable.get_item\u001b[0;34m()\u001b[0m\n",
      "File \u001b[0;32mpandas/_libs/hashtable_class_helper.pxi:5206\u001b[0m, in \u001b[0;36mpandas._libs.hashtable.PyObjectHashTable.get_item\u001b[0;34m()\u001b[0m\n",
      "\u001b[0;31mKeyError\u001b[0m: 'SAME-TT2R2_MAS2'",
      "\nThe above exception was the direct cause of the following exception:\n",
      "\u001b[0;31mKeyError\u001b[0m                                  Traceback (most recent call last)",
      "Cell \u001b[0;32mIn[356], line 5\u001b[0m\n\u001b[1;32m      2\u001b[0m \u001b[39mfrom\u001b[39;00m \u001b[39mscipy\u001b[39;00m\u001b[39m.\u001b[39;00m\u001b[39mstats\u001b[39;00m \u001b[39mimport\u001b[39;00m fisher_exact\n\u001b[1;32m      4\u001b[0m \u001b[39m# test fisher\u001b[39;00m\n\u001b[0;32m----> 5\u001b[0m stat, p \u001b[39m=\u001b[39m fisher_exact(pd\u001b[39m.\u001b[39mcrosstab(df_sin_anomalos[\u001b[39m'\u001b[39;49m\u001b[39mSAME-TT2R2_MAS2\u001b[39;49m\u001b[39m'\u001b[39;49m], df_sin_anomalos[\u001b[39m'\u001b[39m\u001b[39mTRT_60\u001b[39m\u001b[39m'\u001b[39m]))\n\u001b[1;32m      6\u001b[0m \u001b[39mprint\u001b[39m(\u001b[39m'\u001b[39m\u001b[39mstat=\u001b[39m\u001b[39m%.3f\u001b[39;00m\u001b[39m, p=\u001b[39m\u001b[39m%.3f\u001b[39;00m\u001b[39m'\u001b[39m \u001b[39m%\u001b[39m (stat, p))\n\u001b[1;32m      7\u001b[0m \u001b[39mif\u001b[39;00m p \u001b[39m>\u001b[39m \u001b[39m0.05\u001b[39m:\n",
      "File \u001b[0;32m/Library/Frameworks/Python.framework/Versions/3.9/lib/python3.9/site-packages/pandas/core/frame.py:3506\u001b[0m, in \u001b[0;36mDataFrame.__getitem__\u001b[0;34m(self, key)\u001b[0m\n\u001b[1;32m   3504\u001b[0m \u001b[39mif\u001b[39;00m \u001b[39mself\u001b[39m\u001b[39m.\u001b[39mcolumns\u001b[39m.\u001b[39mnlevels \u001b[39m>\u001b[39m \u001b[39m1\u001b[39m:\n\u001b[1;32m   3505\u001b[0m     \u001b[39mreturn\u001b[39;00m \u001b[39mself\u001b[39m\u001b[39m.\u001b[39m_getitem_multilevel(key)\n\u001b[0;32m-> 3506\u001b[0m indexer \u001b[39m=\u001b[39m \u001b[39mself\u001b[39;49m\u001b[39m.\u001b[39;49mcolumns\u001b[39m.\u001b[39;49mget_loc(key)\n\u001b[1;32m   3507\u001b[0m \u001b[39mif\u001b[39;00m is_integer(indexer):\n\u001b[1;32m   3508\u001b[0m     indexer \u001b[39m=\u001b[39m [indexer]\n",
      "File \u001b[0;32m/Library/Frameworks/Python.framework/Versions/3.9/lib/python3.9/site-packages/pandas/core/indexes/base.py:3623\u001b[0m, in \u001b[0;36mIndex.get_loc\u001b[0;34m(self, key, method, tolerance)\u001b[0m\n\u001b[1;32m   3621\u001b[0m     \u001b[39mreturn\u001b[39;00m \u001b[39mself\u001b[39m\u001b[39m.\u001b[39m_engine\u001b[39m.\u001b[39mget_loc(casted_key)\n\u001b[1;32m   3622\u001b[0m \u001b[39mexcept\u001b[39;00m \u001b[39mKeyError\u001b[39;00m \u001b[39mas\u001b[39;00m err:\n\u001b[0;32m-> 3623\u001b[0m     \u001b[39mraise\u001b[39;00m \u001b[39mKeyError\u001b[39;00m(key) \u001b[39mfrom\u001b[39;00m \u001b[39merr\u001b[39;00m\n\u001b[1;32m   3624\u001b[0m \u001b[39mexcept\u001b[39;00m \u001b[39mTypeError\u001b[39;00m:\n\u001b[1;32m   3625\u001b[0m     \u001b[39m# If we have a listlike key, _check_indexing_error will raise\u001b[39;00m\n\u001b[1;32m   3626\u001b[0m     \u001b[39m#  InvalidIndexError. Otherwise we fall through and re-raise\u001b[39;00m\n\u001b[1;32m   3627\u001b[0m     \u001b[39m#  the TypeError.\u001b[39;00m\n\u001b[1;32m   3628\u001b[0m     \u001b[39mself\u001b[39m\u001b[39m.\u001b[39m_check_indexing_error(key)\n",
      "\u001b[0;31mKeyError\u001b[0m: 'SAME-TT2R2_MAS2'"
     ]
    }
   ],
   "source": [
    "# test de fisher para SAME-TT2R2_2 y TRT_60\n",
    "from scipy.stats import fisher_exact\n",
    "\n",
    "# test fisher\n",
    "stat, p = fisher_exact(pd.crosstab(df_sin_anomalos['SAME-TT2R2_MAS2'], df_sin_anomalos['TRT_60']))\n",
    "print('stat=%.3f, p=%.3f' % (stat, p))\n",
    "if p > 0.05:\n",
    "    print('No se rechaza H0, las variables son independientes')\n",
    "else:\n",
    "    print('Se rechaza H0, las variables no son independientes')"
   ]
  },
  {
   "cell_type": "code",
   "execution_count": 238,
   "metadata": {},
   "outputs": [
    {
     "data": {
      "text/html": [
       "<div>\n",
       "<style scoped>\n",
       "    .dataframe tbody tr th:only-of-type {\n",
       "        vertical-align: middle;\n",
       "    }\n",
       "\n",
       "    .dataframe tbody tr th {\n",
       "        vertical-align: top;\n",
       "    }\n",
       "\n",
       "    .dataframe thead th {\n",
       "        text-align: right;\n",
       "    }\n",
       "</style>\n",
       "<table border=\"1\" class=\"dataframe\">\n",
       "  <thead>\n",
       "    <tr style=\"text-align: right;\">\n",
       "      <th>TRT_60</th>\n",
       "      <th>0</th>\n",
       "      <th>1</th>\n",
       "    </tr>\n",
       "    <tr>\n",
       "      <th>SAME-TT2R2_MAS2</th>\n",
       "      <th></th>\n",
       "      <th></th>\n",
       "    </tr>\n",
       "  </thead>\n",
       "  <tbody>\n",
       "    <tr>\n",
       "      <th>0</th>\n",
       "      <td>251</td>\n",
       "      <td>201</td>\n",
       "    </tr>\n",
       "    <tr>\n",
       "      <th>1</th>\n",
       "      <td>322</td>\n",
       "      <td>226</td>\n",
       "    </tr>\n",
       "  </tbody>\n",
       "</table>\n",
       "</div>"
      ],
      "text/plain": [
       "TRT_60             0    1\n",
       "SAME-TT2R2_MAS2          \n",
       "0                251  201\n",
       "1                322  226"
      ]
     },
     "execution_count": 238,
     "metadata": {},
     "output_type": "execute_result"
    }
   ],
   "source": [
    "# value counts de SAME-TT2R2_2 segun TRT_60\n",
    "pd.crosstab(df_sin_anomalos['SAME-TT2R2_MAS2'], df_sin_anomalos['TRT_60'])"
   ]
  },
  {
   "attachments": {},
   "cell_type": "markdown",
   "metadata": {},
   "source": [
    "### TRT_60 vs SAME-TT2R2_MAS3"
   ]
  },
  {
   "cell_type": "code",
   "execution_count": 239,
   "metadata": {},
   "outputs": [
    {
     "name": "stdout",
     "output_type": "stream",
     "text": [
      "stat=0.782, p=0.083\n",
      "No se rechaza H0, las variables son independientes\n"
     ]
    }
   ],
   "source": [
    "# test de fisher para SAME-TT2R2_3 y TRT_60\n",
    "from scipy.stats import fisher_exact\n",
    "\n",
    "# test fisher\n",
    "stat, p = fisher_exact(pd.crosstab(df_sin_anomalos['SAME-TT2R2_MAS3'], df_sin_anomalos['TRT_60']))\n",
    "print('stat=%.3f, p=%.3f' % (stat, p))\n",
    "if p > 0.05:\n",
    "    print('No se rechaza H0, las variables son independientes')\n",
    "else:\n",
    "    print('Se rechaza H0, las variables no son independientes')"
   ]
  },
  {
   "cell_type": "code",
   "execution_count": 240,
   "metadata": {},
   "outputs": [
    {
     "data": {
      "text/html": [
       "<div>\n",
       "<style scoped>\n",
       "    .dataframe tbody tr th:only-of-type {\n",
       "        vertical-align: middle;\n",
       "    }\n",
       "\n",
       "    .dataframe tbody tr th {\n",
       "        vertical-align: top;\n",
       "    }\n",
       "\n",
       "    .dataframe thead th {\n",
       "        text-align: right;\n",
       "    }\n",
       "</style>\n",
       "<table border=\"1\" class=\"dataframe\">\n",
       "  <thead>\n",
       "    <tr style=\"text-align: right;\">\n",
       "      <th>TRT_60</th>\n",
       "      <th>0</th>\n",
       "      <th>1</th>\n",
       "    </tr>\n",
       "    <tr>\n",
       "      <th>SAME-TT2R2_MAS3</th>\n",
       "      <th></th>\n",
       "      <th></th>\n",
       "    </tr>\n",
       "  </thead>\n",
       "  <tbody>\n",
       "    <tr>\n",
       "      <th>0</th>\n",
       "      <td>385</td>\n",
       "      <td>309</td>\n",
       "    </tr>\n",
       "    <tr>\n",
       "      <th>1</th>\n",
       "      <td>188</td>\n",
       "      <td>118</td>\n",
       "    </tr>\n",
       "  </tbody>\n",
       "</table>\n",
       "</div>"
      ],
      "text/plain": [
       "TRT_60             0    1\n",
       "SAME-TT2R2_MAS3          \n",
       "0                385  309\n",
       "1                188  118"
      ]
     },
     "execution_count": 240,
     "metadata": {},
     "output_type": "execute_result"
    }
   ],
   "source": [
    "# value counts de SAME-TT2R2_3 segun TRT_60\n",
    "pd.crosstab(df_sin_anomalos['SAME-TT2R2_MAS3'], df_sin_anomalos['TRT_60'])"
   ]
  },
  {
   "attachments": {},
   "cell_type": "markdown",
   "metadata": {},
   "source": [
    "### TRT_60 vs SAME-TT2R2_MAS4"
   ]
  },
  {
   "cell_type": "code",
   "execution_count": 241,
   "metadata": {},
   "outputs": [
    {
     "name": "stdout",
     "output_type": "stream",
     "text": [
      "stat=0.805, p=0.313\n",
      "No se rechaza H0, las variables son independientes\n"
     ]
    }
   ],
   "source": [
    "stat, p = fisher_exact(pd.crosstab(df_sin_anomalos['SAME-TT2R2_MAS4'], df_sin_anomalos['TRT_60']))\n",
    "print('stat=%.3f, p=%.3f' % (stat, p))\n",
    "if p > 0.05:\n",
    "    print('No se rechaza H0, las variables son independientes')\n",
    "else:\n",
    "    print('Se rechaza H0, las variables no son independientes')"
   ]
  },
  {
   "cell_type": "code",
   "execution_count": 242,
   "metadata": {},
   "outputs": [
    {
     "data": {
      "text/html": [
       "<div>\n",
       "<style scoped>\n",
       "    .dataframe tbody tr th:only-of-type {\n",
       "        vertical-align: middle;\n",
       "    }\n",
       "\n",
       "    .dataframe tbody tr th {\n",
       "        vertical-align: top;\n",
       "    }\n",
       "\n",
       "    .dataframe thead th {\n",
       "        text-align: right;\n",
       "    }\n",
       "</style>\n",
       "<table border=\"1\" class=\"dataframe\">\n",
       "  <thead>\n",
       "    <tr style=\"text-align: right;\">\n",
       "      <th>TRT_60</th>\n",
       "      <th>0</th>\n",
       "      <th>1</th>\n",
       "    </tr>\n",
       "    <tr>\n",
       "      <th>SAME-TT2R2_MAS4</th>\n",
       "      <th></th>\n",
       "      <th></th>\n",
       "    </tr>\n",
       "  </thead>\n",
       "  <tbody>\n",
       "    <tr>\n",
       "      <th>0</th>\n",
       "      <td>503</td>\n",
       "      <td>384</td>\n",
       "    </tr>\n",
       "    <tr>\n",
       "      <th>1</th>\n",
       "      <td>70</td>\n",
       "      <td>43</td>\n",
       "    </tr>\n",
       "  </tbody>\n",
       "</table>\n",
       "</div>"
      ],
      "text/plain": [
       "TRT_60             0    1\n",
       "SAME-TT2R2_MAS4          \n",
       "0                503  384\n",
       "1                 70   43"
      ]
     },
     "execution_count": 242,
     "metadata": {},
     "output_type": "execute_result"
    }
   ],
   "source": [
    "pd.crosstab(df_sin_anomalos['SAME-TT2R2_MAS4'], df_sin_anomalos['TRT_60'])"
   ]
  },
  {
   "attachments": {},
   "cell_type": "markdown",
   "metadata": {},
   "source": [
    "### TRT_70 vs SAME-TT2R2"
   ]
  },
  {
   "cell_type": "code",
   "execution_count": 359,
   "metadata": {},
   "outputs": [
    {
     "data": {
      "text/plain": [
       "0    707\n",
       "1    293\n",
       "Name: TRT_70, dtype: int64"
      ]
     },
     "execution_count": 359,
     "metadata": {},
     "output_type": "execute_result"
    }
   ],
   "source": [
    "# dividir TRT_6MESES_SIN_1_MES en (<70 = 0) y (>=70 = 1)\n",
    "df_sin_anomalos['TRT_70'] = 0\n",
    "df_sin_anomalos.loc[df_sin_anomalos['TRT_6MESES_SIN_1_MES'] >= 70, 'TRT_70'] = 1\n",
    "df_sin_anomalos['TRT_70'].value_counts()"
   ]
  },
  {
   "cell_type": "code",
   "execution_count": 360,
   "metadata": {},
   "outputs": [
    {
     "name": "stdout",
     "output_type": "stream",
     "text": [
      "stat=4.768, p=0.445\n",
      "No se rechaza H0, las variables son independientes\n"
     ]
    }
   ],
   "source": [
    "# test de chi cuadrado para SAME-TT2R2 y TRT_60\n",
    "from scipy.stats import chi2_contingency\n",
    "\n",
    "# test chi cuadrado\n",
    "stat, p, dof, expected = chi2_contingency(pd.crosstab(df_sin_anomalos['SAME-TT2R2_prueba'], df_sin_anomalos['TRT_70']))\n",
    "print('stat=%.3f, p=%.3f' % (stat, p))\n",
    "if p > 0.05:\n",
    "    print('No se rechaza H0, las variables son independientes')\n",
    "else:\n",
    "    print('Se rechaza H0, las variables no son independientes')"
   ]
  },
  {
   "cell_type": "code",
   "execution_count": 245,
   "metadata": {},
   "outputs": [
    {
     "data": {
      "text/html": [
       "<div>\n",
       "<style scoped>\n",
       "    .dataframe tbody tr th:only-of-type {\n",
       "        vertical-align: middle;\n",
       "    }\n",
       "\n",
       "    .dataframe tbody tr th {\n",
       "        vertical-align: top;\n",
       "    }\n",
       "\n",
       "    .dataframe thead th {\n",
       "        text-align: right;\n",
       "    }\n",
       "</style>\n",
       "<table border=\"1\" class=\"dataframe\">\n",
       "  <thead>\n",
       "    <tr style=\"text-align: right;\">\n",
       "      <th>TRT_70</th>\n",
       "      <th>0</th>\n",
       "      <th>1</th>\n",
       "    </tr>\n",
       "    <tr>\n",
       "      <th>SAME-TT2R2</th>\n",
       "      <th></th>\n",
       "      <th></th>\n",
       "    </tr>\n",
       "  </thead>\n",
       "  <tbody>\n",
       "    <tr>\n",
       "      <th>0</th>\n",
       "      <td>108</td>\n",
       "      <td>54</td>\n",
       "    </tr>\n",
       "    <tr>\n",
       "      <th>1</th>\n",
       "      <td>211</td>\n",
       "      <td>79</td>\n",
       "    </tr>\n",
       "    <tr>\n",
       "      <th>2</th>\n",
       "      <td>168</td>\n",
       "      <td>74</td>\n",
       "    </tr>\n",
       "    <tr>\n",
       "      <th>3</th>\n",
       "      <td>137</td>\n",
       "      <td>56</td>\n",
       "    </tr>\n",
       "    <tr>\n",
       "      <th>4</th>\n",
       "      <td>75</td>\n",
       "      <td>24</td>\n",
       "    </tr>\n",
       "    <tr>\n",
       "      <th>5</th>\n",
       "      <td>8</td>\n",
       "      <td>6</td>\n",
       "    </tr>\n",
       "  </tbody>\n",
       "</table>\n",
       "</div>"
      ],
      "text/plain": [
       "TRT_70        0   1\n",
       "SAME-TT2R2         \n",
       "0           108  54\n",
       "1           211  79\n",
       "2           168  74\n",
       "3           137  56\n",
       "4            75  24\n",
       "5             8   6"
      ]
     },
     "execution_count": 245,
     "metadata": {},
     "output_type": "execute_result"
    }
   ],
   "source": [
    "pd.crosstab(df_sin_anomalos['SAME-TT2R2'], df_sin_anomalos['TRT_70'])"
   ]
  },
  {
   "cell_type": "code",
   "execution_count": 246,
   "metadata": {},
   "outputs": [
    {
     "name": "stdout",
     "output_type": "stream",
     "text": [
      "stat=0.749, p=0.197\n",
      "No se rechaza H0, las variables son independientes\n"
     ]
    }
   ],
   "source": [
    "stat, p = fisher_exact(pd.crosstab(SAME_0_1[\"SAME-TT2R2\"], df_sin_anomalos['TRT_70']))\n",
    "print('stat=%.3f, p=%.3f' % (stat, p))\n",
    "if p > 0.05:\n",
    "    print('No se rechaza H0, las variables son independientes')\n",
    "else:\n",
    "    print('Se rechaza H0, las variables no son independientes')"
   ]
  },
  {
   "cell_type": "code",
   "execution_count": 247,
   "metadata": {},
   "outputs": [
    {
     "data": {
      "text/html": [
       "<div>\n",
       "<style scoped>\n",
       "    .dataframe tbody tr th:only-of-type {\n",
       "        vertical-align: middle;\n",
       "    }\n",
       "\n",
       "    .dataframe tbody tr th {\n",
       "        vertical-align: top;\n",
       "    }\n",
       "\n",
       "    .dataframe thead th {\n",
       "        text-align: right;\n",
       "    }\n",
       "</style>\n",
       "<table border=\"1\" class=\"dataframe\">\n",
       "  <thead>\n",
       "    <tr style=\"text-align: right;\">\n",
       "      <th>TRT_70</th>\n",
       "      <th>0</th>\n",
       "      <th>1</th>\n",
       "    </tr>\n",
       "    <tr>\n",
       "      <th>SAME-TT2R2</th>\n",
       "      <th></th>\n",
       "      <th></th>\n",
       "    </tr>\n",
       "  </thead>\n",
       "  <tbody>\n",
       "    <tr>\n",
       "      <th>0</th>\n",
       "      <td>108</td>\n",
       "      <td>54</td>\n",
       "    </tr>\n",
       "    <tr>\n",
       "      <th>1</th>\n",
       "      <td>211</td>\n",
       "      <td>79</td>\n",
       "    </tr>\n",
       "  </tbody>\n",
       "</table>\n",
       "</div>"
      ],
      "text/plain": [
       "TRT_70        0   1\n",
       "SAME-TT2R2         \n",
       "0           108  54\n",
       "1           211  79"
      ]
     },
     "execution_count": 247,
     "metadata": {},
     "output_type": "execute_result"
    }
   ],
   "source": [
    "# cross tab de SAME-TT2R2 = (0 y 1) y TRT_70\n",
    "pd.crosstab(SAME_0_1[\"SAME-TT2R2\"], df_sin_anomalos['TRT_70'])"
   ]
  },
  {
   "cell_type": "code",
   "execution_count": 248,
   "metadata": {},
   "outputs": [
    {
     "name": "stdout",
     "output_type": "stream",
     "text": [
      "stat=0.881, p=0.586\n",
      "No se rechaza H0, las variables son independientes\n"
     ]
    }
   ],
   "source": [
    "stat, p = fisher_exact(pd.crosstab(SAME_0_2[\"SAME-TT2R2\"], df_sin_anomalos['TRT_70']))\n",
    "print('stat=%.3f, p=%.3f' % (stat, p))\n",
    "if p > 0.05:\n",
    "    print('No se rechaza H0, las variables son independientes')\n",
    "else:\n",
    "    print('Se rechaza H0, las variables no son independientes')"
   ]
  },
  {
   "cell_type": "code",
   "execution_count": 249,
   "metadata": {},
   "outputs": [
    {
     "data": {
      "text/html": [
       "<div>\n",
       "<style scoped>\n",
       "    .dataframe tbody tr th:only-of-type {\n",
       "        vertical-align: middle;\n",
       "    }\n",
       "\n",
       "    .dataframe tbody tr th {\n",
       "        vertical-align: top;\n",
       "    }\n",
       "\n",
       "    .dataframe thead th {\n",
       "        text-align: right;\n",
       "    }\n",
       "</style>\n",
       "<table border=\"1\" class=\"dataframe\">\n",
       "  <thead>\n",
       "    <tr style=\"text-align: right;\">\n",
       "      <th>TRT_70</th>\n",
       "      <th>0</th>\n",
       "      <th>1</th>\n",
       "    </tr>\n",
       "    <tr>\n",
       "      <th>SAME-TT2R2</th>\n",
       "      <th></th>\n",
       "      <th></th>\n",
       "    </tr>\n",
       "  </thead>\n",
       "  <tbody>\n",
       "    <tr>\n",
       "      <th>0</th>\n",
       "      <td>108</td>\n",
       "      <td>54</td>\n",
       "    </tr>\n",
       "    <tr>\n",
       "      <th>2</th>\n",
       "      <td>168</td>\n",
       "      <td>74</td>\n",
       "    </tr>\n",
       "  </tbody>\n",
       "</table>\n",
       "</div>"
      ],
      "text/plain": [
       "TRT_70        0   1\n",
       "SAME-TT2R2         \n",
       "0           108  54\n",
       "2           168  74"
      ]
     },
     "execution_count": 249,
     "metadata": {},
     "output_type": "execute_result"
    }
   ],
   "source": [
    "# cross tab de SAME-TT2R2 = (0 y 2) y TRT_70\n",
    "pd.crosstab(SAME_0_2[\"SAME-TT2R2\"], df_sin_anomalos['TRT_70'])"
   ]
  },
  {
   "cell_type": "code",
   "execution_count": 250,
   "metadata": {},
   "outputs": [
    {
     "name": "stdout",
     "output_type": "stream",
     "text": [
      "stat=0.818, p=0.420\n",
      "No se rechaza H0, las variables son independientes\n"
     ]
    }
   ],
   "source": [
    "stat, p = fisher_exact(pd.crosstab(SAME_0_3[\"SAME-TT2R2\"], df_sin_anomalos['TRT_70']))\n",
    "print('stat=%.3f, p=%.3f' % (stat, p))\n",
    "if p > 0.05:\n",
    "    print('No se rechaza H0, las variables son independientes')\n",
    "else:\n",
    "    print('Se rechaza H0, las variables no son independientes')"
   ]
  },
  {
   "cell_type": "code",
   "execution_count": 251,
   "metadata": {},
   "outputs": [
    {
     "data": {
      "text/html": [
       "<div>\n",
       "<style scoped>\n",
       "    .dataframe tbody tr th:only-of-type {\n",
       "        vertical-align: middle;\n",
       "    }\n",
       "\n",
       "    .dataframe tbody tr th {\n",
       "        vertical-align: top;\n",
       "    }\n",
       "\n",
       "    .dataframe thead th {\n",
       "        text-align: right;\n",
       "    }\n",
       "</style>\n",
       "<table border=\"1\" class=\"dataframe\">\n",
       "  <thead>\n",
       "    <tr style=\"text-align: right;\">\n",
       "      <th>TRT_70</th>\n",
       "      <th>0</th>\n",
       "      <th>1</th>\n",
       "    </tr>\n",
       "    <tr>\n",
       "      <th>SAME-TT2R2</th>\n",
       "      <th></th>\n",
       "      <th></th>\n",
       "    </tr>\n",
       "  </thead>\n",
       "  <tbody>\n",
       "    <tr>\n",
       "      <th>0</th>\n",
       "      <td>108</td>\n",
       "      <td>54</td>\n",
       "    </tr>\n",
       "    <tr>\n",
       "      <th>3</th>\n",
       "      <td>137</td>\n",
       "      <td>56</td>\n",
       "    </tr>\n",
       "  </tbody>\n",
       "</table>\n",
       "</div>"
      ],
      "text/plain": [
       "TRT_70        0   1\n",
       "SAME-TT2R2         \n",
       "0           108  54\n",
       "3           137  56"
      ]
     },
     "execution_count": 251,
     "metadata": {},
     "output_type": "execute_result"
    }
   ],
   "source": [
    "# cross tab de SAME-TT2R2 = (0 y 3) y TRT_70\n",
    "pd.crosstab(SAME_0_3[\"SAME-TT2R2\"], df_sin_anomalos['TRT_70'])"
   ]
  },
  {
   "cell_type": "code",
   "execution_count": 252,
   "metadata": {},
   "outputs": [
    {
     "name": "stdout",
     "output_type": "stream",
     "text": [
      "stat=0.640, p=0.128\n",
      "No se rechaza H0, las variables son independientes\n"
     ]
    }
   ],
   "source": [
    "stat, p = fisher_exact(pd.crosstab(SAME_0_4[\"SAME-TT2R2\"], df_sin_anomalos['TRT_70']))\n",
    "print('stat=%.3f, p=%.3f' % (stat, p))\n",
    "if p > 0.05:\n",
    "    print('No se rechaza H0, las variables son independientes')\n",
    "else:\n",
    "    print('Se rechaza H0, las variables no son independientes')"
   ]
  },
  {
   "cell_type": "code",
   "execution_count": 253,
   "metadata": {},
   "outputs": [
    {
     "data": {
      "text/html": [
       "<div>\n",
       "<style scoped>\n",
       "    .dataframe tbody tr th:only-of-type {\n",
       "        vertical-align: middle;\n",
       "    }\n",
       "\n",
       "    .dataframe tbody tr th {\n",
       "        vertical-align: top;\n",
       "    }\n",
       "\n",
       "    .dataframe thead th {\n",
       "        text-align: right;\n",
       "    }\n",
       "</style>\n",
       "<table border=\"1\" class=\"dataframe\">\n",
       "  <thead>\n",
       "    <tr style=\"text-align: right;\">\n",
       "      <th>TRT_70</th>\n",
       "      <th>0</th>\n",
       "      <th>1</th>\n",
       "    </tr>\n",
       "    <tr>\n",
       "      <th>SAME-TT2R2</th>\n",
       "      <th></th>\n",
       "      <th></th>\n",
       "    </tr>\n",
       "  </thead>\n",
       "  <tbody>\n",
       "    <tr>\n",
       "      <th>0</th>\n",
       "      <td>108</td>\n",
       "      <td>54</td>\n",
       "    </tr>\n",
       "    <tr>\n",
       "      <th>4</th>\n",
       "      <td>75</td>\n",
       "      <td>24</td>\n",
       "    </tr>\n",
       "  </tbody>\n",
       "</table>\n",
       "</div>"
      ],
      "text/plain": [
       "TRT_70        0   1\n",
       "SAME-TT2R2         \n",
       "0           108  54\n",
       "4            75  24"
      ]
     },
     "execution_count": 253,
     "metadata": {},
     "output_type": "execute_result"
    }
   ],
   "source": [
    "# cross tab de SAME-TT2R2 = (0 y 4) y TRT_70\n",
    "pd.crosstab(SAME_0_4[\"SAME-TT2R2\"], df_sin_anomalos['TRT_70'])"
   ]
  },
  {
   "cell_type": "code",
   "execution_count": 254,
   "metadata": {},
   "outputs": [
    {
     "name": "stdout",
     "output_type": "stream",
     "text": [
      "stat=1.500, p=0.559\n",
      "No se rechaza H0, las variables son independientes\n"
     ]
    }
   ],
   "source": [
    "stat, p = fisher_exact(pd.crosstab(SAME_0_5[\"SAME-TT2R2\"], df_sin_anomalos['TRT_70']))\n",
    "print('stat=%.3f, p=%.3f' % (stat, p))\n",
    "if p > 0.05:\n",
    "    print('No se rechaza H0, las variables son independientes')\n",
    "else:\n",
    "    print('Se rechaza H0, las variables no son independientes')"
   ]
  },
  {
   "cell_type": "code",
   "execution_count": 255,
   "metadata": {},
   "outputs": [
    {
     "data": {
      "text/html": [
       "<div>\n",
       "<style scoped>\n",
       "    .dataframe tbody tr th:only-of-type {\n",
       "        vertical-align: middle;\n",
       "    }\n",
       "\n",
       "    .dataframe tbody tr th {\n",
       "        vertical-align: top;\n",
       "    }\n",
       "\n",
       "    .dataframe thead th {\n",
       "        text-align: right;\n",
       "    }\n",
       "</style>\n",
       "<table border=\"1\" class=\"dataframe\">\n",
       "  <thead>\n",
       "    <tr style=\"text-align: right;\">\n",
       "      <th>TRT_70</th>\n",
       "      <th>0</th>\n",
       "      <th>1</th>\n",
       "    </tr>\n",
       "    <tr>\n",
       "      <th>SAME-TT2R2</th>\n",
       "      <th></th>\n",
       "      <th></th>\n",
       "    </tr>\n",
       "  </thead>\n",
       "  <tbody>\n",
       "    <tr>\n",
       "      <th>0</th>\n",
       "      <td>108</td>\n",
       "      <td>54</td>\n",
       "    </tr>\n",
       "    <tr>\n",
       "      <th>5</th>\n",
       "      <td>8</td>\n",
       "      <td>6</td>\n",
       "    </tr>\n",
       "  </tbody>\n",
       "</table>\n",
       "</div>"
      ],
      "text/plain": [
       "TRT_70        0   1\n",
       "SAME-TT2R2         \n",
       "0           108  54\n",
       "5             8   6"
      ]
     },
     "execution_count": 255,
     "metadata": {},
     "output_type": "execute_result"
    }
   ],
   "source": [
    "# cross tab de SAME-TT2R2 = (0 y 5) y TRT_70\n",
    "pd.crosstab(SAME_0_5[\"SAME-TT2R2\"], df_sin_anomalos['TRT_70'])"
   ]
  },
  {
   "attachments": {},
   "cell_type": "markdown",
   "metadata": {},
   "source": [
    "### TRT_70 vs SAME-TT2R2_MAS2"
   ]
  },
  {
   "cell_type": "code",
   "execution_count": 256,
   "metadata": {},
   "outputs": [
    {
     "name": "stdout",
     "output_type": "stream",
     "text": [
      "stat=0.989, p=0.944\n",
      "No se rechaza H0, las variables son independientes\n"
     ]
    }
   ],
   "source": [
    "# test de fisher para SAME-TT2R2_2 y TRT_60\n",
    "from scipy.stats import fisher_exact\n",
    "\n",
    "# test fisher\n",
    "stat, p = fisher_exact(pd.crosstab(df_sin_anomalos['SAME-TT2R2_MAS2'], df_sin_anomalos['TRT_70']))\n",
    "print('stat=%.3f, p=%.3f' % (stat, p))\n",
    "if p > 0.05:\n",
    "    print('No se rechaza H0, las variables son independientes')\n",
    "else:\n",
    "    print('Se rechaza H0, las variables no son independientes')"
   ]
  },
  {
   "cell_type": "code",
   "execution_count": 257,
   "metadata": {},
   "outputs": [
    {
     "data": {
      "text/html": [
       "<div>\n",
       "<style scoped>\n",
       "    .dataframe tbody tr th:only-of-type {\n",
       "        vertical-align: middle;\n",
       "    }\n",
       "\n",
       "    .dataframe tbody tr th {\n",
       "        vertical-align: top;\n",
       "    }\n",
       "\n",
       "    .dataframe thead th {\n",
       "        text-align: right;\n",
       "    }\n",
       "</style>\n",
       "<table border=\"1\" class=\"dataframe\">\n",
       "  <thead>\n",
       "    <tr style=\"text-align: right;\">\n",
       "      <th>TRT_70</th>\n",
       "      <th>0</th>\n",
       "      <th>1</th>\n",
       "    </tr>\n",
       "    <tr>\n",
       "      <th>SAME-TT2R2_MAS2</th>\n",
       "      <th></th>\n",
       "      <th></th>\n",
       "    </tr>\n",
       "  </thead>\n",
       "  <tbody>\n",
       "    <tr>\n",
       "      <th>0</th>\n",
       "      <td>319</td>\n",
       "      <td>133</td>\n",
       "    </tr>\n",
       "    <tr>\n",
       "      <th>1</th>\n",
       "      <td>388</td>\n",
       "      <td>160</td>\n",
       "    </tr>\n",
       "  </tbody>\n",
       "</table>\n",
       "</div>"
      ],
      "text/plain": [
       "TRT_70             0    1\n",
       "SAME-TT2R2_MAS2          \n",
       "0                319  133\n",
       "1                388  160"
      ]
     },
     "execution_count": 257,
     "metadata": {},
     "output_type": "execute_result"
    }
   ],
   "source": [
    "pd.crosstab(df_sin_anomalos['SAME-TT2R2_MAS2'], df_sin_anomalos['TRT_70'])"
   ]
  },
  {
   "attachments": {},
   "cell_type": "markdown",
   "metadata": {},
   "source": [
    "### TRT_70 vs SAME-TT2R2_MAS3"
   ]
  },
  {
   "cell_type": "code",
   "execution_count": 258,
   "metadata": {},
   "outputs": [
    {
     "name": "stdout",
     "output_type": "stream",
     "text": [
      "stat=0.920, p=0.598\n",
      "No se rechaza H0, las variables son independientes\n"
     ]
    }
   ],
   "source": [
    "# test de fisher para SAME-TT2R2_3 y TRT_60\n",
    "from scipy.stats import fisher_exact\n",
    "\n",
    "# test fisher\n",
    "stat, p = fisher_exact(pd.crosstab(df_sin_anomalos['SAME-TT2R2_MAS3'], df_sin_anomalos['TRT_70']))\n",
    "print('stat=%.3f, p=%.3f' % (stat, p))\n",
    "if p > 0.05:\n",
    "    print('No se rechaza H0, las variables son independientes')\n",
    "else:\n",
    "    print('Se rechaza H0, las variables no son independientes')"
   ]
  },
  {
   "cell_type": "code",
   "execution_count": 259,
   "metadata": {},
   "outputs": [
    {
     "data": {
      "text/html": [
       "<div>\n",
       "<style scoped>\n",
       "    .dataframe tbody tr th:only-of-type {\n",
       "        vertical-align: middle;\n",
       "    }\n",
       "\n",
       "    .dataframe tbody tr th {\n",
       "        vertical-align: top;\n",
       "    }\n",
       "\n",
       "    .dataframe thead th {\n",
       "        text-align: right;\n",
       "    }\n",
       "</style>\n",
       "<table border=\"1\" class=\"dataframe\">\n",
       "  <thead>\n",
       "    <tr style=\"text-align: right;\">\n",
       "      <th>TRT_70</th>\n",
       "      <th>0</th>\n",
       "      <th>1</th>\n",
       "    </tr>\n",
       "    <tr>\n",
       "      <th>SAME-TT2R2_MAS3</th>\n",
       "      <th></th>\n",
       "      <th></th>\n",
       "    </tr>\n",
       "  </thead>\n",
       "  <tbody>\n",
       "    <tr>\n",
       "      <th>0</th>\n",
       "      <td>487</td>\n",
       "      <td>207</td>\n",
       "    </tr>\n",
       "    <tr>\n",
       "      <th>1</th>\n",
       "      <td>220</td>\n",
       "      <td>86</td>\n",
       "    </tr>\n",
       "  </tbody>\n",
       "</table>\n",
       "</div>"
      ],
      "text/plain": [
       "TRT_70             0    1\n",
       "SAME-TT2R2_MAS3          \n",
       "0                487  207\n",
       "1                220   86"
      ]
     },
     "execution_count": 259,
     "metadata": {},
     "output_type": "execute_result"
    }
   ],
   "source": [
    "pd.crosstab(df_sin_anomalos['SAME-TT2R2_MAS3'], df_sin_anomalos['TRT_70'])"
   ]
  },
  {
   "attachments": {},
   "cell_type": "markdown",
   "metadata": {},
   "source": [
    "### TRT_70 vs SAME-TT2R2_MAS4"
   ]
  },
  {
   "cell_type": "code",
   "execution_count": 260,
   "metadata": {},
   "outputs": [
    {
     "name": "stdout",
     "output_type": "stream",
     "text": [
      "stat=0.858, p=0.583\n",
      "No se rechaza H0, las variables son independientes\n"
     ]
    }
   ],
   "source": [
    "stat, p = fisher_exact(pd.crosstab(df_sin_anomalos['SAME-TT2R2_MAS4'], df_sin_anomalos['TRT_70']))\n",
    "print('stat=%.3f, p=%.3f' % (stat, p))\n",
    "if p > 0.05:\n",
    "    print('No se rechaza H0, las variables son independientes')\n",
    "else:\n",
    "    print('Se rechaza H0, las variables no son independientes')"
   ]
  },
  {
   "cell_type": "code",
   "execution_count": 261,
   "metadata": {},
   "outputs": [
    {
     "data": {
      "text/html": [
       "<div>\n",
       "<style scoped>\n",
       "    .dataframe tbody tr th:only-of-type {\n",
       "        vertical-align: middle;\n",
       "    }\n",
       "\n",
       "    .dataframe tbody tr th {\n",
       "        vertical-align: top;\n",
       "    }\n",
       "\n",
       "    .dataframe thead th {\n",
       "        text-align: right;\n",
       "    }\n",
       "</style>\n",
       "<table border=\"1\" class=\"dataframe\">\n",
       "  <thead>\n",
       "    <tr style=\"text-align: right;\">\n",
       "      <th>TRT_70</th>\n",
       "      <th>0</th>\n",
       "      <th>1</th>\n",
       "    </tr>\n",
       "    <tr>\n",
       "      <th>SAME-TT2R2_MAS4</th>\n",
       "      <th></th>\n",
       "      <th></th>\n",
       "    </tr>\n",
       "  </thead>\n",
       "  <tbody>\n",
       "    <tr>\n",
       "      <th>0</th>\n",
       "      <td>624</td>\n",
       "      <td>263</td>\n",
       "    </tr>\n",
       "    <tr>\n",
       "      <th>1</th>\n",
       "      <td>83</td>\n",
       "      <td>30</td>\n",
       "    </tr>\n",
       "  </tbody>\n",
       "</table>\n",
       "</div>"
      ],
      "text/plain": [
       "TRT_70             0    1\n",
       "SAME-TT2R2_MAS4          \n",
       "0                624  263\n",
       "1                 83   30"
      ]
     },
     "execution_count": 261,
     "metadata": {},
     "output_type": "execute_result"
    }
   ],
   "source": [
    "pd.crosstab(df_sin_anomalos['SAME-TT2R2_MAS4'], df_sin_anomalos['TRT_70'])"
   ]
  },
  {
   "attachments": {},
   "cell_type": "markdown",
   "metadata": {},
   "source": [
    "### 0 vs CADA VARIABLE"
   ]
  },
  {
   "cell_type": "code",
   "execution_count": 262,
   "metadata": {},
   "outputs": [
    {
     "name": "stdout",
     "output_type": "stream",
     "text": [
      "stat=24540.000, p=0.429\n",
      "No se rechaza H0, las variables son independientes\n"
     ]
    }
   ],
   "source": [
    "# comparar mann whitney SAME-TT2R2 (0 con 1) con TRT_6MESES_SIN_1_MES\n",
    "from scipy.stats import mannwhitneyu\n",
    "\n",
    "# test mann whitney\n",
    "stat, p = mannwhitneyu(df_sin_anomalos.loc[df_sin_anomalos['SAME-TT2R2'] == 0, 'TRT_6MESES_SIN_1_MES'], df_sin_anomalos.loc[df_sin_anomalos['SAME-TT2R2'] == 1, 'TRT_6MESES_SIN_1_MES'])\n",
    "print('stat=%.3f, p=%.3f' % (stat, p))\n",
    "if p > 0.05:\n",
    "    print('No se rechaza H0, las variables son independientes')\n",
    "else:\n",
    "    print('Se rechaza H0, las variables no son independientes')\n"
   ]
  },
  {
   "cell_type": "code",
   "execution_count": 263,
   "metadata": {},
   "outputs": [
    {
     "name": "stdout",
     "output_type": "stream",
     "text": [
      "stat=19761.000, p=0.890\n",
      "No se rechaza H0, las variables son independientes\n"
     ]
    }
   ],
   "source": [
    "# comparar mann whitney SAME-TT2R2 (0 con 1) con TRT_6MESES_SIN_1_MES\n",
    "from scipy.stats import mannwhitneyu\n",
    "\n",
    "# test mann whitney\n",
    "stat, p = mannwhitneyu(df_sin_anomalos.loc[df_sin_anomalos['SAME-TT2R2'] == 0, 'TRT_6MESES_SIN_1_MES'], df_sin_anomalos.loc[df_sin_anomalos['SAME-TT2R2'] == 2, 'TRT_6MESES_SIN_1_MES'])\n",
    "print('stat=%.3f, p=%.3f' % (stat, p))\n",
    "if p > 0.05:\n",
    "    print('No se rechaza H0, las variables son independientes')\n",
    "else:\n",
    "    print('Se rechaza H0, las variables no son independientes')"
   ]
  },
  {
   "cell_type": "code",
   "execution_count": 264,
   "metadata": {},
   "outputs": [
    {
     "name": "stdout",
     "output_type": "stream",
     "text": [
      "stat=16986.000, p=0.159\n",
      "No se rechaza H0, las variables son independientes\n"
     ]
    }
   ],
   "source": [
    "# comparar mann whitney SAME-TT2R2 (0 con 1) con TRT_6MESES_SIN_1_MES\n",
    "from scipy.stats import mannwhitneyu\n",
    "\n",
    "# test mann whitney\n",
    "stat, p = mannwhitneyu(df_sin_anomalos.loc[df_sin_anomalos['SAME-TT2R2'] == 0, 'TRT_6MESES_SIN_1_MES'], df_sin_anomalos.loc[df_sin_anomalos['SAME-TT2R2'] == 3, 'TRT_6MESES_SIN_1_MES'])\n",
    "print('stat=%.3f, p=%.3f' % (stat, p))\n",
    "if p > 0.05:\n",
    "    print('No se rechaza H0, las variables son independientes')\n",
    "else:\n",
    "    print('Se rechaza H0, las variables no son independientes')"
   ]
  },
  {
   "cell_type": "code",
   "execution_count": 265,
   "metadata": {},
   "outputs": [
    {
     "name": "stdout",
     "output_type": "stream",
     "text": [
      "stat=9172.500, p=0.051\n",
      "No se rechaza H0, las variables son independientes\n"
     ]
    }
   ],
   "source": [
    "# comparar mann whitney SAME-TT2R2 (0 con 1) con TRT_6MESES_SIN_1_MES\n",
    "from scipy.stats import mannwhitneyu\n",
    "\n",
    "# test mann whitney\n",
    "stat, p = mannwhitneyu(df_sin_anomalos.loc[df_sin_anomalos['SAME-TT2R2'] == 0, 'TRT_6MESES_SIN_1_MES'], df_sin_anomalos.loc[df_sin_anomalos['SAME-TT2R2'] == 4, 'TRT_6MESES_SIN_1_MES'])\n",
    "print('stat=%.3f, p=%.3f' % (stat, p))\n",
    "if p > 0.05:\n",
    "    print('No se rechaza H0, las variables son independientes')\n",
    "else:\n",
    "    print('Se rechaza H0, las variables no son independientes')"
   ]
  },
  {
   "cell_type": "code",
   "execution_count": 266,
   "metadata": {},
   "outputs": [
    {
     "name": "stdout",
     "output_type": "stream",
     "text": [
      "stat=1237.500, p=0.572\n",
      "No se rechaza H0, las variables son independientes\n"
     ]
    }
   ],
   "source": [
    "# comparar mann whitney SAME-TT2R2 (0 con 1) con TRT_6MESES_SIN_1_MES\n",
    "from scipy.stats import mannwhitneyu\n",
    "\n",
    "# test mann whitney\n",
    "stat, p = mannwhitneyu(df_sin_anomalos.loc[df_sin_anomalos['SAME-TT2R2'] == 0, 'TRT_6MESES_SIN_1_MES'], df_sin_anomalos.loc[df_sin_anomalos['SAME-TT2R2'] == 5, 'TRT_6MESES_SIN_1_MES'])\n",
    "print('stat=%.3f, p=%.3f' % (stat, p))\n",
    "if p > 0.05:\n",
    "    print('No se rechaza H0, las variables son independientes')\n",
    "else:\n",
    "    print('Se rechaza H0, las variables no son independientes')"
   ]
  },
  {
   "attachments": {},
   "cell_type": "markdown",
   "metadata": {},
   "source": [
    "### Variables significativas"
   ]
  },
  {
   "cell_type": "code",
   "execution_count": 267,
   "metadata": {},
   "outputs": [],
   "source": [
    "df_var_same = df_sin_anomalos[['SAME-TT2R2_MAS3', 'TRT_6MESES_SIN_1_MES',\"SEXO_M\",\"EDAD_60\",\"SAME_MAS_DE_2\",\"AMIODARONA\",\"FUMA\"]]"
   ]
  },
  {
   "cell_type": "code",
   "execution_count": 268,
   "metadata": {},
   "outputs": [
    {
     "data": {
      "text/html": [
       "<div>\n",
       "<style scoped>\n",
       "    .dataframe tbody tr th:only-of-type {\n",
       "        vertical-align: middle;\n",
       "    }\n",
       "\n",
       "    .dataframe tbody tr th {\n",
       "        vertical-align: top;\n",
       "    }\n",
       "\n",
       "    .dataframe thead tr th {\n",
       "        text-align: left;\n",
       "    }\n",
       "\n",
       "    .dataframe thead tr:last-of-type th {\n",
       "        text-align: right;\n",
       "    }\n",
       "</style>\n",
       "<table border=\"1\" class=\"dataframe\">\n",
       "  <thead>\n",
       "    <tr>\n",
       "      <th></th>\n",
       "      <th colspan=\"8\" halign=\"left\">TRT_6MESES_SIN_1_MES</th>\n",
       "      <th colspan=\"2\" halign=\"left\">SEXO_M</th>\n",
       "      <th>...</th>\n",
       "      <th colspan=\"2\" halign=\"left\">AMIODARONA</th>\n",
       "      <th colspan=\"8\" halign=\"left\">FUMA</th>\n",
       "    </tr>\n",
       "    <tr>\n",
       "      <th></th>\n",
       "      <th>count</th>\n",
       "      <th>mean</th>\n",
       "      <th>std</th>\n",
       "      <th>min</th>\n",
       "      <th>25%</th>\n",
       "      <th>50%</th>\n",
       "      <th>75%</th>\n",
       "      <th>max</th>\n",
       "      <th>count</th>\n",
       "      <th>mean</th>\n",
       "      <th>...</th>\n",
       "      <th>75%</th>\n",
       "      <th>max</th>\n",
       "      <th>count</th>\n",
       "      <th>mean</th>\n",
       "      <th>std</th>\n",
       "      <th>min</th>\n",
       "      <th>25%</th>\n",
       "      <th>50%</th>\n",
       "      <th>75%</th>\n",
       "      <th>max</th>\n",
       "    </tr>\n",
       "    <tr>\n",
       "      <th>SAME-TT2R2_MAS3</th>\n",
       "      <th></th>\n",
       "      <th></th>\n",
       "      <th></th>\n",
       "      <th></th>\n",
       "      <th></th>\n",
       "      <th></th>\n",
       "      <th></th>\n",
       "      <th></th>\n",
       "      <th></th>\n",
       "      <th></th>\n",
       "      <th></th>\n",
       "      <th></th>\n",
       "      <th></th>\n",
       "      <th></th>\n",
       "      <th></th>\n",
       "      <th></th>\n",
       "      <th></th>\n",
       "      <th></th>\n",
       "      <th></th>\n",
       "      <th></th>\n",
       "      <th></th>\n",
       "    </tr>\n",
       "  </thead>\n",
       "  <tbody>\n",
       "    <tr>\n",
       "      <th>0</th>\n",
       "      <td>694.0</td>\n",
       "      <td>57.880115</td>\n",
       "      <td>18.900594</td>\n",
       "      <td>0.0</td>\n",
       "      <td>44.4</td>\n",
       "      <td>55.6</td>\n",
       "      <td>71.4</td>\n",
       "      <td>100.0</td>\n",
       "      <td>694.0</td>\n",
       "      <td>0.394813</td>\n",
       "      <td>...</td>\n",
       "      <td>0.0</td>\n",
       "      <td>1.0</td>\n",
       "      <td>694.0</td>\n",
       "      <td>0.141210</td>\n",
       "      <td>0.348490</td>\n",
       "      <td>0.0</td>\n",
       "      <td>0.0</td>\n",
       "      <td>0.0</td>\n",
       "      <td>0.0</td>\n",
       "      <td>1.0</td>\n",
       "    </tr>\n",
       "    <tr>\n",
       "      <th>1</th>\n",
       "      <td>306.0</td>\n",
       "      <td>55.115033</td>\n",
       "      <td>20.680363</td>\n",
       "      <td>0.0</td>\n",
       "      <td>40.0</td>\n",
       "      <td>50.0</td>\n",
       "      <td>71.4</td>\n",
       "      <td>100.0</td>\n",
       "      <td>306.0</td>\n",
       "      <td>0.653595</td>\n",
       "      <td>...</td>\n",
       "      <td>0.0</td>\n",
       "      <td>1.0</td>\n",
       "      <td>306.0</td>\n",
       "      <td>0.947712</td>\n",
       "      <td>0.222971</td>\n",
       "      <td>0.0</td>\n",
       "      <td>1.0</td>\n",
       "      <td>1.0</td>\n",
       "      <td>1.0</td>\n",
       "      <td>1.0</td>\n",
       "    </tr>\n",
       "  </tbody>\n",
       "</table>\n",
       "<p>2 rows × 48 columns</p>\n",
       "</div>"
      ],
      "text/plain": [
       "                TRT_6MESES_SIN_1_MES                                         \\\n",
       "                               count       mean        std  min   25%   50%   \n",
       "SAME-TT2R2_MAS3                                                               \n",
       "0                              694.0  57.880115  18.900594  0.0  44.4  55.6   \n",
       "1                              306.0  55.115033  20.680363  0.0  40.0  50.0   \n",
       "\n",
       "                             SEXO_M            ... AMIODARONA        FUMA  \\\n",
       "                  75%    max  count      mean  ...        75%  max  count   \n",
       "SAME-TT2R2_MAS3                                ...                          \n",
       "0                71.4  100.0  694.0  0.394813  ...        0.0  1.0  694.0   \n",
       "1                71.4  100.0  306.0  0.653595  ...        0.0  1.0  306.0   \n",
       "\n",
       "                                                              \n",
       "                     mean       std  min  25%  50%  75%  max  \n",
       "SAME-TT2R2_MAS3                                               \n",
       "0                0.141210  0.348490  0.0  0.0  0.0  0.0  1.0  \n",
       "1                0.947712  0.222971  0.0  1.0  1.0  1.0  1.0  \n",
       "\n",
       "[2 rows x 48 columns]"
      ]
     },
     "execution_count": 268,
     "metadata": {},
     "output_type": "execute_result"
    }
   ],
   "source": [
    "# descriptiva de las variables segun SAME-TT2R2_MAS3\n",
    "df_var_same.groupby('SAME-TT2R2_MAS3').describe()"
   ]
  },
  {
   "attachments": {},
   "cell_type": "markdown",
   "metadata": {},
   "source": [
    "#### SEXO"
   ]
  },
  {
   "cell_type": "code",
   "execution_count": 269,
   "metadata": {},
   "outputs": [
    {
     "name": "stdout",
     "output_type": "stream",
     "text": [
      "SEXO_M = 0\n",
      "ShapiroResult(statistic=0.9845153093338013, pvalue=2.1908832422923297e-05)\n",
      "\n",
      "SEXO_M = 1\n",
      "ShapiroResult(statistic=0.9792754054069519, pvalue=2.7947526177740656e-06)\n",
      "\n"
     ]
    }
   ],
   "source": [
    "# test de normalidad de las variables segun SAME-TT2R2_MAS3\n",
    "for i in range(2):\n",
    "    print('SEXO_M =', i)\n",
    "    print(shapiro(df_var_same[df_var_same['SEXO_M']==i]['TRT_6MESES_SIN_1_MES']))\n",
    "    print()"
   ]
  },
  {
   "cell_type": "code",
   "execution_count": 270,
   "metadata": {},
   "outputs": [
    {
     "name": "stdout",
     "output_type": "stream",
     "text": [
      "stat=4.184, p=0.041\n",
      "Se rechaza H0, las variables no son homogeneas\n"
     ]
    }
   ],
   "source": [
    "# test de homogeneidad de varianzas con levene\n",
    "from scipy.stats import levene\n",
    "\n",
    "# test levene\n",
    "stat, p = levene(df_sin_anomalos.loc[df_sin_anomalos['SEXO_M'] == 0, 'TRT_6MESES_SIN_1_MES'], df_sin_anomalos.loc[df_sin_anomalos['SEXO_M'] == 1, 'TRT_6MESES_SIN_1_MES'])\n",
    "print('stat=%.3f, p=%.3f' % (stat, p))\n",
    "if p > 0.05:\n",
    "    print('No se rechaza H0, las variables son homogeneas')\n",
    "else:\n",
    "    print('Se rechaza H0, las variables no son homogeneas')"
   ]
  },
  {
   "cell_type": "code",
   "execution_count": 271,
   "metadata": {},
   "outputs": [
    {
     "name": "stdout",
     "output_type": "stream",
     "text": [
      "stat=125352.500, p=0.879\n",
      "No se rechaza H0, las variables son independientes\n"
     ]
    }
   ],
   "source": [
    "# mann whitney entre TRT_6MESES_SIN_1_MES y SEXO\n",
    "from scipy.stats import mannwhitneyu\n",
    "\n",
    "# test mann whitney\n",
    "stat, p = mannwhitneyu(df_sin_anomalos.loc[df_sin_anomalos['SEXO_M'] == 0, 'TRT_6MESES_SIN_1_MES'], df_sin_anomalos.loc[df_sin_anomalos['SEXO_M'] == 1, 'TRT_6MESES_SIN_1_MES'])\n",
    "print('stat=%.3f, p=%.3f' % (stat, p))\n",
    "if p > 0.05:\n",
    "    print('No se rechaza H0, las variables son independientes')\n",
    "else:\n",
    "    print('Se rechaza H0, las variables no son independientes')"
   ]
  },
  {
   "cell_type": "code",
   "execution_count": 272,
   "metadata": {},
   "outputs": [
    {
     "data": {
      "text/plain": [
       "<AxesSubplot:xlabel='SEXO_M', ylabel='TRT_6MESES_SIN_1_MES'>"
      ]
     },
     "execution_count": 272,
     "metadata": {},
     "output_type": "execute_result"
    },
    {
     "data": {
      "image/png": "[encoded data removed]",
      "text/plain": [
       "<Figure size 640x480 with 1 Axes>"
      ]
     },
     "metadata": {},
     "output_type": "display_data"
    }
   ],
   "source": [
    "# boxplot de TRT_6MESES_SIN_1_MES por SEXO\n",
    "sns.boxplot(x='SEXO_M', y='TRT_6MESES_SIN_1_MES', data=df_sin_anomalos)"
   ]
  },
  {
   "cell_type": "code",
   "execution_count": 273,
   "metadata": {},
   "outputs": [
    {
     "data": {
      "text/html": [
       "<div>\n",
       "<style scoped>\n",
       "    .dataframe tbody tr th:only-of-type {\n",
       "        vertical-align: middle;\n",
       "    }\n",
       "\n",
       "    .dataframe tbody tr th {\n",
       "        vertical-align: top;\n",
       "    }\n",
       "\n",
       "    .dataframe thead th {\n",
       "        text-align: right;\n",
       "    }\n",
       "</style>\n",
       "<table border=\"1\" class=\"dataframe\">\n",
       "  <thead>\n",
       "    <tr style=\"text-align: right;\">\n",
       "      <th></th>\n",
       "      <th>count</th>\n",
       "      <th>mean</th>\n",
       "      <th>std</th>\n",
       "      <th>min</th>\n",
       "      <th>25%</th>\n",
       "      <th>50%</th>\n",
       "      <th>75%</th>\n",
       "      <th>max</th>\n",
       "    </tr>\n",
       "    <tr>\n",
       "      <th>SEXO_M</th>\n",
       "      <th></th>\n",
       "      <th></th>\n",
       "      <th></th>\n",
       "      <th></th>\n",
       "      <th></th>\n",
       "      <th></th>\n",
       "      <th></th>\n",
       "      <th></th>\n",
       "    </tr>\n",
       "  </thead>\n",
       "  <tbody>\n",
       "    <tr>\n",
       "      <th>0</th>\n",
       "      <td>526.0</td>\n",
       "      <td>56.985361</td>\n",
       "      <td>18.572095</td>\n",
       "      <td>0.0</td>\n",
       "      <td>44.4</td>\n",
       "      <td>55.6</td>\n",
       "      <td>71.4</td>\n",
       "      <td>100.0</td>\n",
       "    </tr>\n",
       "    <tr>\n",
       "      <th>1</th>\n",
       "      <td>474.0</td>\n",
       "      <td>57.087975</td>\n",
       "      <td>20.487728</td>\n",
       "      <td>0.0</td>\n",
       "      <td>42.9</td>\n",
       "      <td>55.6</td>\n",
       "      <td>71.4</td>\n",
       "      <td>100.0</td>\n",
       "    </tr>\n",
       "  </tbody>\n",
       "</table>\n",
       "</div>"
      ],
      "text/plain": [
       "        count       mean        std  min   25%   50%   75%    max\n",
       "SEXO_M                                                           \n",
       "0       526.0  56.985361  18.572095  0.0  44.4  55.6  71.4  100.0\n",
       "1       474.0  57.087975  20.487728  0.0  42.9  55.6  71.4  100.0"
      ]
     },
     "execution_count": 273,
     "metadata": {},
     "output_type": "execute_result"
    }
   ],
   "source": [
    "# descriptivo de TRT_6MESES_SIN_1_MES por SEXO\n",
    "df_sin_anomalos.groupby('SEXO_M')['TRT_6MESES_SIN_1_MES'].describe()"
   ]
  },
  {
   "attachments": {},
   "cell_type": "markdown",
   "metadata": {},
   "source": [
    "#### SAME_MAS_DE_2"
   ]
  },
  {
   "cell_type": "code",
   "execution_count": 274,
   "metadata": {},
   "outputs": [
    {
     "name": "stdout",
     "output_type": "stream",
     "text": [
      "SAME_MAS_DE_2 = 0\n",
      "ShapiroResult(statistic=0.9845153093338013, pvalue=2.1908832422923297e-05)\n",
      "\n",
      "SAME_MAS_DE_2 = 1\n",
      "ShapiroResult(statistic=0.9792754054069519, pvalue=2.7947526177740656e-06)\n",
      "\n"
     ]
    }
   ],
   "source": [
    "for i in range(2):\n",
    "    print('SAME_MAS_DE_2 =', i)\n",
    "    print(shapiro(df_var_same[df_var_same['SEXO_M']==i]['TRT_6MESES_SIN_1_MES']))\n",
    "    print()"
   ]
  },
  {
   "cell_type": "code",
   "execution_count": 275,
   "metadata": {},
   "outputs": [
    {
     "name": "stdout",
     "output_type": "stream",
     "text": [
      "stat=3.251, p=0.072\n",
      "No se rechaza H0, las variables son homogeneas\n"
     ]
    }
   ],
   "source": [
    "# test de homogeneidad de varianzas con levene\n",
    "from scipy.stats import levene\n",
    "\n",
    "# test levene\n",
    "stat, p = levene(df_sin_anomalos.loc[df_sin_anomalos['SAME_MAS_DE_2'] == 0, 'TRT_6MESES_SIN_1_MES'], df_sin_anomalos.loc[df_sin_anomalos['SAME_MAS_DE_2'] == 1, 'TRT_6MESES_SIN_1_MES'])\n",
    "print('stat=%.3f, p=%.3f' % (stat, p))\n",
    "if p > 0.05:\n",
    "    print('No se rechaza H0, las variables son homogeneas')\n",
    "else:\n",
    "    print('Se rechaza H0, las variables no son homogeneas')"
   ]
  },
  {
   "cell_type": "code",
   "execution_count": 276,
   "metadata": {},
   "outputs": [
    {
     "name": "stdout",
     "output_type": "stream",
     "text": [
      "stat=122163.000, p=0.153\n",
      "No se rechaza H0, las variables son independientes\n"
     ]
    }
   ],
   "source": [
    "# mann whitney entre TRT_6MESES_SIN_1_MES y SEXO\n",
    "from scipy.stats import mannwhitneyu\n",
    "\n",
    "# test mann whitney\n",
    "stat, p = mannwhitneyu(df_sin_anomalos.loc[df_sin_anomalos['SAME_MAS_DE_2'] == 0, 'TRT_6MESES_SIN_1_MES'], df_sin_anomalos.loc[df_sin_anomalos['SAME_MAS_DE_2'] == 1, 'TRT_6MESES_SIN_1_MES'])\n",
    "print('stat=%.3f, p=%.3f' % (stat, p))\n",
    "if p > 0.05:\n",
    "    print('No se rechaza H0, las variables son independientes')\n",
    "else:\n",
    "    print('Se rechaza H0, las variables no son independientes')"
   ]
  },
  {
   "cell_type": "code",
   "execution_count": 277,
   "metadata": {},
   "outputs": [
    {
     "data": {
      "text/plain": [
       "<AxesSubplot:xlabel='SAME_MAS_DE_2', ylabel='TRT_6MESES_SIN_1_MES'>"
      ]
     },
     "execution_count": 277,
     "metadata": {},
     "output_type": "execute_result"
    },
    {
     "data": {
      "image/png": "[encoded data removed]",
      "text/plain": [
       "<Figure size 640x480 with 1 Axes>"
      ]
     },
     "metadata": {},
     "output_type": "display_data"
    }
   ],
   "source": [
    "# boxplot de TRT_6MESES_SIN_1_MES por SAME_MAS_DE_2\n",
    "sns.boxplot(x='SAME_MAS_DE_2', y='TRT_6MESES_SIN_1_MES', data=df_sin_anomalos)"
   ]
  },
  {
   "cell_type": "code",
   "execution_count": 278,
   "metadata": {},
   "outputs": [
    {
     "data": {
      "text/html": [
       "<div>\n",
       "<style scoped>\n",
       "    .dataframe tbody tr th:only-of-type {\n",
       "        vertical-align: middle;\n",
       "    }\n",
       "\n",
       "    .dataframe tbody tr th {\n",
       "        vertical-align: top;\n",
       "    }\n",
       "\n",
       "    .dataframe thead th {\n",
       "        text-align: right;\n",
       "    }\n",
       "</style>\n",
       "<table border=\"1\" class=\"dataframe\">\n",
       "  <thead>\n",
       "    <tr style=\"text-align: right;\">\n",
       "      <th></th>\n",
       "      <th>count</th>\n",
       "      <th>mean</th>\n",
       "      <th>std</th>\n",
       "      <th>min</th>\n",
       "      <th>25%</th>\n",
       "      <th>50%</th>\n",
       "      <th>75%</th>\n",
       "      <th>max</th>\n",
       "    </tr>\n",
       "    <tr>\n",
       "      <th>SAME_MAS_DE_2</th>\n",
       "      <th></th>\n",
       "      <th></th>\n",
       "      <th></th>\n",
       "      <th></th>\n",
       "      <th></th>\n",
       "      <th></th>\n",
       "      <th></th>\n",
       "      <th></th>\n",
       "    </tr>\n",
       "  </thead>\n",
       "  <tbody>\n",
       "    <tr>\n",
       "      <th>0</th>\n",
       "      <td>635.0</td>\n",
       "      <td>57.831811</td>\n",
       "      <td>19.973095</td>\n",
       "      <td>0.0</td>\n",
       "      <td>42.9</td>\n",
       "      <td>55.6</td>\n",
       "      <td>71.4</td>\n",
       "      <td>100.0</td>\n",
       "    </tr>\n",
       "    <tr>\n",
       "      <th>1</th>\n",
       "      <td>365.0</td>\n",
       "      <td>55.646027</td>\n",
       "      <td>18.575794</td>\n",
       "      <td>0.0</td>\n",
       "      <td>44.4</td>\n",
       "      <td>54.5</td>\n",
       "      <td>70.0</td>\n",
       "      <td>100.0</td>\n",
       "    </tr>\n",
       "  </tbody>\n",
       "</table>\n",
       "</div>"
      ],
      "text/plain": [
       "               count       mean        std  min   25%   50%   75%    max\n",
       "SAME_MAS_DE_2                                                           \n",
       "0              635.0  57.831811  19.973095  0.0  42.9  55.6  71.4  100.0\n",
       "1              365.0  55.646027  18.575794  0.0  44.4  54.5  70.0  100.0"
      ]
     },
     "execution_count": 278,
     "metadata": {},
     "output_type": "execute_result"
    }
   ],
   "source": [
    "# descriptivo de TRT_6MESES_SIN_1_MES por SAME_MAS_DE_2\n",
    "df_sin_anomalos.groupby('SAME_MAS_DE_2')['TRT_6MESES_SIN_1_MES'].describe()"
   ]
  },
  {
   "attachments": {},
   "cell_type": "markdown",
   "metadata": {},
   "source": [
    "#### AMIODARONA"
   ]
  },
  {
   "cell_type": "code",
   "execution_count": 279,
   "metadata": {},
   "outputs": [
    {
     "name": "stdout",
     "output_type": "stream",
     "text": [
      "AMIODARONA = 0\n",
      "ShapiroResult(statistic=0.9835572242736816, pvalue=2.4823515687444342e-08)\n",
      "\n",
      "AMIODARONA = 1\n",
      "ShapiroResult(statistic=0.9719729423522949, pvalue=0.009302784688770771)\n",
      "\n"
     ]
    }
   ],
   "source": [
    "for i in range(2):\n",
    "    print('AMIODARONA =', i)\n",
    "    print(shapiro(df_var_same[df_var_same['AMIODARONA']==i]['TRT_6MESES_SIN_1_MES']))\n",
    "    print()"
   ]
  },
  {
   "cell_type": "code",
   "execution_count": 280,
   "metadata": {},
   "outputs": [
    {
     "name": "stdout",
     "output_type": "stream",
     "text": [
      "stat=0.395, p=0.530\n",
      "No se rechaza H0, las variables son homogeneas\n"
     ]
    }
   ],
   "source": [
    "# test de homogeneidad de varianzas con levene\n",
    "from scipy.stats import levene\n",
    "\n",
    "# test levene\n",
    "stat, p = levene(df_sin_anomalos.loc[df_sin_anomalos['AMIODARONA'] == 0, 'TRT_6MESES_SIN_1_MES'], df_sin_anomalos.loc[df_sin_anomalos['AMIODARONA'] == 1, 'TRT_6MESES_SIN_1_MES'])\n",
    "print('stat=%.3f, p=%.3f' % (stat, p))\n",
    "if p > 0.05:\n",
    "    print('No se rechaza H0, las variables son homogeneas')\n",
    "else:\n",
    "    print('Se rechaza H0, las variables no son homogeneas') "
   ]
  },
  {
   "cell_type": "code",
   "execution_count": 281,
   "metadata": {},
   "outputs": [
    {
     "name": "stdout",
     "output_type": "stream",
     "text": [
      "stat=61330.500, p=0.070\n",
      "No se rechaza H0, las variables son independientes\n"
     ]
    }
   ],
   "source": [
    "# mann whitney entre TRT_6MESES_SIN_1_MES y SEXO\n",
    "from scipy.stats import mannwhitneyu\n",
    "\n",
    "# test mann whitney\n",
    "stat, p = mannwhitneyu(df_sin_anomalos.loc[df_sin_anomalos['AMIODARONA'] == 0, 'TRT_6MESES_SIN_1_MES'], df_sin_anomalos.loc[df_sin_anomalos['AMIODARONA'] == 1, 'TRT_6MESES_SIN_1_MES'])\n",
    "print('stat=%.3f, p=%.3f' % (stat, p))\n",
    "if p > 0.05:\n",
    "    print('No se rechaza H0, las variables son independientes')\n",
    "else:\n",
    "    print('Se rechaza H0, las variables no son independientes')"
   ]
  },
  {
   "cell_type": "code",
   "execution_count": 282,
   "metadata": {},
   "outputs": [
    {
     "data": {
      "text/plain": [
       "<AxesSubplot:xlabel='AMIODARONA', ylabel='TRT_6MESES_SIN_1_MES'>"
      ]
     },
     "execution_count": 282,
     "metadata": {},
     "output_type": "execute_result"
    },
    {
     "data": {
      "image/png": "[encoded data removed]",
      "text/plain": [
       "<Figure size 640x480 with 1 Axes>"
      ]
     },
     "metadata": {},
     "output_type": "display_data"
    }
   ],
   "source": [
    "# boxplot de TRT_6MESES_SIN_1_MES por AMIODARONA\n",
    "sns.boxplot(x='AMIODARONA', y='TRT_6MESES_SIN_1_MES', data=df_sin_anomalos)"
   ]
  },
  {
   "cell_type": "code",
   "execution_count": 283,
   "metadata": {},
   "outputs": [
    {
     "data": {
      "text/html": [
       "<div>\n",
       "<style scoped>\n",
       "    .dataframe tbody tr th:only-of-type {\n",
       "        vertical-align: middle;\n",
       "    }\n",
       "\n",
       "    .dataframe tbody tr th {\n",
       "        vertical-align: top;\n",
       "    }\n",
       "\n",
       "    .dataframe thead th {\n",
       "        text-align: right;\n",
       "    }\n",
       "</style>\n",
       "<table border=\"1\" class=\"dataframe\">\n",
       "  <thead>\n",
       "    <tr style=\"text-align: right;\">\n",
       "      <th></th>\n",
       "      <th>count</th>\n",
       "      <th>mean</th>\n",
       "      <th>std</th>\n",
       "      <th>min</th>\n",
       "      <th>25%</th>\n",
       "      <th>50%</th>\n",
       "      <th>75%</th>\n",
       "      <th>max</th>\n",
       "    </tr>\n",
       "    <tr>\n",
       "      <th>AMIODARONA</th>\n",
       "      <th></th>\n",
       "      <th></th>\n",
       "      <th></th>\n",
       "      <th></th>\n",
       "      <th></th>\n",
       "      <th></th>\n",
       "      <th></th>\n",
       "      <th></th>\n",
       "    </tr>\n",
       "  </thead>\n",
       "  <tbody>\n",
       "    <tr>\n",
       "      <th>0</th>\n",
       "      <td>872.0</td>\n",
       "      <td>57.434174</td>\n",
       "      <td>19.333049</td>\n",
       "      <td>0.0</td>\n",
       "      <td>44.4</td>\n",
       "      <td>55.6</td>\n",
       "      <td>71.4</td>\n",
       "      <td>100.0</td>\n",
       "    </tr>\n",
       "    <tr>\n",
       "      <th>1</th>\n",
       "      <td>128.0</td>\n",
       "      <td>54.307812</td>\n",
       "      <td>20.425693</td>\n",
       "      <td>5.9</td>\n",
       "      <td>37.5</td>\n",
       "      <td>50.0</td>\n",
       "      <td>71.4</td>\n",
       "      <td>100.0</td>\n",
       "    </tr>\n",
       "  </tbody>\n",
       "</table>\n",
       "</div>"
      ],
      "text/plain": [
       "            count       mean        std  min   25%   50%   75%    max\n",
       "AMIODARONA                                                           \n",
       "0           872.0  57.434174  19.333049  0.0  44.4  55.6  71.4  100.0\n",
       "1           128.0  54.307812  20.425693  5.9  37.5  50.0  71.4  100.0"
      ]
     },
     "execution_count": 283,
     "metadata": {},
     "output_type": "execute_result"
    }
   ],
   "source": [
    "# descriptivo de TRT_6MESES_SIN_1_MES por AMIODARONA\n",
    "df_sin_anomalos.groupby('AMIODARONA')['TRT_6MESES_SIN_1_MES'].describe()"
   ]
  },
  {
   "attachments": {},
   "cell_type": "markdown",
   "metadata": {},
   "source": [
    "#### FUMA"
   ]
  },
  {
   "cell_type": "code",
   "execution_count": 284,
   "metadata": {},
   "outputs": [
    {
     "name": "stdout",
     "output_type": "stream",
     "text": [
      "FUMA = 0\n",
      "ShapiroResult(statistic=0.9853723645210266, pvalue=8.251827239291742e-06)\n",
      "\n",
      "FUMA = 1\n",
      "ShapiroResult(statistic=0.9772167801856995, pvalue=8.616460945631843e-06)\n",
      "\n"
     ]
    }
   ],
   "source": [
    "for i in range(2):\n",
    "    print('FUMA =', i)\n",
    "    print(shapiro(df_var_same[df_var_same['FUMA']==i]['TRT_6MESES_SIN_1_MES']))\n",
    "    print()"
   ]
  },
  {
   "cell_type": "code",
   "execution_count": 285,
   "metadata": {},
   "outputs": [
    {
     "name": "stdout",
     "output_type": "stream",
     "text": [
      "stat=2.733, p=0.099\n",
      "No se rechaza H0, las variables son homogeneas\n"
     ]
    }
   ],
   "source": [
    "# test de homogeneidad de varianzas con levene\n",
    "from scipy.stats import levene\n",
    "\n",
    "# test levene\n",
    "stat, p = levene(df_sin_anomalos.loc[df_sin_anomalos['FUMA'] == 0, 'TRT_6MESES_SIN_1_MES'], df_sin_anomalos.loc[df_sin_anomalos['FUMA'] == 1, 'TRT_6MESES_SIN_1_MES'])\n",
    "print('stat=%.3f, p=%.3f' % (stat, p))\n",
    "if p > 0.05:\n",
    "    print('No se rechaza H0, las variables son homogeneas')\n",
    "else:\n",
    "    print('Se rechaza H0, las variables no son homogeneas')"
   ]
  },
  {
   "cell_type": "code",
   "execution_count": 286,
   "metadata": {},
   "outputs": [
    {
     "name": "stdout",
     "output_type": "stream",
     "text": [
      "stat=123229.000, p=0.311\n",
      "No se rechaza H0, las variables son independientes\n"
     ]
    }
   ],
   "source": [
    "from scipy.stats import mannwhitneyu\n",
    "\n",
    "# test mann whitney\n",
    "stat, p = mannwhitneyu(df_sin_anomalos.loc[df_sin_anomalos['FUMA'] == 0, 'TRT_6MESES_SIN_1_MES'], df_sin_anomalos.loc[df_sin_anomalos['FUMA'] == 1, 'TRT_6MESES_SIN_1_MES'])\n",
    "print('stat=%.3f, p=%.3f' % (stat, p))\n",
    "if p > 0.05:\n",
    "    print('No se rechaza H0, las variables son independientes')\n",
    "else:\n",
    "    print('Se rechaza H0, las variables no son independientes')"
   ]
  },
  {
   "cell_type": "code",
   "execution_count": 287,
   "metadata": {},
   "outputs": [
    {
     "data": {
      "text/plain": [
       "<AxesSubplot:xlabel='FUMA', ylabel='TRT_6MESES_SIN_1_MES'>"
      ]
     },
     "execution_count": 287,
     "metadata": {},
     "output_type": "execute_result"
    },
    {
     "data": {
      "image/png": "[encoded data removed]",
      "text/plain": [
       "<Figure size 640x480 with 1 Axes>"
      ]
     },
     "metadata": {},
     "output_type": "display_data"
    }
   ],
   "source": [
    "# boxplot de TRT_6MESES_SIN_1_MES por FUMA\n",
    "sns.boxplot(x='FUMA', y='TRT_6MESES_SIN_1_MES', data=df_sin_anomalos)"
   ]
  },
  {
   "cell_type": "code",
   "execution_count": 288,
   "metadata": {},
   "outputs": [
    {
     "data": {
      "text/html": [
       "<div>\n",
       "<style scoped>\n",
       "    .dataframe tbody tr th:only-of-type {\n",
       "        vertical-align: middle;\n",
       "    }\n",
       "\n",
       "    .dataframe tbody tr th {\n",
       "        vertical-align: top;\n",
       "    }\n",
       "\n",
       "    .dataframe thead th {\n",
       "        text-align: right;\n",
       "    }\n",
       "</style>\n",
       "<table border=\"1\" class=\"dataframe\">\n",
       "  <thead>\n",
       "    <tr style=\"text-align: right;\">\n",
       "      <th></th>\n",
       "      <th>count</th>\n",
       "      <th>mean</th>\n",
       "      <th>std</th>\n",
       "      <th>min</th>\n",
       "      <th>25%</th>\n",
       "      <th>50%</th>\n",
       "      <th>75%</th>\n",
       "      <th>max</th>\n",
       "    </tr>\n",
       "    <tr>\n",
       "      <th>FUMA</th>\n",
       "      <th></th>\n",
       "      <th></th>\n",
       "      <th></th>\n",
       "      <th></th>\n",
       "      <th></th>\n",
       "      <th></th>\n",
       "      <th></th>\n",
       "      <th></th>\n",
       "    </tr>\n",
       "  </thead>\n",
       "  <tbody>\n",
       "    <tr>\n",
       "      <th>0</th>\n",
       "      <td>612.0</td>\n",
       "      <td>57.416013</td>\n",
       "      <td>18.986270</td>\n",
       "      <td>0.0</td>\n",
       "      <td>44.400</td>\n",
       "      <td>55.60</td>\n",
       "      <td>71.4</td>\n",
       "      <td>100.0</td>\n",
       "    </tr>\n",
       "    <tr>\n",
       "      <th>1</th>\n",
       "      <td>388.0</td>\n",
       "      <td>56.431443</td>\n",
       "      <td>20.278733</td>\n",
       "      <td>0.0</td>\n",
       "      <td>42.525</td>\n",
       "      <td>52.25</td>\n",
       "      <td>71.4</td>\n",
       "      <td>100.0</td>\n",
       "    </tr>\n",
       "  </tbody>\n",
       "</table>\n",
       "</div>"
      ],
      "text/plain": [
       "      count       mean        std  min     25%    50%   75%    max\n",
       "FUMA                                                              \n",
       "0     612.0  57.416013  18.986270  0.0  44.400  55.60  71.4  100.0\n",
       "1     388.0  56.431443  20.278733  0.0  42.525  52.25  71.4  100.0"
      ]
     },
     "execution_count": 288,
     "metadata": {},
     "output_type": "execute_result"
    }
   ],
   "source": [
    "# descriptivo de TRT_6MESES_SIN_1_MES por FUMA\n",
    "df_sin_anomalos.groupby('FUMA')['TRT_6MESES_SIN_1_MES'].describe()"
   ]
  },
  {
   "attachments": {},
   "cell_type": "markdown",
   "metadata": {},
   "source": [
    "#### EDAD_60"
   ]
  },
  {
   "cell_type": "code",
   "execution_count": 289,
   "metadata": {},
   "outputs": [
    {
     "data": {
      "text/plain": [
       "ShapiroResult(statistic=0.29104262590408325, pvalue=0.0)"
      ]
     },
     "execution_count": 289,
     "metadata": {},
     "output_type": "execute_result"
    }
   ],
   "source": [
    "# shapiro para edad\n",
    "shapiro(df_sin_anomalos['EDAD_60'])"
   ]
  },
  {
   "cell_type": "code",
   "execution_count": 290,
   "metadata": {},
   "outputs": [
    {
     "name": "stdout",
     "output_type": "stream",
     "text": [
      "EDAD_60 = 0\n",
      "ShapiroResult(statistic=0.9821764230728149, pvalue=3.4195630771449714e-09)\n",
      "\n",
      "EDAD_60 = 1\n",
      "ShapiroResult(statistic=0.9735221862792969, pvalue=0.1124759316444397)\n",
      "\n"
     ]
    }
   ],
   "source": [
    "for i in range(2):\n",
    "    print('EDAD_60 =', i)\n",
    "    print(shapiro(df_var_same[df_var_same['EDAD_60']==i]['TRT_6MESES_SIN_1_MES']))\n",
    "    print()"
   ]
  },
  {
   "cell_type": "code",
   "execution_count": 291,
   "metadata": {},
   "outputs": [
    {
     "name": "stdout",
     "output_type": "stream",
     "text": [
      "stat=0.192, p=0.662\n",
      "No se rechaza H0, las variables son homogeneas\n"
     ]
    }
   ],
   "source": [
    "from scipy.stats import levene\n",
    "\n",
    "# test levene\n",
    "stat, p = levene(df_sin_anomalos.loc[df_sin_anomalos['EDAD_60'] == 0, 'TRT_6MESES_SIN_1_MES'], df_sin_anomalos.loc[df_sin_anomalos['EDAD_60'] == 1, 'TRT_6MESES_SIN_1_MES'])\n",
    "print('stat=%.3f, p=%.3f' % (stat, p))\n",
    "if p > 0.05:\n",
    "    print('No se rechaza H0, las variables son homogeneas')\n",
    "else:\n",
    "    print('Se rechaza H0, las variables no son homogeneas')"
   ]
  },
  {
   "cell_type": "code",
   "execution_count": 292,
   "metadata": {},
   "outputs": [
    {
     "name": "stdout",
     "output_type": "stream",
     "text": [
      "stat=37654.000, p=0.292\n",
      "No se rechaza H0, las variables son independientes\n"
     ]
    }
   ],
   "source": [
    "from scipy.stats import mannwhitneyu\n",
    "\n",
    "# test mann whitney\n",
    "stat, p = mannwhitneyu(df_sin_anomalos.loc[df_sin_anomalos['EDAD_60'] == 0, 'TRT_6MESES_SIN_1_MES'], df_sin_anomalos.loc[df_sin_anomalos['EDAD_60'] == 1, 'TRT_6MESES_SIN_1_MES'])\n",
    "print('stat=%.3f, p=%.3f' % (stat, p))\n",
    "if p > 0.05:\n",
    "    print('No se rechaza H0, las variables son independientes')\n",
    "else:\n",
    "    print('Se rechaza H0, las variables no son independientes')"
   ]
  },
  {
   "cell_type": "code",
   "execution_count": 293,
   "metadata": {},
   "outputs": [
    {
     "data": {
      "text/plain": [
       "<AxesSubplot:xlabel='EDAD_60', ylabel='TRT_6MESES_SIN_1_MES'>"
      ]
     },
     "execution_count": 293,
     "metadata": {},
     "output_type": "execute_result"
    },
    {
     "data": {
      "image/png": "[encoded data removed]",
      "text/plain": [
       "<Figure size 640x480 with 1 Axes>"
      ]
     },
     "metadata": {},
     "output_type": "display_data"
    }
   ],
   "source": [
    "# boxplot de TRT_6MESES_SIN_1_MES por EDAD_60\n",
    "sns.boxplot(x='EDAD_60', y='TRT_6MESES_SIN_1_MES', data=df_sin_anomalos)\n"
   ]
  },
  {
   "cell_type": "code",
   "execution_count": 294,
   "metadata": {},
   "outputs": [
    {
     "data": {
      "text/html": [
       "<div>\n",
       "<style scoped>\n",
       "    .dataframe tbody tr th:only-of-type {\n",
       "        vertical-align: middle;\n",
       "    }\n",
       "\n",
       "    .dataframe tbody tr th {\n",
       "        vertical-align: top;\n",
       "    }\n",
       "\n",
       "    .dataframe thead th {\n",
       "        text-align: right;\n",
       "    }\n",
       "</style>\n",
       "<table border=\"1\" class=\"dataframe\">\n",
       "  <thead>\n",
       "    <tr style=\"text-align: right;\">\n",
       "      <th></th>\n",
       "      <th>count</th>\n",
       "      <th>mean</th>\n",
       "      <th>std</th>\n",
       "      <th>min</th>\n",
       "      <th>25%</th>\n",
       "      <th>50%</th>\n",
       "      <th>75%</th>\n",
       "      <th>max</th>\n",
       "    </tr>\n",
       "    <tr>\n",
       "      <th>EDAD_60</th>\n",
       "      <th></th>\n",
       "      <th></th>\n",
       "      <th></th>\n",
       "      <th></th>\n",
       "      <th></th>\n",
       "      <th></th>\n",
       "      <th></th>\n",
       "      <th></th>\n",
       "    </tr>\n",
       "  </thead>\n",
       "  <tbody>\n",
       "    <tr>\n",
       "      <th>0</th>\n",
       "      <td>924.0</td>\n",
       "      <td>57.241991</td>\n",
       "      <td>19.296492</td>\n",
       "      <td>0.0</td>\n",
       "      <td>44.4</td>\n",
       "      <td>55.6</td>\n",
       "      <td>71.4</td>\n",
       "      <td>100.0</td>\n",
       "    </tr>\n",
       "    <tr>\n",
       "      <th>1</th>\n",
       "      <td>76.0</td>\n",
       "      <td>54.505263</td>\n",
       "      <td>21.731114</td>\n",
       "      <td>0.0</td>\n",
       "      <td>42.1</td>\n",
       "      <td>50.0</td>\n",
       "      <td>71.4</td>\n",
       "      <td>100.0</td>\n",
       "    </tr>\n",
       "  </tbody>\n",
       "</table>\n",
       "</div>"
      ],
      "text/plain": [
       "         count       mean        std  min   25%   50%   75%    max\n",
       "EDAD_60                                                           \n",
       "0        924.0  57.241991  19.296492  0.0  44.4  55.6  71.4  100.0\n",
       "1         76.0  54.505263  21.731114  0.0  42.1  50.0  71.4  100.0"
      ]
     },
     "execution_count": 294,
     "metadata": {},
     "output_type": "execute_result"
    }
   ],
   "source": [
    "# descriptivo de TRT_6MESES_SIN_1_MES por EDAD_60\n",
    "df_sin_anomalos.groupby('EDAD_60')['TRT_6MESES_SIN_1_MES'].describe()"
   ]
  },
  {
   "attachments": {},
   "cell_type": "markdown",
   "metadata": {},
   "source": [
    "### CUT-OFF EDAD"
   ]
  },
  {
   "cell_type": "code",
   "execution_count": 295,
   "metadata": {},
   "outputs": [
    {
     "data": {
      "image/png": "[encoded data removed]",
      "text/plain": [
       "<Figure size 640x480 with 1 Axes>"
      ]
     },
     "metadata": {},
     "output_type": "display_data"
    }
   ],
   "source": [
    "# averiguar para la EDAD con que cut-off se obtiene la mejor separacion entre los grupos\n",
    "from sklearn.metrics import roc_auc_score\n",
    "\n",
    "# calcular el AUC para cada cut-off\n",
    "auc = []\n",
    "for i in range(35, 95):\n",
    "    df_sin_anomalos['EDAD_CUT'] = np.where(df_sin_anomalos['EDAD'] >= i, 1, 0)\n",
    "    auc.append(roc_auc_score(df_sin_anomalos['EDAD_CUT'], df_sin_anomalos['TRT_6MESES_SIN_1_MES']))\n",
    "\n",
    "# graficar el AUC para cada cut-off\n",
    "plt.plot(range(35, 95), auc)\n",
    "# nombre de los ejes\n",
    "plt.xlabel('EDAD')\n",
    "plt.ylabel('AUC')\n",
    "# titulo\n",
    "plt.title('AUC para cada cut-off de EDAD')\n",
    "# grid\n",
    "plt.grid()\n",
    "# mostrar la grafica\n",
    "plt.show()"
   ]
  },
  {
   "cell_type": "code",
   "execution_count": 296,
   "metadata": {},
   "outputs": [
    {
     "data": {
      "text/html": [
       "<div>\n",
       "<style scoped>\n",
       "    .dataframe tbody tr th:only-of-type {\n",
       "        vertical-align: middle;\n",
       "    }\n",
       "\n",
       "    .dataframe tbody tr th {\n",
       "        vertical-align: top;\n",
       "    }\n",
       "\n",
       "    .dataframe thead th {\n",
       "        text-align: right;\n",
       "    }\n",
       "</style>\n",
       "<table border=\"1\" class=\"dataframe\">\n",
       "  <thead>\n",
       "    <tr style=\"text-align: right;\">\n",
       "      <th></th>\n",
       "      <th>cut</th>\n",
       "      <th>auc</th>\n",
       "    </tr>\n",
       "  </thead>\n",
       "  <tbody>\n",
       "    <tr>\n",
       "      <th>59</th>\n",
       "      <td>94</td>\n",
       "      <td>0.797846</td>\n",
       "    </tr>\n",
       "    <tr>\n",
       "      <th>58</th>\n",
       "      <td>93</td>\n",
       "      <td>0.797846</td>\n",
       "    </tr>\n",
       "    <tr>\n",
       "      <th>57</th>\n",
       "      <td>92</td>\n",
       "      <td>0.694874</td>\n",
       "    </tr>\n",
       "    <tr>\n",
       "      <th>15</th>\n",
       "      <td>50</td>\n",
       "      <td>0.592289</td>\n",
       "    </tr>\n",
       "    <tr>\n",
       "      <th>14</th>\n",
       "      <td>49</td>\n",
       "      <td>0.589533</td>\n",
       "    </tr>\n",
       "    <tr>\n",
       "      <th>12</th>\n",
       "      <td>47</td>\n",
       "      <td>0.588243</td>\n",
       "    </tr>\n",
       "    <tr>\n",
       "      <th>13</th>\n",
       "      <td>48</td>\n",
       "      <td>0.588243</td>\n",
       "    </tr>\n",
       "    <tr>\n",
       "      <th>21</th>\n",
       "      <td>56</td>\n",
       "      <td>0.565422</td>\n",
       "    </tr>\n",
       "    <tr>\n",
       "      <th>27</th>\n",
       "      <td>62</td>\n",
       "      <td>0.564228</td>\n",
       "    </tr>\n",
       "    <tr>\n",
       "      <th>18</th>\n",
       "      <td>53</td>\n",
       "      <td>0.561135</td>\n",
       "    </tr>\n",
       "    <tr>\n",
       "      <th>16</th>\n",
       "      <td>51</td>\n",
       "      <td>0.560545</td>\n",
       "    </tr>\n",
       "    <tr>\n",
       "      <th>26</th>\n",
       "      <td>61</td>\n",
       "      <td>0.556812</td>\n",
       "    </tr>\n",
       "    <tr>\n",
       "      <th>17</th>\n",
       "      <td>52</td>\n",
       "      <td>0.556807</td>\n",
       "    </tr>\n",
       "    <tr>\n",
       "      <th>31</th>\n",
       "      <td>66</td>\n",
       "      <td>0.556113</td>\n",
       "    </tr>\n",
       "    <tr>\n",
       "      <th>30</th>\n",
       "      <td>65</td>\n",
       "      <td>0.550856</td>\n",
       "    </tr>\n",
       "    <tr>\n",
       "      <th>19</th>\n",
       "      <td>54</td>\n",
       "      <td>0.549215</td>\n",
       "    </tr>\n",
       "    <tr>\n",
       "      <th>28</th>\n",
       "      <td>63</td>\n",
       "      <td>0.548497</td>\n",
       "    </tr>\n",
       "    <tr>\n",
       "      <th>32</th>\n",
       "      <td>67</td>\n",
       "      <td>0.547160</td>\n",
       "    </tr>\n",
       "    <tr>\n",
       "      <th>20</th>\n",
       "      <td>55</td>\n",
       "      <td>0.546996</td>\n",
       "    </tr>\n",
       "    <tr>\n",
       "      <th>24</th>\n",
       "      <td>59</td>\n",
       "      <td>0.546023</td>\n",
       "    </tr>\n",
       "    <tr>\n",
       "      <th>29</th>\n",
       "      <td>64</td>\n",
       "      <td>0.544648</td>\n",
       "    </tr>\n",
       "    <tr>\n",
       "      <th>33</th>\n",
       "      <td>68</td>\n",
       "      <td>0.543872</td>\n",
       "    </tr>\n",
       "    <tr>\n",
       "      <th>23</th>\n",
       "      <td>58</td>\n",
       "      <td>0.542170</td>\n",
       "    </tr>\n",
       "    <tr>\n",
       "      <th>22</th>\n",
       "      <td>57</td>\n",
       "      <td>0.538857</td>\n",
       "    </tr>\n",
       "    <tr>\n",
       "      <th>25</th>\n",
       "      <td>60</td>\n",
       "      <td>0.536198</td>\n",
       "    </tr>\n",
       "    <tr>\n",
       "      <th>46</th>\n",
       "      <td>81</td>\n",
       "      <td>0.535996</td>\n",
       "    </tr>\n",
       "    <tr>\n",
       "      <th>47</th>\n",
       "      <td>82</td>\n",
       "      <td>0.534218</td>\n",
       "    </tr>\n",
       "    <tr>\n",
       "      <th>34</th>\n",
       "      <td>69</td>\n",
       "      <td>0.531591</td>\n",
       "    </tr>\n",
       "    <tr>\n",
       "      <th>43</th>\n",
       "      <td>78</td>\n",
       "      <td>0.530816</td>\n",
       "    </tr>\n",
       "    <tr>\n",
       "      <th>42</th>\n",
       "      <td>77</td>\n",
       "      <td>0.529319</td>\n",
       "    </tr>\n",
       "    <tr>\n",
       "      <th>38</th>\n",
       "      <td>73</td>\n",
       "      <td>0.527582</td>\n",
       "    </tr>\n",
       "    <tr>\n",
       "      <th>40</th>\n",
       "      <td>75</td>\n",
       "      <td>0.526893</td>\n",
       "    </tr>\n",
       "    <tr>\n",
       "      <th>45</th>\n",
       "      <td>80</td>\n",
       "      <td>0.526772</td>\n",
       "    </tr>\n",
       "    <tr>\n",
       "      <th>44</th>\n",
       "      <td>79</td>\n",
       "      <td>0.526717</td>\n",
       "    </tr>\n",
       "    <tr>\n",
       "      <th>37</th>\n",
       "      <td>72</td>\n",
       "      <td>0.525661</td>\n",
       "    </tr>\n",
       "    <tr>\n",
       "      <th>41</th>\n",
       "      <td>76</td>\n",
       "      <td>0.522799</td>\n",
       "    </tr>\n",
       "    <tr>\n",
       "      <th>39</th>\n",
       "      <td>74</td>\n",
       "      <td>0.522760</td>\n",
       "    </tr>\n",
       "    <tr>\n",
       "      <th>35</th>\n",
       "      <td>70</td>\n",
       "      <td>0.518703</td>\n",
       "    </tr>\n",
       "    <tr>\n",
       "      <th>36</th>\n",
       "      <td>71</td>\n",
       "      <td>0.517475</td>\n",
       "    </tr>\n",
       "    <tr>\n",
       "      <th>48</th>\n",
       "      <td>83</td>\n",
       "      <td>0.512308</td>\n",
       "    </tr>\n",
       "    <tr>\n",
       "      <th>50</th>\n",
       "      <td>85</td>\n",
       "      <td>0.507902</td>\n",
       "    </tr>\n",
       "    <tr>\n",
       "      <th>49</th>\n",
       "      <td>84</td>\n",
       "      <td>0.505144</td>\n",
       "    </tr>\n",
       "    <tr>\n",
       "      <th>11</th>\n",
       "      <td>46</td>\n",
       "      <td>0.494821</td>\n",
       "    </tr>\n",
       "    <tr>\n",
       "      <th>51</th>\n",
       "      <td>86</td>\n",
       "      <td>0.487748</td>\n",
       "    </tr>\n",
       "    <tr>\n",
       "      <th>7</th>\n",
       "      <td>42</td>\n",
       "      <td>0.486069</td>\n",
       "    </tr>\n",
       "    <tr>\n",
       "      <th>8</th>\n",
       "      <td>43</td>\n",
       "      <td>0.486069</td>\n",
       "    </tr>\n",
       "    <tr>\n",
       "      <th>9</th>\n",
       "      <td>44</td>\n",
       "      <td>0.476945</td>\n",
       "    </tr>\n",
       "    <tr>\n",
       "      <th>10</th>\n",
       "      <td>45</td>\n",
       "      <td>0.476945</td>\n",
       "    </tr>\n",
       "    <tr>\n",
       "      <th>52</th>\n",
       "      <td>87</td>\n",
       "      <td>0.467789</td>\n",
       "    </tr>\n",
       "    <tr>\n",
       "      <th>6</th>\n",
       "      <td>41</td>\n",
       "      <td>0.447509</td>\n",
       "    </tr>\n",
       "    <tr>\n",
       "      <th>5</th>\n",
       "      <td>40</td>\n",
       "      <td>0.447509</td>\n",
       "    </tr>\n",
       "    <tr>\n",
       "      <th>1</th>\n",
       "      <td>36</td>\n",
       "      <td>0.447509</td>\n",
       "    </tr>\n",
       "    <tr>\n",
       "      <th>4</th>\n",
       "      <td>39</td>\n",
       "      <td>0.447509</td>\n",
       "    </tr>\n",
       "    <tr>\n",
       "      <th>3</th>\n",
       "      <td>38</td>\n",
       "      <td>0.447509</td>\n",
       "    </tr>\n",
       "    <tr>\n",
       "      <th>2</th>\n",
       "      <td>37</td>\n",
       "      <td>0.447509</td>\n",
       "    </tr>\n",
       "    <tr>\n",
       "      <th>0</th>\n",
       "      <td>35</td>\n",
       "      <td>0.447509</td>\n",
       "    </tr>\n",
       "    <tr>\n",
       "      <th>56</th>\n",
       "      <td>91</td>\n",
       "      <td>0.433367</td>\n",
       "    </tr>\n",
       "    <tr>\n",
       "      <th>53</th>\n",
       "      <td>88</td>\n",
       "      <td>0.424782</td>\n",
       "    </tr>\n",
       "    <tr>\n",
       "      <th>54</th>\n",
       "      <td>89</td>\n",
       "      <td>0.423353</td>\n",
       "    </tr>\n",
       "    <tr>\n",
       "      <th>55</th>\n",
       "      <td>90</td>\n",
       "      <td>0.410714</td>\n",
       "    </tr>\n",
       "  </tbody>\n",
       "</table>\n",
       "</div>"
      ],
      "text/plain": [
       "    cut       auc\n",
       "59   94  0.797846\n",
       "58   93  0.797846\n",
       "57   92  0.694874\n",
       "15   50  0.592289\n",
       "14   49  0.589533\n",
       "12   47  0.588243\n",
       "13   48  0.588243\n",
       "21   56  0.565422\n",
       "27   62  0.564228\n",
       "18   53  0.561135\n",
       "16   51  0.560545\n",
       "26   61  0.556812\n",
       "17   52  0.556807\n",
       "31   66  0.556113\n",
       "30   65  0.550856\n",
       "19   54  0.549215\n",
       "28   63  0.548497\n",
       "32   67  0.547160\n",
       "20   55  0.546996\n",
       "24   59  0.546023\n",
       "29   64  0.544648\n",
       "33   68  0.543872\n",
       "23   58  0.542170\n",
       "22   57  0.538857\n",
       "25   60  0.536198\n",
       "46   81  0.535996\n",
       "47   82  0.534218\n",
       "34   69  0.531591\n",
       "43   78  0.530816\n",
       "42   77  0.529319\n",
       "38   73  0.527582\n",
       "40   75  0.526893\n",
       "45   80  0.526772\n",
       "44   79  0.526717\n",
       "37   72  0.525661\n",
       "41   76  0.522799\n",
       "39   74  0.522760\n",
       "35   70  0.518703\n",
       "36   71  0.517475\n",
       "48   83  0.512308\n",
       "50   85  0.507902\n",
       "49   84  0.505144\n",
       "11   46  0.494821\n",
       "51   86  0.487748\n",
       "7    42  0.486069\n",
       "8    43  0.486069\n",
       "9    44  0.476945\n",
       "10   45  0.476945\n",
       "52   87  0.467789\n",
       "6    41  0.447509\n",
       "5    40  0.447509\n",
       "1    36  0.447509\n",
       "4    39  0.447509\n",
       "3    38  0.447509\n",
       "2    37  0.447509\n",
       "0    35  0.447509\n",
       "56   91  0.433367\n",
       "53   88  0.424782\n",
       "54   89  0.423353\n",
       "55   90  0.410714"
      ]
     },
     "execution_count": 296,
     "metadata": {},
     "output_type": "execute_result"
    }
   ],
   "source": [
    "# hacer una lista ordenada de los cut-offs y sus AUC\n",
    "auc = pd.DataFrame({'cut': range(35, 95), 'auc': auc})\n",
    "auc.sort_values('auc', ascending=False)"
   ]
  },
  {
   "cell_type": "code",
   "execution_count": 297,
   "metadata": {},
   "outputs": [],
   "source": [
    "# nueva variable EDAD_CUT\n",
    "df_sin_anomalos['EDAD_CUT'] = np.where(df_sin_anomalos['EDAD'] >= 65, 1, 0)"
   ]
  },
  {
   "cell_type": "code",
   "execution_count": 298,
   "metadata": {},
   "outputs": [
    {
     "name": "stdout",
     "output_type": "stream",
     "text": [
      "stat=0.846, p=0.358\n",
      "No se rechaza H0, las variables son homogeneas\n"
     ]
    }
   ],
   "source": [
    "stat, p = levene(df_sin_anomalos.loc[df_sin_anomalos['EDAD_CUT'] == 0, 'TRT_6MESES_SIN_1_MES'], df_sin_anomalos.loc[df_sin_anomalos['EDAD_CUT'] == 1, 'TRT_6MESES_SIN_1_MES'])\n",
    "print('stat=%.3f, p=%.3f' % (stat, p))\n",
    "if p > 0.05:\n",
    "    print('No se rechaza H0, las variables son homogeneas')\n",
    "else:\n",
    "    print('Se rechaza H0, las variables no son homogeneas')"
   ]
  },
  {
   "cell_type": "code",
   "execution_count": 299,
   "metadata": {},
   "outputs": [
    {
     "name": "stdout",
     "output_type": "stream",
     "text": [
      "stat=0.982, p=0.038\n",
      "stat=0.982, p=0.000\n"
     ]
    }
   ],
   "source": [
    "# shapiro con EDAD_CUT = 0 y EDAD_CUT = 1\n",
    "from scipy.stats import shapiro\n",
    "\n",
    "# test shapiro\n",
    "stat, p = shapiro(df_sin_anomalos.loc[df_sin_anomalos['EDAD_CUT'] == 0, 'TRT_6MESES_SIN_1_MES'])\n",
    "print('stat=%.3f, p=%.3f' % (stat, p))\n",
    "\n",
    "# test shapiro\n",
    "stat, p = shapiro(df_sin_anomalos.loc[df_sin_anomalos['EDAD_CUT'] == 1, 'TRT_6MESES_SIN_1_MES'])\n",
    "print('stat=%.3f, p=%.3f' % (stat, p))\n"
   ]
  },
  {
   "cell_type": "code",
   "execution_count": 300,
   "metadata": {},
   "outputs": [
    {
     "name": "stdout",
     "output_type": "stream",
     "text": [
      "stat=60365.000, p=0.041\n",
      "Se rechaza H0, las variables no son independientes\n"
     ]
    }
   ],
   "source": [
    "stat, p = mannwhitneyu(df_sin_anomalos.loc[df_sin_anomalos['EDAD_CUT'] == 0, 'TRT_6MESES_SIN_1_MES'], df_sin_anomalos.loc[df_sin_anomalos['EDAD_CUT'] == 1, 'TRT_6MESES_SIN_1_MES'])\n",
    "print('stat=%.3f, p=%.3f' % (stat, p))\n",
    "if p > 0.05:\n",
    "    print('No se rechaza H0, las variables son independientes')\n",
    "else:\n",
    "    print('Se rechaza H0, las variables no son independientes')"
   ]
  },
  {
   "cell_type": "code",
   "execution_count": 301,
   "metadata": {},
   "outputs": [
    {
     "data": {
      "text/plain": [
       "1    840\n",
       "0    160\n",
       "Name: EDAD_CUT, dtype: int64"
      ]
     },
     "execution_count": 301,
     "metadata": {},
     "output_type": "execute_result"
    }
   ],
   "source": [
    "df_sin_anomalos['EDAD_CUT'].value_counts()"
   ]
  },
  {
   "cell_type": "code",
   "execution_count": 304,
   "metadata": {},
   "outputs": [
    {
     "data": {
      "text/plain": [
       "<AxesSubplot:xlabel='EDAD_CUT', ylabel='TRT_6MESES_SIN_1_MES'>"
      ]
     },
     "execution_count": 304,
     "metadata": {},
     "output_type": "execute_result"
    },
    {
     "data": {
      "image/png": "[encoded data removed]",
      "text/plain": [
       "<Figure size 640x480 with 1 Axes>"
      ]
     },
     "metadata": {},
     "output_type": "display_data"
    }
   ],
   "source": [
    "sns.boxplot(x='EDAD_CUT', y='TRT_6MESES_SIN_1_MES', data=df_sin_anomalos)"
   ]
  },
  {
   "cell_type": "code",
   "execution_count": 305,
   "metadata": {},
   "outputs": [
    {
     "data": {
      "text/html": [
       "<div>\n",
       "<style scoped>\n",
       "    .dataframe tbody tr th:only-of-type {\n",
       "        vertical-align: middle;\n",
       "    }\n",
       "\n",
       "    .dataframe tbody tr th {\n",
       "        vertical-align: top;\n",
       "    }\n",
       "\n",
       "    .dataframe thead th {\n",
       "        text-align: right;\n",
       "    }\n",
       "</style>\n",
       "<table border=\"1\" class=\"dataframe\">\n",
       "  <thead>\n",
       "    <tr style=\"text-align: right;\">\n",
       "      <th></th>\n",
       "      <th>count</th>\n",
       "      <th>mean</th>\n",
       "      <th>std</th>\n",
       "      <th>min</th>\n",
       "      <th>25%</th>\n",
       "      <th>50%</th>\n",
       "      <th>75%</th>\n",
       "      <th>max</th>\n",
       "    </tr>\n",
       "    <tr>\n",
       "      <th>EDAD_CUT</th>\n",
       "      <th></th>\n",
       "      <th></th>\n",
       "      <th></th>\n",
       "      <th></th>\n",
       "      <th></th>\n",
       "      <th></th>\n",
       "      <th></th>\n",
       "      <th></th>\n",
       "    </tr>\n",
       "  </thead>\n",
       "  <tbody>\n",
       "    <tr>\n",
       "      <th>0</th>\n",
       "      <td>160.0</td>\n",
       "      <td>54.079375</td>\n",
       "      <td>21.046744</td>\n",
       "      <td>0.0</td>\n",
       "      <td>40.0</td>\n",
       "      <td>50.0</td>\n",
       "      <td>71.4</td>\n",
       "      <td>100.0</td>\n",
       "    </tr>\n",
       "    <tr>\n",
       "      <th>1</th>\n",
       "      <td>840.0</td>\n",
       "      <td>57.596786</td>\n",
       "      <td>19.145421</td>\n",
       "      <td>0.0</td>\n",
       "      <td>44.4</td>\n",
       "      <td>55.6</td>\n",
       "      <td>71.4</td>\n",
       "      <td>100.0</td>\n",
       "    </tr>\n",
       "  </tbody>\n",
       "</table>\n",
       "</div>"
      ],
      "text/plain": [
       "          count       mean        std  min   25%   50%   75%    max\n",
       "EDAD_CUT                                                           \n",
       "0         160.0  54.079375  21.046744  0.0  40.0  50.0  71.4  100.0\n",
       "1         840.0  57.596786  19.145421  0.0  44.4  55.6  71.4  100.0"
      ]
     },
     "execution_count": 305,
     "metadata": {},
     "output_type": "execute_result"
    }
   ],
   "source": [
    "df_sin_anomalos.groupby('EDAD_CUT')['TRT_6MESES_SIN_1_MES'].describe()"
   ]
  }
 ],
 "metadata": {
  "kernelspec": {
   "display_name": "Python 3",
   "language": "python",
   "name": "python3"
  },
  "language_info": {
   "codemirror_mode": {
    "name": "ipython",
    "version": 3
   },
   "file_extension": ".py",
   "mimetype": "text/x-python",
   "name": "python",
   "nbconvert_exporter": "python",
   "pygments_lexer": "ipython3",
   "version": "3.9.4"
  },
  "orig_nbformat": 4
 },
 "nbformat": 4,
 "nbformat_minor": 2
}
