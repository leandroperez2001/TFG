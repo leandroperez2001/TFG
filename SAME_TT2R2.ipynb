{
 "cells": [
  {
   "cell_type": "code",
   "execution_count": null,
   "metadata": {},
   "outputs": [],
   "source": [
    "#importar df_sin_anomalias\n",
    "import pandas as pd\n",
    "import numpy as np\n",
    "\n",
    "df_sin_anomalos= pd.read_csv('df_sin_anomalos.csv')\n",
    "df_sin_anomalos.head()"
   ]
  },
  {
   "cell_type": "code",
   "execution_count": null,
   "metadata": {},
   "outputs": [],
   "source": [
    "# SAME-TT2R2 value counts\n",
    "df_sin_anomalos['SAME-TT2R2'].value_counts()"
   ]
  },
  {
   "cell_type": "code",
   "execution_count": null,
   "metadata": {},
   "outputs": [],
   "source": [
    "# boxplot de TRT_6MESES_SIN_1_MES y SAME-TT2R2\n",
    "import matplotlib.pyplot as plt\n",
    "import seaborn as sns\n",
    "\n",
    "plt.figure(figsize=(10,5))\n",
    "sns.boxplot(y='TRT_6MESES_SIN_1_MES', x='SAME-TT2R2', data=df_sin_anomalos)\n",
    "# y labeñ\n",
    "plt.ylabel('TRT')\n",
    "# title\n",
    "plt.title('TRT vs SAME-TT2R2')\n",
    "plt.show()"
   ]
  },
  {
   "attachments": {},
   "cell_type": "markdown",
   "metadata": {},
   "source": [
    "### SAME-TT2R2 vs TRT_6MESES_SIN_1_MES"
   ]
  },
  {
   "cell_type": "code",
   "execution_count": null,
   "metadata": {},
   "outputs": [],
   "source": [
    "# test de normalidad de TRT_6MESES_SIN_1_MES cuando SAME-TT2R2 es 0, 1, 2,3,4 y 5\n",
    "from scipy.stats import shapiro\n",
    "\n",
    "for i in range(6):\n",
    "    print('SAME-TT2R2 =', i)\n",
    "    print(shapiro(df_sin_anomalos[df_sin_anomalos['SAME-TT2R2']==i]['TRT_6MESES_SIN_1_MES']))\n",
    "    print()\n",
    "\n",
    "# si p-value < 0.05, no es normal\n",
    "# si p-value > 0.05, es normal\n"
   ]
  },
  {
   "cell_type": "code",
   "execution_count": null,
   "metadata": {},
   "outputs": [],
   "source": [
    "# shapiro de TRT_6MESES_SIN_1_MES con SAME-TT2R2\n",
    "print(shapiro(df_sin_anomalos['SAME-TT2R2']))\n"
   ]
  },
  {
   "cell_type": "code",
   "execution_count": null,
   "metadata": {},
   "outputs": [],
   "source": [
    "# test de normalidad y homogeneidad para comparar las medias de SAME-TT2R2\n",
    "from scipy.stats import shapiro\n",
    "from scipy.stats import levene\n",
    "\n",
    "# test de homogeneidad\n",
    "stat, p = levene(df_sin_anomalos['TRT_6MESES_SIN_1_MES'][df_sin_anomalos['SAME-TT2R2'] == 0],\n",
    "                 df_sin_anomalos['TRT_6MESES_SIN_1_MES'][df_sin_anomalos['SAME-TT2R2'] == 1],\n",
    "                 df_sin_anomalos['TRT_6MESES_SIN_1_MES'][df_sin_anomalos['SAME-TT2R2'] == 2],\n",
    "                 df_sin_anomalos['TRT_6MESES_SIN_1_MES'][df_sin_anomalos['SAME-TT2R2'] == 3],\n",
    "                 df_sin_anomalos['TRT_6MESES_SIN_1_MES'][df_sin_anomalos['SAME-TT2R2'] == 4],\n",
    "                 df_sin_anomalos['TRT_6MESES_SIN_1_MES'][df_sin_anomalos['SAME-TT2R2'] == 5])\n",
    "print('stat=%.3f, p=%.3f' % (stat, p))\n",
    "if p > 0.05:\n",
    "    print('No se rechaza H0, las varianzas son iguales')\n",
    "else:\n",
    "    print('Se rechaza H0, las varianzas no son iguales')"
   ]
  },
  {
   "cell_type": "code",
   "execution_count": null,
   "metadata": {},
   "outputs": [],
   "source": [
    "# test de kruskal wallis para TRT_6MESES_SIN_1_MES para variables categoricas con mas de dos valores unicos\n",
    "from scipy.stats import kruskal\n",
    "\n",
    "# test de kruskal wallis\n",
    "print(kruskal(*[group[\"TRT_6MESES_SIN_1_MES\"].values for name, group in df_sin_anomalos.groupby('SAME-TT2R2')]))\n"
   ]
  },
  {
   "cell_type": "code",
   "execution_count": null,
   "metadata": {},
   "outputs": [],
   "source": [
    "# describe() de TRT_6MESES_SIN_1_MES para SAME-TT2R2\n",
    "df_sin_anomalos.groupby('SAME-TT2R2')['TRT_6MESES_SIN_1_MES'].describe()"
   ]
  },
  {
   "attachments": {},
   "cell_type": "markdown",
   "metadata": {},
   "source": [
    "### SAME-TT2R2_MAS2 vs TRT_6MESES_SIN_1_MES"
   ]
  },
  {
   "cell_type": "code",
   "execution_count": null,
   "metadata": {},
   "outputs": [],
   "source": [
    "# dividir same en (0,1 = 0) y (2,3,4,5 = 1)\n",
    "df_sin_anomalos['SAME-TT2R2_MAS2'] = 0\n",
    "df_sin_anomalos.loc[df_sin_anomalos['SAME-TT2R2'] > 1, 'SAME-TT2R2_MAS2'] = 1\n",
    "df_sin_anomalos['SAME-TT2R2_MAS2'].value_counts()"
   ]
  },
  {
   "cell_type": "code",
   "execution_count": null,
   "metadata": {},
   "outputs": [],
   "source": [
    "# test de normalidad para TRT_6MESES_SIN_1_MES cuando SAME-TT2R2_MAS2 es 0 y 1 y decir si son normales o no\n",
    "from scipy.stats import shapiro\n",
    "\n",
    "for i in range(2):\n",
    "    print('SAME-TT2R2_MAS2 =', i)\n",
    "    print(shapiro(df_sin_anomalos[df_sin_anomalos['SAME-TT2R2_MAS2']==i]['TRT_6MESES_SIN_1_MES']))\n",
    "    print()"
   ]
  },
  {
   "cell_type": "code",
   "execution_count": null,
   "metadata": {},
   "outputs": [],
   "source": [
    "# test de homocedasticidad\n",
    "stat, p = levene(df_sin_anomalos['TRT_6MESES_SIN_1_MES'][df_sin_anomalos['SAME-TT2R2_MAS2'] == 0],\n",
    "                df_sin_anomalos['TRT_6MESES_SIN_1_MES'][df_sin_anomalos['SAME-TT2R2_MAS2'] == 1])\n",
    "print('stat=%.3f, p=%.3f' % (stat, p))\n",
    "if p > 0.05:\n",
    "    print('No se rechaza H0, las varianzas son iguales')\n",
    "else:\n",
    "    print('Se rechaza H0, las varianzas no son iguales')"
   ]
  },
  {
   "cell_type": "code",
   "execution_count": null,
   "metadata": {},
   "outputs": [],
   "source": [
    "# mann whitney para comparar las medias de SAME-TT2R2_2\n",
    "from scipy.stats import mannwhitneyu\n",
    "\n",
    "stat, p = mannwhitneyu(df_sin_anomalos['TRT_6MESES_SIN_1_MES'][df_sin_anomalos['SAME-TT2R2_MAS2'] == 0],\n",
    "                        df_sin_anomalos['TRT_6MESES_SIN_1_MES'][df_sin_anomalos['SAME-TT2R2_MAS2'] == 1])\n",
    "print('stat=%.3f, p=%.3f' % (stat, p))\n",
    "if p > 0.05:\n",
    "    print('No se rechaza H0, las medianas son iguales')\n",
    "else:\n",
    "    print('Se rechaza H0, las medianas no son iguales')"
   ]
  },
  {
   "cell_type": "code",
   "execution_count": null,
   "metadata": {},
   "outputs": [],
   "source": [
    "# boxplot de TRT_6MESES_SIN_1_MES y SAME-TT2R2_2\n",
    "plt.figure(figsize=(10,5))\n",
    "sns.boxplot(y='TRT_6MESES_SIN_1_MES', x='SAME-TT2R2_MAS2', data=df_sin_anomalos)\n",
    "plt.show()"
   ]
  },
  {
   "cell_type": "code",
   "execution_count": null,
   "metadata": {},
   "outputs": [],
   "source": [
    "df_sin_anomalos.groupby('SAME-TT2R2_MAS2')['TRT_6MESES_SIN_1_MES'].describe()"
   ]
  },
  {
   "attachments": {},
   "cell_type": "markdown",
   "metadata": {},
   "source": [
    "### SAME-TT2R2_MAS3 vs TRT_6MESES_SIN_1_MES"
   ]
  },
  {
   "cell_type": "code",
   "execution_count": null,
   "metadata": {},
   "outputs": [],
   "source": [
    "#dividir same en (0,1,2 = 0) y (3,4,5 = 1)\n",
    "df_sin_anomalos['SAME-TT2R2_MAS3'] = 0\n",
    "df_sin_anomalos.loc[df_sin_anomalos['SAME-TT2R2'] > 2, 'SAME-TT2R2_MAS3'] = 1\n",
    "df_sin_anomalos['SAME-TT2R2_MAS3'].value_counts()"
   ]
  },
  {
   "cell_type": "code",
   "execution_count": null,
   "metadata": {},
   "outputs": [],
   "source": [
    "for i in range(2):\n",
    "    print('SAME-TT2R2_MAS3 =', i)\n",
    "    print(shapiro(df_sin_anomalos[df_sin_anomalos['SAME-TT2R2_MAS3']==i]['TRT_6MESES_SIN_1_MES']))\n",
    "    print()"
   ]
  },
  {
   "cell_type": "code",
   "execution_count": null,
   "metadata": {},
   "outputs": [],
   "source": [
    "# test de homocedasticidad\n",
    "stat, p = levene(df_sin_anomalos['TRT_6MESES_SIN_1_MES'][df_sin_anomalos['SAME-TT2R2_MAS3'] == 0],\n",
    "                df_sin_anomalos['TRT_6MESES_SIN_1_MES'][df_sin_anomalos['SAME-TT2R2_MAS3'] == 1])\n",
    "print('stat=%.3f, p=%.3f' % (stat, p))\n",
    "if p > 0.05:\n",
    "    print('No se rechaza H0, las varianzas son iguales')\n",
    "else:\n",
    "    print('Se rechaza H0, las varianzas no son iguales')"
   ]
  },
  {
   "cell_type": "code",
   "execution_count": null,
   "metadata": {},
   "outputs": [],
   "source": [
    "# test de mann whitney para comparar las medianas de SAME-TT2R2_3\n",
    "\n",
    "stat, p = mannwhitneyu(df_sin_anomalos['TRT_6MESES_SIN_1_MES'][df_sin_anomalos['SAME-TT2R2_MAS3'] == 0],\n",
    "                        df_sin_anomalos['TRT_6MESES_SIN_1_MES'][df_sin_anomalos['SAME-TT2R2_MAS3'] == 1])\n",
    "print('stat=%.3f, p=%.3f' % (stat, p))\n",
    "if p > 0.05:\n",
    "    print('No se rechaza H0, las medianas son iguales')\n",
    "else:\n",
    "    print('Se rechaza H0, las medianas no son iguales')"
   ]
  },
  {
   "cell_type": "code",
   "execution_count": null,
   "metadata": {},
   "outputs": [],
   "source": [
    "# violines de TRT_6MESES_SIN_1_MES y SAME-TT2R2_3\n",
    "plt.figure(figsize=(10,5))\n",
    "sns.violinplot(y='TRT_6MESES_SIN_1_MES', x='SAME-TT2R2_MAS3', data=df_sin_anomalos)\n",
    "# cambiar nombre de los ejes\n",
    "plt.ylabel('TRT')\n",
    "# titulo\n",
    "plt.title('TRT vs SAME-TT2R2_MAS3')\n",
    "plt.show()"
   ]
  },
  {
   "cell_type": "code",
   "execution_count": null,
   "metadata": {},
   "outputs": [],
   "source": [
    "plt.figure(figsize=(10,5))\n",
    "sns.boxplot(y='TRT_6MESES_SIN_1_MES', x='SAME-TT2R2_MAS3', data=df_sin_anomalos)\n",
    "# cambiar los labels del eje x\n",
    "plt.xticks([0,1], ['<3', '>=3'])\n",
    "#cambia el titulo del eje x\n",
    "plt.xlabel('SAME-TT2R2')\n",
    "plt.ylabel(\"TRT\")\n",
    "plt.show()"
   ]
  },
  {
   "cell_type": "code",
   "execution_count": null,
   "metadata": {},
   "outputs": [],
   "source": [
    "df_sin_anomalos.groupby('SAME-TT2R2_MAS3')['TRT_6MESES_SIN_1_MES'].describe()"
   ]
  },
  {
   "attachments": {},
   "cell_type": "markdown",
   "metadata": {},
   "source": [
    "### SAME-TT2R2_MAS4 vs TRT_6MESES_SIN_1_MES"
   ]
  },
  {
   "cell_type": "code",
   "execution_count": null,
   "metadata": {},
   "outputs": [],
   "source": [
    "# dividir same en (0,1,2,3 = 0) y (4,5 = 1)\n",
    "df_sin_anomalos['SAME-TT2R2_MAS4'] = 0\n",
    "df_sin_anomalos.loc[df_sin_anomalos['SAME-TT2R2'] > 3, 'SAME-TT2R2_MAS4'] = 1\n",
    "\n",
    "for i in range(2):\n",
    "    print('SAME-TT2R2_MAS4 =', i)\n",
    "    print(shapiro(df_sin_anomalos[df_sin_anomalos['SAME-TT2R2_MAS4']==i]['TRT_6MESES_SIN_1_MES']))\n",
    "    print()"
   ]
  },
  {
   "cell_type": "code",
   "execution_count": null,
   "metadata": {},
   "outputs": [],
   "source": [
    "df_sin_anomalos['SAME-TT2R2_MAS4'].value_counts()"
   ]
  },
  {
   "cell_type": "code",
   "execution_count": null,
   "metadata": {},
   "outputs": [],
   "source": [
    "stat, p = levene(df_sin_anomalos['TRT_6MESES_SIN_1_MES'][df_sin_anomalos['SAME-TT2R2_MAS4'] == 0],\n",
    "                df_sin_anomalos['TRT_6MESES_SIN_1_MES'][df_sin_anomalos['SAME-TT2R2_MAS4'] == 1])\n",
    "print('stat=%.3f, p=%.3f' % (stat, p))\n",
    "if p > 0.05:\n",
    "    print('No se rechaza H0, las varianzas son iguales')\n",
    "else:\n",
    "    print('Se rechaza H0, las varianzas no son iguales')"
   ]
  },
  {
   "cell_type": "code",
   "execution_count": null,
   "metadata": {},
   "outputs": [],
   "source": [
    "# test de mann whitney para comparar las medianas de SAME-TT2R2_3\n",
    "\n",
    "stat, p = mannwhitneyu(df_sin_anomalos['TRT_6MESES_SIN_1_MES'][df_sin_anomalos['SAME-TT2R2_MAS4'] == 0],\n",
    "                        df_sin_anomalos['TRT_6MESES_SIN_1_MES'][df_sin_anomalos['SAME-TT2R2_MAS4'] == 1])\n",
    "print('stat=%.3f, p=%.3f' % (stat, p))\n",
    "if p > 0.05:\n",
    "    print('No se rechaza H0, las medianas son iguales')\n",
    "else:\n",
    "    print('Se rechaza H0, las medianas no son iguales')"
   ]
  },
  {
   "cell_type": "code",
   "execution_count": null,
   "metadata": {},
   "outputs": [],
   "source": [
    "plt.figure(figsize=(10,5))\n",
    "sns.boxplot(y='TRT_6MESES_SIN_1_MES', x='SAME-TT2R2_MAS4', data=df_sin_anomalos)\n",
    "plt.show()"
   ]
  },
  {
   "cell_type": "code",
   "execution_count": null,
   "metadata": {},
   "outputs": [],
   "source": [
    "df_sin_anomalos.groupby('SAME-TT2R2_MAS4')['TRT_6MESES_SIN_1_MES'].describe()"
   ]
  },
  {
   "attachments": {},
   "cell_type": "markdown",
   "metadata": {},
   "source": [
    "### TRT vs SAME-TT2R2"
   ]
  },
  {
   "cell_type": "code",
   "execution_count": null,
   "metadata": {},
   "outputs": [],
   "source": [
    "# value counts de TRT\n",
    "df_sin_anomalos['TRT'].value_counts()"
   ]
  },
  {
   "cell_type": "code",
   "execution_count": null,
   "metadata": {},
   "outputs": [],
   "source": [
    "# test chi cuadrado para SAME-TT2R2\n",
    "from scipy.stats import chi2_contingency\n",
    "\n",
    "# test chi cuadrado\n",
    "stat, p, dof, expected = chi2_contingency(pd.crosstab(df_sin_anomalos['SAME-TT2R2_prueba'], df_sin_anomalos['TRT']))\n",
    "print('stat=%.3f, p=%.3f' % (stat, p))\n",
    "if p > 0.05:\n",
    "    print('No se rechaza H0, las variables son independientes')\n",
    "else:\n",
    "    print('Se rechaza H0, las variables no son independientes')"
   ]
  },
  {
   "cell_type": "code",
   "execution_count": null,
   "metadata": {},
   "outputs": [],
   "source": [
    "# value counts de SAME-TT2R2 segun TRT\n",
    "pd.crosstab(df_sin_anomalos['SAME-TT2R2'], df_sin_anomalos['TRT'])\n"
   ]
  },
  {
   "cell_type": "code",
   "execution_count": null,
   "metadata": {},
   "outputs": [],
   "source": [
    "# fisher test entre SAME-TT2R2 = (0 y 1) y TRT\n",
    "from scipy.stats import fisher_exact\n",
    "SAME_0_1 = df_sin_anomalos[df_sin_anomalos['SAME-TT2R2'] < 2]\n",
    "\n",
    "stat, p = fisher_exact(pd.crosstab(SAME_0_1[\"SAME-TT2R2\"], df_sin_anomalos['TRT']))\n",
    "print('stat=%.3f, p=%.3f' % (stat, p))\n",
    "if p > 0.05:\n",
    "    print('No se rechaza H0, las variables son independientes')\n",
    "else:\n",
    "    print('Se rechaza H0, las variables no son independientes')\n"
   ]
  },
  {
   "cell_type": "code",
   "execution_count": null,
   "metadata": {},
   "outputs": [],
   "source": [
    "# cross tab de SAME-TT2R2 = (0 y 1) y TRT\n",
    "pd.crosstab(SAME_0_1[\"SAME-TT2R2\"], df_sin_anomalos['TRT'])"
   ]
  },
  {
   "cell_type": "code",
   "execution_count": null,
   "metadata": {},
   "outputs": [],
   "source": [
    "#escoger aquellas filas donde SAME-TT2R2 = 0 y SAME-TT2R2 = 2\n",
    "SAME_0_2 = df_sin_anomalos[(df_sin_anomalos['SAME-TT2R2'] == 0) | (df_sin_anomalos['SAME-TT2R2'] == 2)]\n",
    "\n",
    "stat, p = fisher_exact(pd.crosstab(SAME_0_2[\"SAME-TT2R2\"], df_sin_anomalos['TRT']))\n",
    "print('stat=%.3f, p=%.3f' % (stat, p))\n",
    "if p > 0.05:\n",
    "    print('No se rechaza H0, las variables son independientes')\n",
    "else:\n",
    "    print('Se rechaza H0, las variables no son independientes')"
   ]
  },
  {
   "cell_type": "code",
   "execution_count": null,
   "metadata": {},
   "outputs": [],
   "source": [
    "# cross tab de SAME-TT2R2 = (0 y 2) y TRT\n",
    "pd.crosstab(SAME_0_2[\"SAME-TT2R2\"], df_sin_anomalos['TRT'])"
   ]
  },
  {
   "cell_type": "code",
   "execution_count": null,
   "metadata": {},
   "outputs": [],
   "source": [
    "SAME_0_3 = df_sin_anomalos[(df_sin_anomalos['SAME-TT2R2'] == 0) | (df_sin_anomalos['SAME-TT2R2'] == 3)]\n",
    "\n",
    "stat, p = fisher_exact(pd.crosstab(SAME_0_3[\"SAME-TT2R2\"], df_sin_anomalos['TRT']))\n",
    "print('stat=%.3f, p=%.3f' % (stat, p))\n",
    "if p > 0.05:\n",
    "    print('No se rechaza H0, las variables son independientes')\n",
    "else:\n",
    "    print('Se rechaza H0, las variables no son independientes')"
   ]
  },
  {
   "cell_type": "code",
   "execution_count": null,
   "metadata": {},
   "outputs": [],
   "source": [
    "# cross tab de SAME-TT2R2 = (0 y 3) y TRT\n",
    "pd.crosstab(SAME_0_3[\"SAME-TT2R2\"], df_sin_anomalos['TRT'])"
   ]
  },
  {
   "cell_type": "code",
   "execution_count": null,
   "metadata": {},
   "outputs": [],
   "source": [
    "SAME_0_4 = df_sin_anomalos[(df_sin_anomalos['SAME-TT2R2'] == 0) | (df_sin_anomalos['SAME-TT2R2'] == 4)]\n",
    "\n",
    "stat, p = fisher_exact(pd.crosstab(SAME_0_4[\"SAME-TT2R2\"], df_sin_anomalos['TRT']))\n",
    "print('stat=%.3f, p=%.3f' % (stat, p))\n",
    "if p > 0.05:\n",
    "    print('No se rechaza H0, las variables son independientes')\n",
    "else:\n",
    "    print('Se rechaza H0, las variables no son independientes')"
   ]
  },
  {
   "cell_type": "code",
   "execution_count": null,
   "metadata": {},
   "outputs": [],
   "source": [
    "# cross tab de SAME-TT2R2 = (0 y 4) y TRT\n",
    "pd.crosstab(SAME_0_4[\"SAME-TT2R2\"], df_sin_anomalos['TRT'])"
   ]
  },
  {
   "cell_type": "code",
   "execution_count": null,
   "metadata": {},
   "outputs": [],
   "source": [
    "SAME_0_5 = df_sin_anomalos[(df_sin_anomalos['SAME-TT2R2'] == 0) | (df_sin_anomalos['SAME-TT2R2'] == 5)]\n",
    "\n",
    "stat, p = fisher_exact(pd.crosstab(SAME_0_5[\"SAME-TT2R2\"], df_sin_anomalos['TRT']))\n",
    "print('stat=%.3f, p=%.3f' % (stat, p))\n",
    "if p > 0.05:\n",
    "    print('No se rechaza H0, las variables son independientes')\n",
    "else:\n",
    "    print('Se rechaza H0, las variables no son independientes')"
   ]
  },
  {
   "cell_type": "code",
   "execution_count": null,
   "metadata": {},
   "outputs": [],
   "source": [
    "# cross tab de SAME-TT2R2 = (0 y 5) y TRT\n",
    "pd.crosstab(SAME_0_5[\"SAME-TT2R2\"], df_sin_anomalos['TRT'])"
   ]
  },
  {
   "attachments": {},
   "cell_type": "markdown",
   "metadata": {},
   "source": [
    "### TRT vs SAME-TT2R2_MAS2"
   ]
  },
  {
   "cell_type": "code",
   "execution_count": null,
   "metadata": {},
   "outputs": [],
   "source": [
    "# test fisher para SAME-TT2R2_2\n",
    "from scipy.stats import fisher_exact\n",
    "\n",
    "# test fisher\n",
    "stat, p = fisher_exact(pd.crosstab(df_sin_anomalos['SAME-TT2R2_MAS2'], df_sin_anomalos['TRT']))\n",
    "print('stat=%.3f, p=%.3f' % (stat, p))\n",
    "if p > 0.05:\n",
    "    print('No se rechaza H0, las variables son independientes')\n",
    "else:\n",
    "    print('Se rechaza H0, las variables no son independientes')\n",
    "    "
   ]
  },
  {
   "cell_type": "code",
   "execution_count": null,
   "metadata": {},
   "outputs": [],
   "source": [
    "# value counts de SAME-TT2R2_2 segun TRT\n",
    "pd.crosstab(df_sin_anomalos['SAME-TT2R2_MAS2'], df_sin_anomalos['TRT'])"
   ]
  },
  {
   "attachments": {},
   "cell_type": "markdown",
   "metadata": {},
   "source": [
    "### TRT vs SAME-TT2R2_MAS3"
   ]
  },
  {
   "cell_type": "code",
   "execution_count": null,
   "metadata": {},
   "outputs": [],
   "source": [
    "# test fisher para SAME-TT2R2_3\n",
    "from scipy.stats import fisher_exact\n",
    "\n",
    "# test fisher\n",
    "stat, p = fisher_exact(pd.crosstab(df_sin_anomalos['SAME-TT2R2_MAS3'], df_sin_anomalos['TRT']))\n",
    "print('stat=%.3f, p=%.3f' % (stat, p))\n",
    "if p > 0.05:\n",
    "    print('No se rechaza H0, las variables son independientes')\n",
    "else:\n",
    "    print('Se rechaza H0, las variables no son independientes')"
   ]
  },
  {
   "cell_type": "code",
   "execution_count": null,
   "metadata": {},
   "outputs": [],
   "source": [
    "# value counts de SAME-TT2R2_3 segun TRT\n",
    "pd.crosstab(df_sin_anomalos['SAME-TT2R2_MAS3'], df_sin_anomalos['TRT'])"
   ]
  },
  {
   "attachments": {},
   "cell_type": "markdown",
   "metadata": {},
   "source": [
    "### TRT vs SAME-TT2R2_MAS4"
   ]
  },
  {
   "cell_type": "code",
   "execution_count": null,
   "metadata": {},
   "outputs": [],
   "source": [
    "stat, p = fisher_exact(pd.crosstab(df_sin_anomalos['SAME-TT2R2_MAS4'], df_sin_anomalos['TRT']))\n",
    "print('stat=%.3f, p=%.3f' % (stat, p))\n",
    "if p > 0.05:\n",
    "    print('No se rechaza H0, las variables son independientes')\n",
    "else:\n",
    "    print('Se rechaza H0, las variables no son independientes')"
   ]
  },
  {
   "cell_type": "code",
   "execution_count": null,
   "metadata": {},
   "outputs": [],
   "source": [
    "pd.crosstab(df_sin_anomalos['SAME-TT2R2_MAS4'], df_sin_anomalos['TRT'])"
   ]
  },
  {
   "attachments": {},
   "cell_type": "markdown",
   "metadata": {},
   "source": [
    "### TRT_60 vs SAME-TT2R2"
   ]
  },
  {
   "cell_type": "code",
   "execution_count": null,
   "metadata": {},
   "outputs": [],
   "source": [
    "# dividir TRT_6MESES_SIN_1_MES en (<60 = 0) y (>=60 = 1)\n",
    "df_sin_anomalos['TRT_60'] = 0\n",
    "df_sin_anomalos.loc[df_sin_anomalos['TRT_6MESES_SIN_1_MES'] >= 60, 'TRT_60'] = 1\n",
    "df_sin_anomalos['TRT_60'].value_counts()"
   ]
  },
  {
   "cell_type": "code",
   "execution_count": null,
   "metadata": {},
   "outputs": [],
   "source": [
    "# test de chi cuadrado para SAME-TT2R2 y TRT_60\n",
    "from scipy.stats import chi2_contingency\n",
    "\n",
    "# test chi cuadrado\n",
    "stat, p, dof, expected = chi2_contingency(pd.crosstab(df_sin_anomalos['SAME-TT2R2_prueba'], df_sin_anomalos['TRT_60']))\n",
    "print('stat=%.3f, p=%.3f' % (stat, p))\n",
    "if p > 0.05:\n",
    "    print('No se rechaza H0, las variables son independientes')\n",
    "else:\n",
    "    print('Se rechaza H0, las variables no son independientes')"
   ]
  },
  {
   "cell_type": "code",
   "execution_count": null,
   "metadata": {},
   "outputs": [],
   "source": [
    "# value counts de SAME-TT2R2 segun TRT_60\n",
    "pd.crosstab(df_sin_anomalos['SAME-TT2R2'], df_sin_anomalos['TRT_60'])"
   ]
  },
  {
   "cell_type": "code",
   "execution_count": null,
   "metadata": {},
   "outputs": [],
   "source": [
    "stat, p = fisher_exact(pd.crosstab(SAME_0_1[\"SAME-TT2R2\"], df_sin_anomalos['TRT_60']))\n",
    "print('stat=%.3f, p=%.3f' % (stat, p))\n",
    "if p > 0.05:\n",
    "    print('No se rechaza H0, las variables son independientes')\n",
    "else:\n",
    "    print('Se rechaza H0, las variables no son independientes')"
   ]
  },
  {
   "cell_type": "code",
   "execution_count": null,
   "metadata": {},
   "outputs": [],
   "source": [
    "# cross tab de SAME-TT2R2 = (0 y 1) y TRT_60\n",
    "pd.crosstab(SAME_0_1[\"SAME-TT2R2\"], df_sin_anomalos['TRT_60'])"
   ]
  },
  {
   "cell_type": "code",
   "execution_count": null,
   "metadata": {},
   "outputs": [],
   "source": [
    "stat, p = fisher_exact(pd.crosstab(SAME_0_2[\"SAME-TT2R2\"], df_sin_anomalos['TRT_60']))\n",
    "print('stat=%.3f, p=%.3f' % (stat, p))\n",
    "if p > 0.05:\n",
    "    print('No se rechaza H0, las variables son independientes')\n",
    "else:\n",
    "    print('Se rechaza H0, las variables no son independientes')"
   ]
  },
  {
   "cell_type": "code",
   "execution_count": null,
   "metadata": {},
   "outputs": [],
   "source": [
    "# cross tab de SAME-TT2R2 = (0 y 2) y TRT_60\n",
    "pd.crosstab(SAME_0_2[\"SAME-TT2R2\"], df_sin_anomalos['TRT_60'])"
   ]
  },
  {
   "cell_type": "code",
   "execution_count": null,
   "metadata": {},
   "outputs": [],
   "source": [
    "stat, p = fisher_exact(pd.crosstab(SAME_0_3[\"SAME-TT2R2\"], df_sin_anomalos['TRT_60']))\n",
    "print('stat=%.3f, p=%.3f' % (stat, p))\n",
    "if p > 0.05:\n",
    "    print('No se rechaza H0, las variables son independientes')\n",
    "else:\n",
    "    print('Se rechaza H0, las variables no son independientes')"
   ]
  },
  {
   "cell_type": "code",
   "execution_count": null,
   "metadata": {},
   "outputs": [],
   "source": [
    "# cross tab de SAME-TT2R2 = (0 y 3) y TRT_60\n",
    "pd.crosstab(SAME_0_3[\"SAME-TT2R2\"], df_sin_anomalos['TRT_60'])"
   ]
  },
  {
   "cell_type": "code",
   "execution_count": null,
   "metadata": {},
   "outputs": [],
   "source": [
    "stat, p = fisher_exact(pd.crosstab(SAME_0_4[\"SAME-TT2R2\"], df_sin_anomalos['TRT_60']))\n",
    "print('stat=%.3f, p=%.3f' % (stat, p))\n",
    "if p > 0.05:\n",
    "    print('No se rechaza H0, las variables son independientes')\n",
    "else:\n",
    "    print('Se rechaza H0, las variables no son independientes')"
   ]
  },
  {
   "cell_type": "code",
   "execution_count": null,
   "metadata": {},
   "outputs": [],
   "source": [
    "# cross tab de SAME-TT2R2 = (0 y 4) y TRT_60\n",
    "pd.crosstab(SAME_0_4[\"SAME-TT2R2\"], df_sin_anomalos['TRT_60'])"
   ]
  },
  {
   "cell_type": "code",
   "execution_count": null,
   "metadata": {},
   "outputs": [],
   "source": [
    "stat, p = fisher_exact(pd.crosstab(SAME_0_5[\"SAME-TT2R2\"], df_sin_anomalos['TRT_60']))\n",
    "print('stat=%.3f, p=%.3f' % (stat, p))\n",
    "if p > 0.05:\n",
    "    print('No se rechaza H0, las variables son independientes')\n",
    "else:\n",
    "    print('Se rechaza H0, las variables no son independientes')"
   ]
  },
  {
   "cell_type": "code",
   "execution_count": null,
   "metadata": {},
   "outputs": [],
   "source": [
    "# cross tab de SAME-TT2R2 = (0 y 5) y TRT_60\n",
    "pd.crosstab(SAME_0_5[\"SAME-TT2R2\"], df_sin_anomalos['TRT_60'])"
   ]
  },
  {
   "attachments": {},
   "cell_type": "markdown",
   "metadata": {},
   "source": [
    "### TRT_60 vs SAME-TT2R2_MAS2"
   ]
  },
  {
   "cell_type": "code",
   "execution_count": null,
   "metadata": {},
   "outputs": [],
   "source": [
    "# test de fisher para SAME-TT2R2_2 y TRT_60\n",
    "from scipy.stats import fisher_exact\n",
    "\n",
    "# test fisher\n",
    "stat, p = fisher_exact(pd.crosstab(df_sin_anomalos['SAME-TT2R2_MAS2'], df_sin_anomalos['TRT_60']))\n",
    "print('stat=%.3f, p=%.3f' % (stat, p))\n",
    "if p > 0.05:\n",
    "    print('No se rechaza H0, las variables son independientes')\n",
    "else:\n",
    "    print('Se rechaza H0, las variables no son independientes')"
   ]
  },
  {
   "cell_type": "code",
   "execution_count": null,
   "metadata": {},
   "outputs": [],
   "source": [
    "# value counts de SAME-TT2R2_2 segun TRT_60\n",
    "pd.crosstab(df_sin_anomalos['SAME-TT2R2_MAS2'], df_sin_anomalos['TRT_60'])"
   ]
  },
  {
   "attachments": {},
   "cell_type": "markdown",
   "metadata": {},
   "source": [
    "### TRT_60 vs SAME-TT2R2_MAS3"
   ]
  },
  {
   "cell_type": "code",
   "execution_count": null,
   "metadata": {},
   "outputs": [],
   "source": [
    "# test de fisher para SAME-TT2R2_3 y TRT_60\n",
    "from scipy.stats import fisher_exact\n",
    "\n",
    "# test fisher\n",
    "stat, p = fisher_exact(pd.crosstab(df_sin_anomalos['SAME-TT2R2_MAS3'], df_sin_anomalos['TRT_60']))\n",
    "print('stat=%.3f, p=%.3f' % (stat, p))\n",
    "if p > 0.05:\n",
    "    print('No se rechaza H0, las variables son independientes')\n",
    "else:\n",
    "    print('Se rechaza H0, las variables no son independientes')"
   ]
  },
  {
   "cell_type": "code",
   "execution_count": null,
   "metadata": {},
   "outputs": [],
   "source": [
    "# value counts de SAME-TT2R2_3 segun TRT_60\n",
    "pd.crosstab(df_sin_anomalos['SAME-TT2R2_MAS3'], df_sin_anomalos['TRT_60'])"
   ]
  },
  {
   "attachments": {},
   "cell_type": "markdown",
   "metadata": {},
   "source": [
    "### TRT_60 vs SAME-TT2R2_MAS4"
   ]
  },
  {
   "cell_type": "code",
   "execution_count": null,
   "metadata": {},
   "outputs": [],
   "source": [
    "stat, p = fisher_exact(pd.crosstab(df_sin_anomalos['SAME-TT2R2_MAS4'], df_sin_anomalos['TRT_60']))\n",
    "print('stat=%.3f, p=%.3f' % (stat, p))\n",
    "if p > 0.05:\n",
    "    print('No se rechaza H0, las variables son independientes')\n",
    "else:\n",
    "    print('Se rechaza H0, las variables no son independientes')"
   ]
  },
  {
   "cell_type": "code",
   "execution_count": null,
   "metadata": {},
   "outputs": [],
   "source": [
    "pd.crosstab(df_sin_anomalos['SAME-TT2R2_MAS4'], df_sin_anomalos['TRT_60'])"
   ]
  },
  {
   "attachments": {},
   "cell_type": "markdown",
   "metadata": {},
   "source": [
    "### TRT_70 vs SAME-TT2R2"
   ]
  },
  {
   "cell_type": "code",
   "execution_count": null,
   "metadata": {},
   "outputs": [],
   "source": [
    "# dividir TRT_6MESES_SIN_1_MES en (<70 = 0) y (>=70 = 1)\n",
    "df_sin_anomalos['TRT_70'] = 0\n",
    "df_sin_anomalos.loc[df_sin_anomalos['TRT_6MESES_SIN_1_MES'] >= 70, 'TRT_70'] = 1\n",
    "df_sin_anomalos['TRT_70'].value_counts()"
   ]
  },
  {
   "cell_type": "code",
   "execution_count": null,
   "metadata": {},
   "outputs": [],
   "source": [
    "# test de chi cuadrado para SAME-TT2R2 y TRT_60\n",
    "from scipy.stats import chi2_contingency\n",
    "\n",
    "# test chi cuadrado\n",
    "stat, p, dof, expected = chi2_contingency(pd.crosstab(df_sin_anomalos['SAME-TT2R2_prueba'], df_sin_anomalos['TRT_70']))\n",
    "print('stat=%.3f, p=%.3f' % (stat, p))\n",
    "if p > 0.05:\n",
    "    print('No se rechaza H0, las variables son independientes')\n",
    "else:\n",
    "    print('Se rechaza H0, las variables no son independientes')"
   ]
  },
  {
   "cell_type": "code",
   "execution_count": null,
   "metadata": {},
   "outputs": [],
   "source": [
    "pd.crosstab(df_sin_anomalos['SAME-TT2R2'], df_sin_anomalos['TRT_70'])"
   ]
  },
  {
   "cell_type": "code",
   "execution_count": null,
   "metadata": {},
   "outputs": [],
   "source": [
    "stat, p = fisher_exact(pd.crosstab(SAME_0_1[\"SAME-TT2R2\"], df_sin_anomalos['TRT_70']))\n",
    "print('stat=%.3f, p=%.3f' % (stat, p))\n",
    "if p > 0.05:\n",
    "    print('No se rechaza H0, las variables son independientes')\n",
    "else:\n",
    "    print('Se rechaza H0, las variables no son independientes')"
   ]
  },
  {
   "cell_type": "code",
   "execution_count": null,
   "metadata": {},
   "outputs": [],
   "source": [
    "# cross tab de SAME-TT2R2 = (0 y 1) y TRT_70\n",
    "pd.crosstab(SAME_0_1[\"SAME-TT2R2\"], df_sin_anomalos['TRT_70'])"
   ]
  },
  {
   "cell_type": "code",
   "execution_count": null,
   "metadata": {},
   "outputs": [],
   "source": [
    "stat, p = fisher_exact(pd.crosstab(SAME_0_2[\"SAME-TT2R2\"], df_sin_anomalos['TRT_70']))\n",
    "print('stat=%.3f, p=%.3f' % (stat, p))\n",
    "if p > 0.05:\n",
    "    print('No se rechaza H0, las variables son independientes')\n",
    "else:\n",
    "    print('Se rechaza H0, las variables no son independientes')"
   ]
  },
  {
   "cell_type": "code",
   "execution_count": null,
   "metadata": {},
   "outputs": [],
   "source": [
    "# cross tab de SAME-TT2R2 = (0 y 2) y TRT_70\n",
    "pd.crosstab(SAME_0_2[\"SAME-TT2R2\"], df_sin_anomalos['TRT_70'])"
   ]
  },
  {
   "cell_type": "code",
   "execution_count": null,
   "metadata": {},
   "outputs": [],
   "source": [
    "stat, p = fisher_exact(pd.crosstab(SAME_0_3[\"SAME-TT2R2\"], df_sin_anomalos['TRT_70']))\n",
    "print('stat=%.3f, p=%.3f' % (stat, p))\n",
    "if p > 0.05:\n",
    "    print('No se rechaza H0, las variables son independientes')\n",
    "else:\n",
    "    print('Se rechaza H0, las variables no son independientes')"
   ]
  },
  {
   "cell_type": "code",
   "execution_count": null,
   "metadata": {},
   "outputs": [],
   "source": [
    "# cross tab de SAME-TT2R2 = (0 y 3) y TRT_70\n",
    "pd.crosstab(SAME_0_3[\"SAME-TT2R2\"], df_sin_anomalos['TRT_70'])"
   ]
  },
  {
   "cell_type": "code",
   "execution_count": null,
   "metadata": {},
   "outputs": [],
   "source": [
    "stat, p = fisher_exact(pd.crosstab(SAME_0_4[\"SAME-TT2R2\"], df_sin_anomalos['TRT_70']))\n",
    "print('stat=%.3f, p=%.3f' % (stat, p))\n",
    "if p > 0.05:\n",
    "    print('No se rechaza H0, las variables son independientes')\n",
    "else:\n",
    "    print('Se rechaza H0, las variables no son independientes')"
   ]
  },
  {
   "cell_type": "code",
   "execution_count": null,
   "metadata": {},
   "outputs": [],
   "source": [
    "# cross tab de SAME-TT2R2 = (0 y 4) y TRT_70\n",
    "pd.crosstab(SAME_0_4[\"SAME-TT2R2\"], df_sin_anomalos['TRT_70'])"
   ]
  },
  {
   "cell_type": "code",
   "execution_count": null,
   "metadata": {},
   "outputs": [],
   "source": [
    "stat, p = fisher_exact(pd.crosstab(SAME_0_5[\"SAME-TT2R2\"], df_sin_anomalos['TRT_70']))\n",
    "print('stat=%.3f, p=%.3f' % (stat, p))\n",
    "if p > 0.05:\n",
    "    print('No se rechaza H0, las variables son independientes')\n",
    "else:\n",
    "    print('Se rechaza H0, las variables no son independientes')"
   ]
  },
  {
   "cell_type": "code",
   "execution_count": null,
   "metadata": {},
   "outputs": [],
   "source": [
    "# cross tab de SAME-TT2R2 = (0 y 5) y TRT_70\n",
    "pd.crosstab(SAME_0_5[\"SAME-TT2R2\"], df_sin_anomalos['TRT_70'])"
   ]
  },
  {
   "attachments": {},
   "cell_type": "markdown",
   "metadata": {},
   "source": [
    "### TRT_70 vs SAME-TT2R2_MAS2"
   ]
  },
  {
   "cell_type": "code",
   "execution_count": null,
   "metadata": {},
   "outputs": [],
   "source": [
    "# test de fisher para SAME-TT2R2_2 y TRT_60\n",
    "from scipy.stats import fisher_exact\n",
    "\n",
    "# test fisher\n",
    "stat, p = fisher_exact(pd.crosstab(df_sin_anomalos['SAME-TT2R2_MAS2'], df_sin_anomalos['TRT_70']))\n",
    "print('stat=%.3f, p=%.3f' % (stat, p))\n",
    "if p > 0.05:\n",
    "    print('No se rechaza H0, las variables son independientes')\n",
    "else:\n",
    "    print('Se rechaza H0, las variables no son independientes')"
   ]
  },
  {
   "cell_type": "code",
   "execution_count": null,
   "metadata": {},
   "outputs": [],
   "source": [
    "pd.crosstab(df_sin_anomalos['SAME-TT2R2_MAS2'], df_sin_anomalos['TRT_70'])"
   ]
  },
  {
   "attachments": {},
   "cell_type": "markdown",
   "metadata": {},
   "source": [
    "### TRT_70 vs SAME-TT2R2_MAS3"
   ]
  },
  {
   "cell_type": "code",
   "execution_count": null,
   "metadata": {},
   "outputs": [],
   "source": [
    "# test de fisher para SAME-TT2R2_3 y TRT_60\n",
    "from scipy.stats import fisher_exact\n",
    "\n",
    "# test fisher\n",
    "stat, p = fisher_exact(pd.crosstab(df_sin_anomalos['SAME-TT2R2_MAS3'], df_sin_anomalos['TRT_70']))\n",
    "print('stat=%.3f, p=%.3f' % (stat, p))\n",
    "if p > 0.05:\n",
    "    print('No se rechaza H0, las variables son independientes')\n",
    "else:\n",
    "    print('Se rechaza H0, las variables no son independientes')"
   ]
  },
  {
   "cell_type": "code",
   "execution_count": null,
   "metadata": {},
   "outputs": [],
   "source": [
    "pd.crosstab(df_sin_anomalos['SAME-TT2R2_MAS3'], df_sin_anomalos['TRT_70'])"
   ]
  },
  {
   "attachments": {},
   "cell_type": "markdown",
   "metadata": {},
   "source": [
    "### TRT_70 vs SAME-TT2R2_MAS4"
   ]
  },
  {
   "cell_type": "code",
   "execution_count": null,
   "metadata": {},
   "outputs": [],
   "source": [
    "stat, p = fisher_exact(pd.crosstab(df_sin_anomalos['SAME-TT2R2_MAS4'], df_sin_anomalos['TRT_70']))\n",
    "print('stat=%.3f, p=%.3f' % (stat, p))\n",
    "if p > 0.05:\n",
    "    print('No se rechaza H0, las variables son independientes')\n",
    "else:\n",
    "    print('Se rechaza H0, las variables no son independientes')"
   ]
  },
  {
   "cell_type": "code",
   "execution_count": null,
   "metadata": {},
   "outputs": [],
   "source": [
    "pd.crosstab(df_sin_anomalos['SAME-TT2R2_MAS4'], df_sin_anomalos['TRT_70'])"
   ]
  },
  {
   "attachments": {},
   "cell_type": "markdown",
   "metadata": {},
   "source": [
    "### 0 vs CADA VARIABLE"
   ]
  },
  {
   "cell_type": "code",
   "execution_count": null,
   "metadata": {},
   "outputs": [],
   "source": [
    "# comparar mann whitney SAME-TT2R2 (0 con 1) con TRT_6MESES_SIN_1_MES\n",
    "from scipy.stats import mannwhitneyu\n",
    "\n",
    "# test mann whitney\n",
    "stat, p = mannwhitneyu(df_sin_anomalos.loc[df_sin_anomalos['SAME-TT2R2'] == 0, 'TRT_6MESES_SIN_1_MES'], df_sin_anomalos.loc[df_sin_anomalos['SAME-TT2R2'] == 1, 'TRT_6MESES_SIN_1_MES'])\n",
    "print('stat=%.3f, p=%.3f' % (stat, p))\n",
    "if p > 0.05:\n",
    "    print('No se rechaza H0, las variables son independientes')\n",
    "else:\n",
    "    print('Se rechaza H0, las variables no son independientes')\n"
   ]
  },
  {
   "cell_type": "code",
   "execution_count": null,
   "metadata": {},
   "outputs": [],
   "source": [
    "# comparar mann whitney SAME-TT2R2 (0 con 1) con TRT_6MESES_SIN_1_MES\n",
    "from scipy.stats import mannwhitneyu\n",
    "\n",
    "# test mann whitney\n",
    "stat, p = mannwhitneyu(df_sin_anomalos.loc[df_sin_anomalos['SAME-TT2R2'] == 0, 'TRT_6MESES_SIN_1_MES'], df_sin_anomalos.loc[df_sin_anomalos['SAME-TT2R2'] == 2, 'TRT_6MESES_SIN_1_MES'])\n",
    "print('stat=%.3f, p=%.3f' % (stat, p))\n",
    "if p > 0.05:\n",
    "    print('No se rechaza H0, las variables son independientes')\n",
    "else:\n",
    "    print('Se rechaza H0, las variables no son independientes')"
   ]
  },
  {
   "cell_type": "code",
   "execution_count": null,
   "metadata": {},
   "outputs": [],
   "source": [
    "# comparar mann whitney SAME-TT2R2 (0 con 1) con TRT_6MESES_SIN_1_MES\n",
    "from scipy.stats import mannwhitneyu\n",
    "\n",
    "# test mann whitney\n",
    "stat, p = mannwhitneyu(df_sin_anomalos.loc[df_sin_anomalos['SAME-TT2R2'] == 0, 'TRT_6MESES_SIN_1_MES'], df_sin_anomalos.loc[df_sin_anomalos['SAME-TT2R2'] == 3, 'TRT_6MESES_SIN_1_MES'])\n",
    "print('stat=%.3f, p=%.3f' % (stat, p))\n",
    "if p > 0.05:\n",
    "    print('No se rechaza H0, las variables son independientes')\n",
    "else:\n",
    "    print('Se rechaza H0, las variables no son independientes')"
   ]
  },
  {
   "cell_type": "code",
   "execution_count": null,
   "metadata": {},
   "outputs": [],
   "source": [
    "# comparar mann whitney SAME-TT2R2 (0 con 1) con TRT_6MESES_SIN_1_MES\n",
    "from scipy.stats import mannwhitneyu\n",
    "\n",
    "# test mann whitney\n",
    "stat, p = mannwhitneyu(df_sin_anomalos.loc[df_sin_anomalos['SAME-TT2R2'] == 0, 'TRT_6MESES_SIN_1_MES'], df_sin_anomalos.loc[df_sin_anomalos['SAME-TT2R2'] == 4, 'TRT_6MESES_SIN_1_MES'])\n",
    "print('stat=%.3f, p=%.3f' % (stat, p))\n",
    "if p > 0.05:\n",
    "    print('No se rechaza H0, las variables son independientes')\n",
    "else:\n",
    "    print('Se rechaza H0, las variables no son independientes')"
   ]
  },
  {
   "cell_type": "code",
   "execution_count": null,
   "metadata": {},
   "outputs": [],
   "source": [
    "# comparar mann whitney SAME-TT2R2 (0 con 1) con TRT_6MESES_SIN_1_MES\n",
    "from scipy.stats import mannwhitneyu\n",
    "\n",
    "# test mann whitney\n",
    "stat, p = mannwhitneyu(df_sin_anomalos.loc[df_sin_anomalos['SAME-TT2R2'] == 0, 'TRT_6MESES_SIN_1_MES'], df_sin_anomalos.loc[df_sin_anomalos['SAME-TT2R2'] == 5, 'TRT_6MESES_SIN_1_MES'])\n",
    "print('stat=%.3f, p=%.3f' % (stat, p))\n",
    "if p > 0.05:\n",
    "    print('No se rechaza H0, las variables son independientes')\n",
    "else:\n",
    "    print('Se rechaza H0, las variables no son independientes')"
   ]
  },
  {
   "attachments": {},
   "cell_type": "markdown",
   "metadata": {},
   "source": [
    "### Variables significativas"
   ]
  },
  {
   "cell_type": "code",
   "execution_count": null,
   "metadata": {},
   "outputs": [],
   "source": [
    "df_var_same = df_sin_anomalos[['SAME-TT2R2_MAS3', 'TRT_6MESES_SIN_1_MES',\"SEXO_M\",\"EDAD_60\",\"SAME_MAS_DE_2\",\"AMIODARONA\",\"FUMA\"]]"
   ]
  },
  {
   "cell_type": "code",
   "execution_count": null,
   "metadata": {},
   "outputs": [],
   "source": [
    "# descriptiva de las variables segun SAME-TT2R2_MAS3\n",
    "df_var_same.groupby('SAME-TT2R2_MAS3').describe()"
   ]
  },
  {
   "attachments": {},
   "cell_type": "markdown",
   "metadata": {},
   "source": [
    "#### SEXO"
   ]
  },
  {
   "cell_type": "code",
   "execution_count": null,
   "metadata": {},
   "outputs": [],
   "source": [
    "# test de normalidad de las variables segun SAME-TT2R2_MAS3\n",
    "for i in range(2):\n",
    "    print('SEXO_M =', i)\n",
    "    print(shapiro(df_var_same[df_var_same['SEXO_M']==i]['TRT_6MESES_SIN_1_MES']))\n",
    "    print()"
   ]
  },
  {
   "cell_type": "code",
   "execution_count": null,
   "metadata": {},
   "outputs": [],
   "source": [
    "# test de homogeneidad de varianzas con levene\n",
    "from scipy.stats import levene\n",
    "\n",
    "# test levene\n",
    "stat, p = levene(df_sin_anomalos.loc[df_sin_anomalos['SEXO_M'] == 0, 'TRT_6MESES_SIN_1_MES'], df_sin_anomalos.loc[df_sin_anomalos['SEXO_M'] == 1, 'TRT_6MESES_SIN_1_MES'])\n",
    "print('stat=%.3f, p=%.3f' % (stat, p))\n",
    "if p > 0.05:\n",
    "    print('No se rechaza H0, las variables son homogeneas')\n",
    "else:\n",
    "    print('Se rechaza H0, las variables no son homogeneas')"
   ]
  },
  {
   "cell_type": "code",
   "execution_count": null,
   "metadata": {},
   "outputs": [],
   "source": [
    "# mann whitney entre TRT_6MESES_SIN_1_MES y SEXO\n",
    "from scipy.stats import mannwhitneyu\n",
    "\n",
    "# test mann whitney\n",
    "stat, p = mannwhitneyu(df_sin_anomalos.loc[df_sin_anomalos['SEXO_M'] == 0, 'TRT_6MESES_SIN_1_MES'], df_sin_anomalos.loc[df_sin_anomalos['SEXO_M'] == 1, 'TRT_6MESES_SIN_1_MES'])\n",
    "print('stat=%.3f, p=%.3f' % (stat, p))\n",
    "if p > 0.05:\n",
    "    print('No se rechaza H0, las variables son independientes')\n",
    "else:\n",
    "    print('Se rechaza H0, las variables no son independientes')"
   ]
  },
  {
   "cell_type": "code",
   "execution_count": null,
   "metadata": {},
   "outputs": [],
   "source": [
    "# boxplot de TRT_6MESES_SIN_1_MES por SEXO\n",
    "sns.boxplot(x='SEXO_M', y='TRT_6MESES_SIN_1_MES', data=df_sin_anomalos)"
   ]
  },
  {
   "cell_type": "code",
   "execution_count": null,
   "metadata": {},
   "outputs": [],
   "source": [
    "# descriptivo de TRT_6MESES_SIN_1_MES por SEXO\n",
    "df_sin_anomalos.groupby('SEXO_M')['TRT_6MESES_SIN_1_MES'].describe()"
   ]
  },
  {
   "attachments": {},
   "cell_type": "markdown",
   "metadata": {},
   "source": [
    "#### SAME_MAS_DE_2"
   ]
  },
  {
   "cell_type": "code",
   "execution_count": null,
   "metadata": {},
   "outputs": [],
   "source": [
    "for i in range(2):\n",
    "    print('SAME_MAS_DE_2 =', i)\n",
    "    print(shapiro(df_var_same[df_var_same['SEXO_M']==i]['TRT_6MESES_SIN_1_MES']))\n",
    "    print()"
   ]
  },
  {
   "cell_type": "code",
   "execution_count": null,
   "metadata": {},
   "outputs": [],
   "source": [
    "# test de homogeneidad de varianzas con levene\n",
    "from scipy.stats import levene\n",
    "\n",
    "# test levene\n",
    "stat, p = levene(df_sin_anomalos.loc[df_sin_anomalos['SAME_MAS_DE_2'] == 0, 'TRT_6MESES_SIN_1_MES'], df_sin_anomalos.loc[df_sin_anomalos['SAME_MAS_DE_2'] == 1, 'TRT_6MESES_SIN_1_MES'])\n",
    "print('stat=%.3f, p=%.3f' % (stat, p))\n",
    "if p > 0.05:\n",
    "    print('No se rechaza H0, las variables son homogeneas')\n",
    "else:\n",
    "    print('Se rechaza H0, las variables no son homogeneas')"
   ]
  },
  {
   "cell_type": "code",
   "execution_count": null,
   "metadata": {},
   "outputs": [],
   "source": [
    "# mann whitney entre TRT_6MESES_SIN_1_MES y SEXO\n",
    "from scipy.stats import mannwhitneyu\n",
    "\n",
    "# test mann whitney\n",
    "stat, p = mannwhitneyu(df_sin_anomalos.loc[df_sin_anomalos['SAME_MAS_DE_2'] == 0, 'TRT_6MESES_SIN_1_MES'], df_sin_anomalos.loc[df_sin_anomalos['SAME_MAS_DE_2'] == 1, 'TRT_6MESES_SIN_1_MES'])\n",
    "print('stat=%.3f, p=%.3f' % (stat, p))\n",
    "if p > 0.05:\n",
    "    print('No se rechaza H0, las variables son independientes')\n",
    "else:\n",
    "    print('Se rechaza H0, las variables no son independientes')"
   ]
  },
  {
   "cell_type": "code",
   "execution_count": null,
   "metadata": {},
   "outputs": [],
   "source": [
    "# boxplot de TRT_6MESES_SIN_1_MES por SAME_MAS_DE_2\n",
    "sns.boxplot(x='SAME_MAS_DE_2', y='TRT_6MESES_SIN_1_MES', data=df_sin_anomalos)"
   ]
  },
  {
   "cell_type": "code",
   "execution_count": null,
   "metadata": {},
   "outputs": [],
   "source": [
    "# descriptivo de TRT_6MESES_SIN_1_MES por SAME_MAS_DE_2\n",
    "df_sin_anomalos.groupby('SAME_MAS_DE_2')['TRT_6MESES_SIN_1_MES'].describe()"
   ]
  },
  {
   "attachments": {},
   "cell_type": "markdown",
   "metadata": {},
   "source": [
    "#### AMIODARONA"
   ]
  },
  {
   "cell_type": "code",
   "execution_count": null,
   "metadata": {},
   "outputs": [],
   "source": [
    "for i in range(2):\n",
    "    print('AMIODARONA =', i)\n",
    "    print(shapiro(df_var_same[df_var_same['AMIODARONA']==i]['TRT_6MESES_SIN_1_MES']))\n",
    "    print()"
   ]
  },
  {
   "cell_type": "code",
   "execution_count": null,
   "metadata": {},
   "outputs": [],
   "source": [
    "# test de homogeneidad de varianzas con levene\n",
    "from scipy.stats import levene\n",
    "\n",
    "# test levene\n",
    "stat, p = levene(df_sin_anomalos.loc[df_sin_anomalos['AMIODARONA'] == 0, 'TRT_6MESES_SIN_1_MES'], df_sin_anomalos.loc[df_sin_anomalos['AMIODARONA'] == 1, 'TRT_6MESES_SIN_1_MES'])\n",
    "print('stat=%.3f, p=%.3f' % (stat, p))\n",
    "if p > 0.05:\n",
    "    print('No se rechaza H0, las variables son homogeneas')\n",
    "else:\n",
    "    print('Se rechaza H0, las variables no son homogeneas') "
   ]
  },
  {
   "cell_type": "code",
   "execution_count": null,
   "metadata": {},
   "outputs": [],
   "source": [
    "# mann whitney entre TRT_6MESES_SIN_1_MES y SEXO\n",
    "from scipy.stats import mannwhitneyu\n",
    "\n",
    "# test mann whitney\n",
    "stat, p = mannwhitneyu(df_sin_anomalos.loc[df_sin_anomalos['AMIODARONA'] == 0, 'TRT_6MESES_SIN_1_MES'], df_sin_anomalos.loc[df_sin_anomalos['AMIODARONA'] == 1, 'TRT_6MESES_SIN_1_MES'])\n",
    "print('stat=%.3f, p=%.3f' % (stat, p))\n",
    "if p > 0.05:\n",
    "    print('No se rechaza H0, las variables son independientes')\n",
    "else:\n",
    "    print('Se rechaza H0, las variables no son independientes')"
   ]
  },
  {
   "cell_type": "code",
   "execution_count": null,
   "metadata": {},
   "outputs": [],
   "source": [
    "# boxplot de TRT_6MESES_SIN_1_MES por AMIODARONA\n",
    "sns.boxplot(x='AMIODARONA', y='TRT_6MESES_SIN_1_MES', data=df_sin_anomalos)"
   ]
  },
  {
   "cell_type": "code",
   "execution_count": null,
   "metadata": {},
   "outputs": [],
   "source": [
    "# descriptivo de TRT_6MESES_SIN_1_MES por AMIODARONA\n",
    "df_sin_anomalos.groupby('AMIODARONA')['TRT_6MESES_SIN_1_MES'].describe()"
   ]
  },
  {
   "attachments": {},
   "cell_type": "markdown",
   "metadata": {},
   "source": [
    "#### FUMA"
   ]
  },
  {
   "cell_type": "code",
   "execution_count": null,
   "metadata": {},
   "outputs": [],
   "source": [
    "for i in range(2):\n",
    "    print('FUMA =', i)\n",
    "    print(shapiro(df_var_same[df_var_same['FUMA']==i]['TRT_6MESES_SIN_1_MES']))\n",
    "    print()"
   ]
  },
  {
   "cell_type": "code",
   "execution_count": null,
   "metadata": {},
   "outputs": [],
   "source": [
    "# test de homogeneidad de varianzas con levene\n",
    "from scipy.stats import levene\n",
    "\n",
    "# test levene\n",
    "stat, p = levene(df_sin_anomalos.loc[df_sin_anomalos['FUMA'] == 0, 'TRT_6MESES_SIN_1_MES'], df_sin_anomalos.loc[df_sin_anomalos['FUMA'] == 1, 'TRT_6MESES_SIN_1_MES'])\n",
    "print('stat=%.3f, p=%.3f' % (stat, p))\n",
    "if p > 0.05:\n",
    "    print('No se rechaza H0, las variables son homogeneas')\n",
    "else:\n",
    "    print('Se rechaza H0, las variables no son homogeneas')"
   ]
  },
  {
   "cell_type": "code",
   "execution_count": null,
   "metadata": {},
   "outputs": [],
   "source": [
    "from scipy.stats import mannwhitneyu\n",
    "\n",
    "# test mann whitney\n",
    "stat, p = mannwhitneyu(df_sin_anomalos.loc[df_sin_anomalos['FUMA'] == 0, 'TRT_6MESES_SIN_1_MES'], df_sin_anomalos.loc[df_sin_anomalos['FUMA'] == 1, 'TRT_6MESES_SIN_1_MES'])\n",
    "print('stat=%.3f, p=%.3f' % (stat, p))\n",
    "if p > 0.05:\n",
    "    print('No se rechaza H0, las variables son independientes')\n",
    "else:\n",
    "    print('Se rechaza H0, las variables no son independientes')"
   ]
  },
  {
   "cell_type": "code",
   "execution_count": null,
   "metadata": {},
   "outputs": [],
   "source": [
    "# boxplot de TRT_6MESES_SIN_1_MES por FUMA\n",
    "sns.boxplot(x='FUMA', y='TRT_6MESES_SIN_1_MES', data=df_sin_anomalos)"
   ]
  },
  {
   "cell_type": "code",
   "execution_count": null,
   "metadata": {},
   "outputs": [],
   "source": [
    "# descriptivo de TRT_6MESES_SIN_1_MES por FUMA\n",
    "df_sin_anomalos.groupby('FUMA')['TRT_6MESES_SIN_1_MES'].describe()"
   ]
  },
  {
   "attachments": {},
   "cell_type": "markdown",
   "metadata": {},
   "source": [
    "#### EDAD_60"
   ]
  },
  {
   "cell_type": "code",
   "execution_count": null,
   "metadata": {},
   "outputs": [],
   "source": [
    "# shapiro para edad\n",
    "shapiro(df_sin_anomalos['EDAD_60'])"
   ]
  },
  {
   "cell_type": "code",
   "execution_count": null,
   "metadata": {},
   "outputs": [],
   "source": [
    "for i in range(2):\n",
    "    print('EDAD_60 =', i)\n",
    "    print(shapiro(df_var_same[df_var_same['EDAD_60']==i]['TRT_6MESES_SIN_1_MES']))\n",
    "    print()"
   ]
  },
  {
   "cell_type": "code",
   "execution_count": null,
   "metadata": {},
   "outputs": [],
   "source": [
    "from scipy.stats import levene\n",
    "\n",
    "# test levene\n",
    "stat, p = levene(df_sin_anomalos.loc[df_sin_anomalos['EDAD_60'] == 0, 'TRT_6MESES_SIN_1_MES'], df_sin_anomalos.loc[df_sin_anomalos['EDAD_60'] == 1, 'TRT_6MESES_SIN_1_MES'])\n",
    "print('stat=%.3f, p=%.3f' % (stat, p))\n",
    "if p > 0.05:\n",
    "    print('No se rechaza H0, las variables son homogeneas')\n",
    "else:\n",
    "    print('Se rechaza H0, las variables no son homogeneas')"
   ]
  },
  {
   "cell_type": "code",
   "execution_count": null,
   "metadata": {},
   "outputs": [],
   "source": [
    "from scipy.stats import mannwhitneyu\n",
    "\n",
    "# test mann whitney\n",
    "stat, p = mannwhitneyu(df_sin_anomalos.loc[df_sin_anomalos['EDAD_60'] == 0, 'TRT_6MESES_SIN_1_MES'], df_sin_anomalos.loc[df_sin_anomalos['EDAD_60'] == 1, 'TRT_6MESES_SIN_1_MES'])\n",
    "print('stat=%.3f, p=%.3f' % (stat, p))\n",
    "if p > 0.05:\n",
    "    print('No se rechaza H0, las variables son independientes')\n",
    "else:\n",
    "    print('Se rechaza H0, las variables no son independientes')"
   ]
  },
  {
   "cell_type": "code",
   "execution_count": null,
   "metadata": {},
   "outputs": [],
   "source": [
    "# boxplot de TRT_6MESES_SIN_1_MES por EDAD_60\n",
    "sns.boxplot(x='EDAD_60', y='TRT_6MESES_SIN_1_MES', data=df_sin_anomalos)\n"
   ]
  },
  {
   "cell_type": "code",
   "execution_count": null,
   "metadata": {},
   "outputs": [],
   "source": [
    "# descriptivo de TRT_6MESES_SIN_1_MES por EDAD_60\n",
    "df_sin_anomalos.groupby('EDAD_60')['TRT_6MESES_SIN_1_MES'].describe()"
   ]
  },
  {
   "attachments": {},
   "cell_type": "markdown",
   "metadata": {},
   "source": [
    "### CUT-OFF EDAD"
   ]
  },
  {
   "cell_type": "code",
   "execution_count": null,
   "metadata": {},
   "outputs": [],
   "source": [
    "# averiguar para la EDAD con que cut-off se obtiene la mejor separacion entre los grupos\n",
    "from sklearn.metrics import roc_auc_score\n",
    "\n",
    "# calcular el AUC para cada cut-off\n",
    "auc = []\n",
    "for i in range(35, 95):\n",
    "    df_sin_anomalos['EDAD_CUT'] = np.where(df_sin_anomalos['EDAD'] >= i, 1, 0)\n",
    "    auc.append(roc_auc_score(df_sin_anomalos['EDAD_CUT'], df_sin_anomalos['TRT_6MESES_SIN_1_MES']))\n",
    "\n",
    "# graficar el AUC para cada cut-off\n",
    "plt.plot(range(35, 95), auc)\n",
    "# nombre de los ejes\n",
    "plt.xlabel('EDAD')\n",
    "plt.ylabel('AUC')\n",
    "# titulo\n",
    "plt.title('AUC para cada cut-off de EDAD')\n",
    "# grid\n",
    "plt.grid()\n",
    "# mostrar la grafica\n",
    "plt.show()"
   ]
  },
  {
   "cell_type": "code",
   "execution_count": null,
   "metadata": {},
   "outputs": [],
   "source": [
    "# hacer una lista ordenada de los cut-offs y sus AUC\n",
    "auc = pd.DataFrame({'cut': range(35, 95), 'auc': auc})\n",
    "auc.sort_values('auc', ascending=False)"
   ]
  },
  {
   "cell_type": "code",
   "execution_count": null,
   "metadata": {},
   "outputs": [],
   "source": [
    "# nueva variable EDAD_CUT\n",
    "df_sin_anomalos['EDAD_CUT'] = np.where(df_sin_anomalos['EDAD'] >= 65, 1, 0)"
   ]
  },
  {
   "cell_type": "code",
   "execution_count": null,
   "metadata": {},
   "outputs": [],
   "source": [
    "stat, p = levene(df_sin_anomalos.loc[df_sin_anomalos['EDAD_CUT'] == 0, 'TRT_6MESES_SIN_1_MES'], df_sin_anomalos.loc[df_sin_anomalos['EDAD_CUT'] == 1, 'TRT_6MESES_SIN_1_MES'])\n",
    "print('stat=%.3f, p=%.3f' % (stat, p))\n",
    "if p > 0.05:\n",
    "    print('No se rechaza H0, las variables son homogeneas')\n",
    "else:\n",
    "    print('Se rechaza H0, las variables no son homogeneas')"
   ]
  },
  {
   "cell_type": "code",
   "execution_count": null,
   "metadata": {},
   "outputs": [],
   "source": [
    "# shapiro con EDAD_CUT = 0 y EDAD_CUT = 1\n",
    "from scipy.stats import shapiro\n",
    "\n",
    "# test shapiro\n",
    "stat, p = shapiro(df_sin_anomalos.loc[df_sin_anomalos['EDAD_CUT'] == 0, 'TRT_6MESES_SIN_1_MES'])\n",
    "print('stat=%.3f, p=%.3f' % (stat, p))\n",
    "\n",
    "# test shapiro\n",
    "stat, p = shapiro(df_sin_anomalos.loc[df_sin_anomalos['EDAD_CUT'] == 1, 'TRT_6MESES_SIN_1_MES'])\n",
    "print('stat=%.3f, p=%.3f' % (stat, p))\n"
   ]
  },
  {
   "cell_type": "code",
   "execution_count": null,
   "metadata": {},
   "outputs": [],
   "source": [
    "stat, p = mannwhitneyu(df_sin_anomalos.loc[df_sin_anomalos['EDAD_CUT'] == 0, 'TRT_6MESES_SIN_1_MES'], df_sin_anomalos.loc[df_sin_anomalos['EDAD_CUT'] == 1, 'TRT_6MESES_SIN_1_MES'])\n",
    "print('stat=%.3f, p=%.3f' % (stat, p))\n",
    "if p > 0.05:\n",
    "    print('No se rechaza H0, las variables son independientes')\n",
    "else:\n",
    "    print('Se rechaza H0, las variables no son independientes')"
   ]
  },
  {
   "cell_type": "code",
   "execution_count": null,
   "metadata": {},
   "outputs": [],
   "source": [
    "df_sin_anomalos['EDAD_CUT'].value_counts()"
   ]
  },
  {
   "cell_type": "code",
   "execution_count": null,
   "metadata": {},
   "outputs": [],
   "source": [
    "sns.boxplot(x='EDAD_CUT', y='TRT_6MESES_SIN_1_MES', data=df_sin_anomalos)"
   ]
  },
  {
   "cell_type": "code",
   "execution_count": null,
   "metadata": {},
   "outputs": [],
   "source": [
    "df_sin_anomalos.groupby('EDAD_CUT')['TRT_6MESES_SIN_1_MES'].describe()"
   ]
  }
 ],
 "metadata": {
  "kernelspec": {
   "display_name": "Python 3",
   "language": "python",
   "name": "python3"
  },
  "language_info": {
   "codemirror_mode": {
    "name": "ipython",
    "version": 3
   },
   "file_extension": ".py",
   "mimetype": "text/x-python",
   "name": "python",
   "nbconvert_exporter": "python",
   "pygments_lexer": "ipython3",
   "version": "3.9.4"
  },
  "orig_nbformat": 4
 },
 "nbformat": 4,
 "nbformat_minor": 2
}
