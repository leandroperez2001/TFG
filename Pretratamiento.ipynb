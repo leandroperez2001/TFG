{
 "cells": [
  {
   "cell_type": "code",
   "execution_count": null,
   "metadata": {},
   "outputs": [],
   "source": [
    "# importar conjunto de datos\n",
    "import pandas as pd\n",
    "df = pd.read_csv(\"FANV anticoagulados 2007-21.csv\")\n",
    "df"
   ]
  },
  {
   "attachments": {},
   "cell_type": "markdown",
   "metadata": {},
   "source": [
    "### Reorganización y creación de nuevas variables"
   ]
  },
  {
   "cell_type": "code",
   "execution_count": null,
   "metadata": {},
   "outputs": [],
   "source": [
    "# clarificar columnas\n",
    "df.columns = df.columns.str.replace(\"á\",\"a\")\n",
    "df.columns = df.columns.str.replace(\"é\",\"e\")\n",
    "df.columns = df.columns.str.replace(\"í\",\"i\")\n",
    "df.columns = df.columns.str.replace(\"ó\",\"o\")\n",
    "df.columns = df.columns.str.replace(\"ú\",\"u\")\n",
    "df.columns = df.columns.str.replace(\"ñ\",\"n\")\n",
    "df.columns = df.columns.str.replace(\"(\",\"\")\n",
    "df.columns = df.columns.str.replace(\")\",\"\")\n",
    "df.columns = df.columns.str.replace('/ mL',\"\")\n",
    "df.columns = df.columns.str.replace(\"/mL\",\"\")\n",
    "df.columns = df.columns.str.replace(\"g/dL\",\"\")\n",
    "df.columns = df.columns.str.replace(\" %\",\"\")\n",
    "df.columns = df.columns.str.upper()\n",
    "df.columns = df.columns.str.strip()\n",
    "df.columns = df.columns.str.replace(\"º \",\"_\")\n",
    "df.columns = df.columns.str.replace(\"º\",\"_\")\n",
    "df.columns = df.columns.str.replace(\" \",\"_\")\n",
    "df.columns = df.columns.str.replace(\"/\",\"_\")\n",
    "\n",
    "df.columns"
   ]
  },
  {
   "cell_type": "code",
   "execution_count": null,
   "metadata": {},
   "outputs": [],
   "source": [
    "# quitar columnas innecesarias\n",
    "df.drop([\"CRITERIO_DE_GRUPO\",\"NHC\",\"OTRAS_DROGAS\"],inplace=True,axis=1)"
   ]
  },
  {
   "cell_type": "code",
   "execution_count": null,
   "metadata": {},
   "outputs": [],
   "source": [
    "# tipos de datos\n",
    "df.dtypes"
   ]
  },
  {
   "cell_type": "code",
   "execution_count": null,
   "metadata": {},
   "outputs": [],
   "source": [
    "# valores nulos de cada columna\n",
    "df.isnull().sum()"
   ]
  },
  {
   "cell_type": "code",
   "execution_count": null,
   "metadata": {},
   "outputs": [],
   "source": [
    "#imputar los valores nulos de la columna IMC con la media de la columna\n",
    "df[\"IMC\"].fillna(df[\"IMC\"].mean(),inplace=True)"
   ]
  },
  {
   "cell_type": "code",
   "execution_count": null,
   "metadata": {},
   "outputs": [],
   "source": [
    "# valores nulos en total\n",
    "df.isnull().sum().sum()"
   ]
  },
  {
   "cell_type": "code",
   "execution_count": null,
   "metadata": {},
   "outputs": [],
   "source": [
    "# cambiar el tipo de dato de las columnas Fecha inicio TAO y Fecha nacimiento a datetime\n",
    "df[\"FECHA_INICIO_TAO\"] = pd.to_datetime(df[\"FECHA_INICIO_TAO\"],format=\"%d/%m/%Y\")\n",
    "df[\"FECHA_NACIMIENTO\"] = pd.to_datetime(df[\"FECHA_NACIMIENTO\"],format=\"%d/%m/%Y\")"
   ]
  },
  {
   "cell_type": "code",
   "execution_count": null,
   "metadata": {},
   "outputs": [],
   "source": [
    "# crear una columna Edad (en años) \n",
    "df[\"EDAD\"] = round((df[\"FECHA_INICIO_TAO\"] - df[\"FECHA_NACIMIENTO\"]).dt.days/365.25,0)"
   ]
  },
  {
   "cell_type": "code",
   "execution_count": null,
   "metadata": {},
   "outputs": [],
   "source": [
    "# crear la variable Ratio neutrofilo/linfocito\n",
    "df[\"RATIO_NEUTROFILO/LINFOCITO\"] = round(df[\"NEUTROFILOS\"]/df[\"LINFOCITOS\"],2)"
   ]
  },
  {
   "cell_type": "code",
   "execution_count": null,
   "metadata": {},
   "outputs": [],
   "source": [
    "# crear la columna Anemia \n",
    "df[\"ANEMIA\"] = 0\n",
    "df.loc[(df[\"SEXO\"] == \"H\") & (df[\"HEMOGLOBINA\"] < 13),\"ANEMIA\"] = 1\n",
    "df.loc[(df[\"SEXO\"] == \"M\") & (df[\"HEMOGLOBINA\"] < 12),\"ANEMIA\"] = 1"
   ]
  },
  {
   "cell_type": "code",
   "execution_count": null,
   "metadata": {},
   "outputs": [],
   "source": [
    "# crear la columna Trombocitopenia\n",
    "df[\"TROMBOCITOPENIA\"] = 0\n",
    "df.loc[df[\"PLAQUETAS\"] < 100,\"TROMBOCITOPENIA\"] = 1"
   ]
  },
  {
   "cell_type": "code",
   "execution_count": null,
   "metadata": {},
   "outputs": [],
   "source": [
    "# Edad > 60\n",
    "df[\"EDAD_60\"] = 0\n",
    "df.loc[df[\"EDAD\"] >= 60,\"EDAD_60\"] = 1"
   ]
  },
  {
   "cell_type": "code",
   "execution_count": null,
   "metadata": {},
   "outputs": [],
   "source": [
    "# calcular el CHA2DS2-VASc score\n",
    "df[\"CHA2DS2-VASC\"] = 0\n",
    "df.loc[df[\"EDAD\"] >= 75,\"CHA2DS2-VASC\"] += 2\n",
    "df.loc[(df[\"EDAD\"] >= 65) & (df[\"EDAD\"] < 75),\"CHA2DS2-VASC\"] += 1\n",
    "df.loc[df[\"HTA\"] == 1,\"CHA2DS2-VASC\"] += 1\n",
    "df.loc[(df[\"ICTUS_PREVIO\"] == 1) | (df[\"EMBOLIA_SISTEMICA_PREVIA\"] == 1),\"CHA2DS2-VASC\"] += 2\n",
    "df.loc[df[\"DM\"] == 1,\"CHA2DS2-VASC\"] += 1\n",
    "df.loc[(df[\"CARDIOPATIA_ISQUEMICA\"] == 1) | (df[\"ARTERIOPATIA_PERIFERICA\"] == 1),\"CHA2DS2-VASC\"] += 1\n",
    "df.loc[df[\"SEXO\"] == \"M\",\"CHA2DS2-VASC\"] += 1\n",
    "df.loc[df[\"INSUFICIENCIA_CARDIACA\"] == 1,\"CHA2DS2-VASC\"] += 1"
   ]
  },
  {
   "cell_type": "code",
   "execution_count": null,
   "metadata": {},
   "outputs": [],
   "source": [
    "# calcular el SAMe-TT2R2 score\n",
    "df[\"SAME-TT2R2\"] = 0\n",
    "df.loc[df[\"SEXO\"] == \"M\",\"SAME-TT2R2\"] += 1\n",
    "df.loc[df[\"EDAD\"] < 60,\"SAME-TT2R2\"] += 1\n",
    "df.loc[(df[\"HTA\"] + df[\"DM\"] + df[\"CARDIOPATIA_ISQUEMICA\"] + df[\"ARTERIOPATIA_PERIFERICA\"] + df[\"INSUFICIENCIA_CARDIACA\"] + df[\"ICTUS_PREVIO\"] + df[\"ENFERMEDAD_PULMONAR\"] + (df[\"ALTERACION_HEPATICA\"] | df[\"INSUFICIENCIA_RENAL\"]))>2,\"SAME-TT2R2\"] += 1\n",
    "df.loc[(df[\"AMIODARONA\"] == 1), \"SAME-TT2R2\"] += 1\n",
    "df.loc[df[\"FUMA\"]==1,\"SAME-TT2R2\"] += 2\n"
   ]
  },
  {
   "cell_type": "code",
   "execution_count": null,
   "metadata": {},
   "outputs": [],
   "source": [
    "# quitamos las columnas que no vamos a utilizar\n",
    "df.drop([\"FECHA_INICIO_TAO\",\"FECHA_NACIMIENTO\"],inplace=True,axis=1)"
   ]
  },
  {
   "cell_type": "code",
   "execution_count": null,
   "metadata": {},
   "outputs": [],
   "source": [
    "# one hot encoding\n",
    "dummies_neoplasia = pd.get_dummies(df['NEOPLASIA'], prefix='NEOPLASIA')\n",
    "df = pd.concat([df, dummies_neoplasia], axis=1)\n",
    "df.drop([\"NEOPLASIA\"],inplace=True,axis=1)\n",
    "df.head()\n"
   ]
  },
  {
   "cell_type": "code",
   "execution_count": null,
   "metadata": {},
   "outputs": [],
   "source": [
    "# label encoding\n",
    "from sklearn.preprocessing import LabelEncoder\n",
    "le = LabelEncoder()\n",
    "df[\"SEXO\"] = le.fit_transform(df[\"SEXO\"])"
   ]
  },
  {
   "cell_type": "code",
   "execution_count": null,
   "metadata": {},
   "outputs": [],
   "source": [
    "# crear una nueva variable \"Cualquier antiarritmico\"\n",
    "df[\"CUALQUIER_ANTIARRITMICO\"] = 0\n",
    "df.loc[(df[\"AMIODARONA\"] == 1) | (df[\"OTROS_ANTIARRITMICOS\"] == 1),\"CUALQUIER_ANTIARRITMICO\"] = 1"
   ]
  },
  {
   "cell_type": "code",
   "execution_count": null,
   "metadata": {},
   "outputs": [],
   "source": [
    "# crear la variable control frecuencia\n",
    "df[\"CONTROL_FRECUENCIA\"] = 0\n",
    "df.loc[(df[\"BETABLOQUEANTES\"] == 1) | (df[\"SOTALOL\"] == 1) | (df[\"VERAPAMILO\"] == 1) | (df[\"DILTIAZEM\"] == 1) | (df[\"DIGOXINA\"] == 1),\"CONTROL_FRECUENCIA\"] = 1"
   ]
  },
  {
   "cell_type": "code",
   "execution_count": null,
   "metadata": {},
   "outputs": [],
   "source": [
    "# crear la variable cualquier antiagregante\n",
    "df[\"CUALQUIER_ANTIAGREGANTE\"] = 0\n",
    "df.loc[(df[\"ASPIRINA\"] == 1) | (df[\"OTROS_ANTIAGREGANTES\"] == 1),\"CUALQUIER_ANTIAGREGANTE\"] = 1"
   ]
  },
  {
   "cell_type": "code",
   "execution_count": null,
   "metadata": {},
   "outputs": [],
   "source": [
    "# crear la variable doble antiagregacion\n",
    "df[\"DOBLE_ANTIAGREGACION\"] = 0\n",
    "df.loc[(df[\"ASPIRINA\"] == 1) & (df[\"OTROS_ANTIAGREGANTES\"] == 1),\"DOBLE_ANTIAGREGACION\"] = 1"
   ]
  },
  {
   "cell_type": "code",
   "execution_count": null,
   "metadata": {},
   "outputs": [],
   "source": [
    "# crear la variable SAMe-TT2R2 mayor o igual a 3\n",
    "df['SAME-TT2R2_MAS3'] = 0\n",
    "df.loc[df['SAME-TT2R2'] > 2, 'SAME-TT2R2_MAS3'] = 1\n",
    "df['SAME-TT2R2_MAS3'].value_counts()"
   ]
  },
  {
   "cell_type": "code",
   "execution_count": null,
   "metadata": {},
   "outputs": [],
   "source": [
    "# crear la variable n_comedicaciones\n",
    "df[\"N_COMEDICACIONES\"]= 0\n",
    "df.loc[(df[\"CONTROL_FRECUENCIA\"] == 1) | (df[\"CUALQUIER_ANTIARRITMICO\"] == 1) ,\"N_COMEDICACIONES\"] = 1\n",
    "df.loc[(df[\"CONTROL_FRECUENCIA\"] == 1) & (df[\"CUALQUIER_ANTIARRITMICO\"] == 1) ,\"N_COMEDICACIONES\"] = 2"
   ]
  },
  {
   "cell_type": "code",
   "execution_count": null,
   "metadata": {},
   "outputs": [],
   "source": [
    "# crear la variable ictus/embolia\n",
    "df[\"ICTUS/EMBOLIA\"] = 0\n",
    "df.loc[(df[\"ICTUS_PREVIO\"] == 1) | (df[\"EMBOLIA_SISTEMICA_PREVIA\"] == 1),\"ICTUS/EMBOLIA\"] = 1"
   ]
  },
  {
   "cell_type": "code",
   "execution_count": null,
   "metadata": {},
   "outputs": [],
   "source": [
    "# crear la variable enfermedad vascular\n",
    "df[\"ENFERMEDAD_VASCULAR\"] = 0\n",
    "df.loc[(df[\"CARDIOPATIA_ISQUEMICA\"] == 1) | (df[\"ARTERIOPATIA_PERIFERICA\"] == 1),\"ENFERMEDAD_VASCULAR\"] = 1"
   ]
  },
  {
   "cell_type": "code",
   "execution_count": null,
   "metadata": {},
   "outputs": [],
   "source": [
    "# crear la variable disfuncion/dilatacion\n",
    "df[\"DISFUNCION/DILATACION\"] = 0\n",
    "df.loc[(df[\"DISFUNCION_VENTRICULAR_EN_ECO\"] == 1) | (df[\"TAMANO_AURICULA_IZQUIERDA\"] == 1),\"DISFUNCION/DILATACION\"] = 1"
   ]
  },
  {
   "cell_type": "code",
   "execution_count": null,
   "metadata": {},
   "outputs": [],
   "source": [
    "# crear la variable comorbilidades en SAME-TT2R2 mayor o igual a 2\n",
    "df[\"SAME_MAS_DE_2\"] = 0\n",
    "df.loc[(df[\"HTA\"] + df[\"DM\"] + df[\"CARDIOPATIA_ISQUEMICA\"]+ df[\"ARTERIOPATIA_PERIFERICA\"]  + df[\"INSUFICIENCIA_CARDIACA\"] + df[\"ICTUS_PREVIO\"] + (df[\"ALTERACION_HEPATICA\"] | df[\"INSUFICIENCIA_RENAL\"]) + df[\"ENFERMEDAD_PULMONAR\"] )>2,\"SAME_MAS_DE_2\"] = 1"
   ]
  },
  {
   "cell_type": "code",
   "execution_count": null,
   "metadata": {},
   "outputs": [],
   "source": [
    "# crear la variable alteracion\n",
    "df[\"ALTERACION\"] = 0\n",
    "df.loc[(df[\"ALTERACION_HEPATICA\"] == 1) | (df[\"INSUFICIENCIA_RENAL\"] == 1),\"ALTERACION\"] = 1"
   ]
  },
  {
   "cell_type": "code",
   "execution_count": null,
   "metadata": {},
   "outputs": [],
   "source": [
    "# crear la variable bloqueo calcio\n",
    "df[\"BLOQUEO_CALCIO\"]=0\n",
    "df.loc[(df[\"VERAPAMILO\"]==1) | (df[\"DILTIAZEM\"]==1),\"BLOQUEO_CALCIO\"]=1"
   ]
  },
  {
   "cell_type": "code",
   "execution_count": null,
   "metadata": {},
   "outputs": [],
   "source": [
    "# copia\n",
    "df_completo = df.copy()"
   ]
  },
  {
   "cell_type": "code",
   "execution_count": null,
   "metadata": {},
   "outputs": [],
   "source": [
    "# frecuencia de las variables categóricas\n",
    "import matplotlib.pyplot as plt\n",
    "lista = []\n",
    "for i in df_completo.columns:\n",
    "    if df_completo[i].nunique() <= 10:\n",
    "        lista.append(i)\n",
    "for var in lista:\n",
    "    print(df_completo[var].value_counts())\n",
    "    print(\"\")"
   ]
  },
  {
   "attachments": {},
   "cell_type": "markdown",
   "metadata": {},
   "source": [
    "### Identificación de valores anómalos por RIQ y Z-score"
   ]
  },
  {
   "cell_type": "code",
   "execution_count": null,
   "metadata": {},
   "outputs": [],
   "source": [
    "# boxplot de todas las variables numericas con mas de 10 valores distintos\n",
    "lista = []\n",
    "for i in df_completo.columns:\n",
    "    if df_completo[i].nunique() > 10:\n",
    "        lista.append(i)\n",
    "for var in lista:\n",
    "    plt.figure()\n",
    "    df_completo.boxplot(column=var)"
   ]
  },
  {
   "cell_type": "code",
   "execution_count": null,
   "metadata": {},
   "outputs": [],
   "source": [
    "# mirar graficamente outliers de cada columna con IQR\n",
    "lista = []\n",
    "for i in df_completo.columns:\n",
    "    if df_completo[i].nunique() > 10:\n",
    "        lista.append(i)\n",
    "for var in lista:\n",
    "    q1 = df_completo[var].quantile(0.25)\n",
    "    q3 = df_completo[var].quantile(0.75)\n",
    "    iqr = q3 - q1\n",
    "    plt.figure()\n",
    "    df_completo.boxplot(column=var)\n",
    "    plt.plot([0,2],[q1 - 1.5*iqr,q1 - 1.5*iqr],c=\"red\")\n",
    "    plt.plot([0,2],[q3 + 1.5*iqr,q3 + 1.5*iqr],c=\"red\")"
   ]
  },
  {
   "cell_type": "code",
   "execution_count": null,
   "metadata": {},
   "outputs": [],
   "source": [
    "# mirar los valores de las filas con outliers por RIQ\n",
    "lista = []\n",
    "outliers_arriba = []\n",
    "outliers_abajo = []\n",
    "for i in df_completo.columns:\n",
    "    if df_completo[i].nunique() > 10:\n",
    "        lista.append(i)\n",
    "lista.remove(\"TRT_6MESES_SIN_1_MES\")\n",
    "lista.remove(\"N_DETERMINACIONES_PARA_TRT\")\n",
    "for var in lista:\n",
    "    q1 = df_completo[var].quantile(0.25)\n",
    "    q3 = df_completo[var].quantile(0.75)\n",
    "    iqr = q3 - q1\n",
    "    print(var)\n",
    "    try:\n",
    "        print((df_completo.loc[df[var] > q3 + 1.5*iqr,var]).count())\n",
    "        print((df_completo.loc[df[var] < q1 - 1.5*iqr,var]).count())\n",
    "        # meter en lista\n",
    "        outliers_arriba.append((df_completo.loc[df[var] > q3 + 1.5*iqr,var]).count())\n",
    "        outliers_abajo.append((df_completo.loc[df[var] < q1 - 1.5*iqr,var]).count())\n",
    "    except:\n",
    "        pass\n",
    "    print(\"\")"
   ]
  },
  {
   "cell_type": "code",
   "execution_count": null,
   "metadata": {},
   "outputs": [],
   "source": [
    "# histograma del numero de outliers por columna con RIQ\n",
    "plt.figure()\n",
    "plt.bar(lista,outliers_arriba)\n",
    "plt.bar(lista,outliers_abajo)\n",
    "plt.xticks(rotation=90)\n",
    "# titulo\n",
    "plt.title(\"Número de outliers por variable (RIQ)\")\n",
    "# etiquetas de los ejes\n",
    "plt.xlabel(\"Variables\")\n",
    "plt.ylabel(\"Numero de outliers\")\n",
    "# leyenda\n",
    "plt.legend([\"Outliers arriba\",\"Outliers abajo\"])\n",
    "# hacer las xlabel mas pequeñas\n",
    "\n",
    "# mejorar resolucion\n",
    "plt.savefig(\"outliers1.png\",bbox_inches='tight',dpi=500)\n",
    "\n",
    "# mostrar grafico\n",
    "plt.show()\n",
    "    "
   ]
  },
  {
   "cell_type": "code",
   "execution_count": null,
   "metadata": {},
   "outputs": [],
   "source": [
    "# outliers con z-score\n",
    "from scipy import stats\n",
    "import numpy as np\n",
    "lista = []\n",
    "outliers_arriba = []\n",
    "outliers_abajo = []\n",
    "for i in df_completo.columns:\n",
    "    if df_completo[i].nunique() > 10:\n",
    "        lista.append(i)\n",
    "lista.remove(\"TRT_6MESES_SIN_1_MES\")\n",
    "lista.remove(\"N_DETERMINACIONES_PARA_TRT\")\n",
    "for var in lista:\n",
    "    z = stats.zscore(df_completo[var])\n",
    "    print(var)\n",
    "    try:\n",
    "        print((df_completo.loc[z > 3,var]).count())\n",
    "        print((df_completo.loc[z < -3,var]).count())\n",
    "        # meter en lista\n",
    "        outliers_arriba.append((df_completo.loc[z > 3,var]).count())\n",
    "        outliers_abajo.append((df_completo.loc[z < -3,var]).count())\n",
    "    except:\n",
    "        pass\n",
    "    print(\"\")"
   ]
  },
  {
   "cell_type": "code",
   "execution_count": null,
   "metadata": {},
   "outputs": [],
   "source": [
    "# histograma del numero de outliers por columna\n",
    "plt.figure()\n",
    "plt.bar(lista,outliers_arriba)\n",
    "plt.bar(lista,outliers_abajo)\n",
    "plt.xticks(rotation=45)\n",
    "# titulo\n",
    "plt.title(\"Número de outliers por variable (Z-score)\")\n",
    "# etiquetas de los ejes\n",
    "plt.xlabel(\"Variables\")\n",
    "plt.ylabel(\"Numero de outliers\")\n",
    "# leyenda\n",
    "plt.legend([\"Outliers arriba\",\"Outliers abajo\"])\n",
    "# hacer las xlabel mas pequeñas\n",
    "\n",
    "# mejorar resolucion\n",
    "plt.savefig(\"outliers2.png\",bbox_inches='tight',dpi=500)\n",
    "# mostrar grafico\n",
    "plt.show()"
   ]
  },
  {
   "cell_type": "code",
   "execution_count": null,
   "metadata": {},
   "outputs": [],
   "source": [
    "# mirar que la suma de neutrofilos, linfocitos y monocitos es igual a la suma de los leucocitos (o -1)\n",
    "df_completo[\"SUMA_LEUCOCITOS\"] = df_completo[\"NEUTROFILOS\"] + df_completo[\"LINFOCITOS\"] + df_completo[\"MONOCITOS\"]\n",
    "df_completo[\"DIFERENCIA_LEUCOCITOS\"] = df_completo[\"SUMA_LEUCOCITOS\"] - df_completo[\"LEUCOCITOS\"]\n",
    "\n",
    "# valores absolutos de la columna \"DIFERENCIA_LEUCOCITOS\" que sean mayores que 1\n",
    "df_completo.loc[abs(df_completo[\"DIFERENCIA_LEUCOCITOS\"]) > 1,\"DIFERENCIA_LEUCOCITOS\"]"
   ]
  },
  {
   "cell_type": "code",
   "execution_count": null,
   "metadata": {},
   "outputs": [],
   "source": [
    "# eliminar las coolumnas que no aportan informacion\n",
    "df_completo.drop([\"SUMA_LEUCOCITOS\",\"DIFERENCIA_LEUCOCITOS\"],inplace=True,axis=1)"
   ]
  },
  {
   "cell_type": "code",
   "execution_count": null,
   "metadata": {},
   "outputs": [],
   "source": [
    "# a csv\n",
    "df_completo.to_csv(\"df_completo.csv\",index=False)"
   ]
  },
  {
   "cell_type": "code",
   "execution_count": null,
   "metadata": {},
   "outputs": [],
   "source": [
    "#copia\n",
    "df_sin_anomalos = df_completo.copy()"
   ]
  },
  {
   "attachments": {},
   "cell_type": "markdown",
   "metadata": {},
   "source": [
    "### Distribución de las variables numéricas"
   ]
  },
  {
   "cell_type": "code",
   "execution_count": null,
   "metadata": {},
   "outputs": [],
   "source": [
    "# grafica de distribucion de todas las variables numericas\n",
    "lista = []\n",
    "for i in df_sin_anomalos.columns:\n",
    "    if df_sin_anomalos[i].nunique() > 10:\n",
    "        lista.append(i)\n",
    "for var in lista:\n",
    "    plt.figure()\n",
    "    df_sin_anomalos[var].hist()\n",
    "    plt.title(var)\n"
   ]
  },
  {
   "cell_type": "code",
   "execution_count": null,
   "metadata": {},
   "outputs": [],
   "source": [
    "# exportar el dataframe a un csv\n",
    "df_sin_anomalos.to_csv('df_sin_anomalos.csv', index=False)"
   ]
  },
  {
   "cell_type": "code",
   "execution_count": null,
   "metadata": {},
   "outputs": [],
   "source": [
    "# rangos\n",
    "import numpy as np\n",
    "\n",
    "q1 = df_sin_anomalos.quantile(0.25)\n",
    "q3 = df_sin_anomalos.quantile(0.75)\n",
    "iqr = q3 - q1\n",
    "\n",
    "lower_limit = q1 - 1.5 * iqr\n",
    "upper_limit = q3 + 1.5 * iqr"
   ]
  },
  {
   "cell_type": "code",
   "execution_count": null,
   "metadata": {},
   "outputs": [],
   "source": [
    "lower_limit[lista], upper_limit[lista]"
   ]
  },
  {
   "cell_type": "code",
   "execution_count": null,
   "metadata": {},
   "outputs": [],
   "source": [
    "valor_z1 = 3\n",
    "valor_z2 = -3\n",
    "\n",
    "for columna in df_sin_anomalos[lista].columns:\n",
    "    media = df_sin_anomalos[columna].mean()\n",
    "    desviacion_estandar = df_sin_anomalos[columna].std()\n",
    "    valor_original1 = (valor_z1 * desviacion_estandar) + media\n",
    "    valor_original2 = (valor_z2 * desviacion_estandar) + media\n",
    "    print(\"Valor original para z-score de 3 en la columna\", columna, \":\", valor_original1)\n",
    "    print(\"Valor original para z-score de -3 en la columna\", columna, \":\", valor_original2)"
   ]
  },
  {
   "cell_type": "code",
   "execution_count": null,
   "metadata": {},
   "outputs": [],
   "source": [
    "# skewness\n",
    "lista = []\n",
    "for i in df_sin_anomalos.columns:\n",
    "    if df_sin_anomalos[i].nunique() > 10:\n",
    "        lista.append(i)\n",
    "for var in lista:\n",
    "    print(var)\n",
    "    print(df_sin_anomalos[var].skew())\n",
    "    print(\"\")"
   ]
  },
  {
   "cell_type": "code",
   "execution_count": null,
   "metadata": {},
   "outputs": [],
   "source": [
    "# cambiar el skewness de las variables con skewness positivo y negativo\n",
    "import numpy as np\n",
    "lista = []\n",
    "transformadas = []\n",
    "for i in df_sin_anomalos.columns:\n",
    "    if df_sin_anomalos[i].nunique() > 10:\n",
    "        lista.append(i)\n",
    "for var in lista:\n",
    "    if df_sin_anomalos[var].skew() > 1:\n",
    "        df_sin_anomalos[var] = np.log(df_sin_anomalos[var])\n",
    "        transformadas.append(var)\n",
    "    elif df_sin_anomalos[var].skew() < -1:\n",
    "        df_sin_anomalos[var] = np.sqrt(df_sin_anomalos[var])\n",
    "        transformadas.append(var)"
   ]
  },
  {
   "cell_type": "code",
   "execution_count": null,
   "metadata": {},
   "outputs": [],
   "source": [
    "fig, axes = plt.subplots(nrows=3, ncols=3, figsize=(15, 10))\n",
    "\n",
    "# Iterar sobre cada variable y trazar su distribución en un subgráfico\n",
    "for i, column in enumerate(transformadas):\n",
    "    ax = axes[i // 3, i % 3]  # Obtener el subgráfico correspondiente\n",
    "    sns.histplot(data=df_sin_anomalos[transformadas], x=column, kde=True, ax=ax)  # Trazar el gráfico de distribución\n",
    "    ax.set_title(column)  # Establecer el título del subgráfico\n",
    "    # quitar el xlabel\n",
    "    ax.set_xlabel(\"\")\n",
    "\n",
    "# Ajustar el espaciado entre los subgráficos\n",
    "plt.tight_layout()\n",
    "\n",
    "# quitar los dos ultimos subplots que no se usan\n",
    "fig.delaxes(axes[2,1])\n",
    "fig.delaxes(axes[2,2])\n",
    "\n",
    "# Mostrar la figura\n",
    "plt.show()"
   ]
  },
  {
   "cell_type": "code",
   "execution_count": null,
   "metadata": {},
   "outputs": [],
   "source": [
    "lista = []\n",
    "for i in df_sin_anomalos.columns:\n",
    "    if df_sin_anomalos[i].nunique() > 10:\n",
    "        lista.append(i)\n",
    "for var in lista:\n",
    "    print(var)\n",
    "    print(df_sin_anomalos[var].skew())\n",
    "    print(\"\")"
   ]
  },
  {
   "attachments": {},
   "cell_type": "markdown",
   "metadata": {},
   "source": [
    "### Tratamiento de valores anómalos"
   ]
  },
  {
   "cell_type": "code",
   "execution_count": null,
   "metadata": {},
   "outputs": [],
   "source": [
    "from scipy import stats\n",
    "import numpy as np\n",
    "lista = []\n",
    "for i in df_sin_anomalos.columns:\n",
    "    if df_sin_anomalos[i].nunique() > 10:\n",
    "        lista.append(i)\n",
    "for var in lista:\n",
    "    z = np.abs(stats.zscore(df_sin_anomalos[var]))\n",
    "    print(var)\n",
    "    print(df_sin_anomalos.loc[z > 3,var])\n",
    "    print(\"\")   "
   ]
  },
  {
   "cell_type": "code",
   "execution_count": null,
   "metadata": {},
   "outputs": [],
   "source": [
    "# sacar los limites de los outliers con z-score y IQR para cada columna\n",
    "lista = []\n",
    "for i in df_sin_anomalos.columns:\n",
    "    if df_sin_anomalos[i].nunique() > 10:\n",
    "        lista.append(i)\n",
    "for var in lista:\n",
    "    q1 = df_sin_anomalos[var].quantile(0.25)\n",
    "    q3 = df_sin_anomalos[var].quantile(0.75)\n",
    "    iqr = q3 - q1\n",
    "    print(var)\n",
    "    print(q1 - 1.5*iqr)\n",
    "    print(q3 + 1.5*iqr)\n",
    "    print(\"\")\n",
    "\n",
    "    "
   ]
  },
  {
   "cell_type": "code",
   "execution_count": null,
   "metadata": {},
   "outputs": [],
   "source": [
    "# valores considerados anomalos por el z-score\n",
    "z = np.abs(stats.zscore(df_sin_anomalos[\"ADE\"]))\n",
    "valores_anomalos = df_sin_anomalos.loc[z > 3,var]\n",
    "\n",
    "# cambiar estos valores por el valor mas alto de los no anomalos\n",
    "df_sin_anomalos.loc[z > 3,\"ADE\"] = df_sin_anomalos.loc[z <= 3,\"ADE\"].max()\n",
    "print(df_sin_anomalos.loc[z <= 3,\"ADE\"].max())\n",
    "\n",
    "# IMC mayor que 50 a 50\n",
    "print(df_sin_anomalos.loc[df_sin_anomalos[\"IMC\"] > 50,\"IMC\"].count())\n",
    "df_sin_anomalos.loc[df_sin_anomalos[\"IMC\"] > 50,\"IMC\"] = 50"
   ]
  },
  {
   "cell_type": "code",
   "execution_count": null,
   "metadata": {},
   "outputs": [],
   "source": [
    "z = stats.zscore(df_sin_anomalos[\"ADE\"])\n",
    "df_sin_anomalos.loc[z <= 3,\"ADE\"].max()"
   ]
  },
  {
   "cell_type": "code",
   "execution_count": null,
   "metadata": {},
   "outputs": [],
   "source": [
    "# skewness de ADE\n",
    "df_sin_anomalos.loc[z > -3,\"ADE\"].min()"
   ]
  },
  {
   "cell_type": "code",
   "execution_count": null,
   "metadata": {},
   "outputs": [],
   "source": [
    "df_sin_anomalos[\"IMC\"].skew()"
   ]
  },
  {
   "attachments": {},
   "cell_type": "markdown",
   "metadata": {},
   "source": [
    "### Boxplot variables categóricas"
   ]
  },
  {
   "cell_type": "code",
   "execution_count": null,
   "metadata": {},
   "outputs": [],
   "source": [
    "# boxplot con sns de las variables categoricas con TRT_6MESES_SIN_1_MES\n",
    "import seaborn as sns\n",
    "lista2 = []\n",
    "for i in df_sin_anomalos.columns:\n",
    "    if df_sin_anomalos[i].nunique() <= 10:\n",
    "        lista2.append(i)\n",
    "for var in lista2:\n",
    "    plt.figure()\n",
    "    sns.boxplot(x=var,y=\"TRT_6MESES_SIN_1_MES\",data=df_sin_anomalos)"
   ]
  },
  {
   "attachments": {},
   "cell_type": "markdown",
   "metadata": {},
   "source": [
    "### Pruebas de significancia variables categóricas"
   ]
  },
  {
   "cell_type": "code",
   "execution_count": null,
   "metadata": {},
   "outputs": [],
   "source": [
    "# test de normalidad y homogeneidad para TRT_6MESES_SIN_1_MES\n",
    "from scipy.stats import shapiro\n",
    "from scipy.stats import levene\n",
    "for i in df_sin_anomalos.columns:\n",
    "    if df_sin_anomalos[i].nunique() == 2 and (df_sin_anomalos[i]==0).sum() > 3 and (df_sin_anomalos[i]==1).sum() > 3:\n",
    "        print(i)\n",
    "        print(shapiro(df_sin_anomalos[df_sin_anomalos[i]==0]['TRT_6MESES_SIN_1_MES']))\n",
    "        print(shapiro(df_sin_anomalos[df_sin_anomalos[i]==1]['TRT_6MESES_SIN_1_MES']))\n",
    "        print(levene(df_sin_anomalos.loc[df_sin_anomalos[i]==0,\"TRT_6MESES_SIN_1_MES\"],df_sin_anomalos.loc[df_sin_anomalos[i]==1,\"TRT_6MESES_SIN_1_MES\"]))\n",
    "        print(\"\")\n",
    "    elif df_sin_anomalos[i].nunique() == 2:\n",
    "        print(i)\n",
    "        print(shapiro(df_sin_anomalos[i]))\n",
    "        print(levene(df_sin_anomalos.loc[df_sin_anomalos[i]==0,\"TRT_6MESES_SIN_1_MES\"],df_sin_anomalos.loc[df_sin_anomalos[i]==1,\"TRT_6MESES_SIN_1_MES\"]))\n",
    "        print(\"\")"
   ]
  },
  {
   "cell_type": "code",
   "execution_count": null,
   "metadata": {},
   "outputs": [],
   "source": [
    "# test de mann whitney para TRT_6MESES_SIN_1_MES\n",
    "from scipy.stats import mannwhitneyu\n",
    "for i in df_sin_anomalos.columns:\n",
    "    if df_sin_anomalos[i].nunique() == 2:\n",
    "        print(i)\n",
    "        print(mannwhitneyu(df_sin_anomalos.loc[df_sin_anomalos[i]==0,\"TRT_6MESES_SIN_1_MES\"],df_sin_anomalos.loc[df_sin_anomalos[i]==1,\"TRT_6MESES_SIN_1_MES\"]))\n",
    "        print(\"\")"
   ]
  },
  {
   "cell_type": "code",
   "execution_count": null,
   "metadata": {},
   "outputs": [],
   "source": [
    "# test de normalidad y homogeneidad para TRT_6MESES_SIN_1_MES\n",
    "from scipy.stats import shapiro\n",
    "from scipy.stats import levene\n",
    "for i in df_sin_anomalos.columns:\n",
    "    if df_sin_anomalos[i].nunique() > 2 and df_sin_anomalos[i].nunique() <= 10:\n",
    "        print(i)\n",
    "        # normalidad de la variable\n",
    "        print(shapiro(df_sin_anomalos[i]))\n",
    "        # homogeneidad de la variable para todas las categorias\n",
    "        print(levene(df_sin_anomalos.loc[df_sin_anomalos[i]==0,\"TRT_6MESES_SIN_1_MES\"],df_sin_anomalos.loc[df_sin_anomalos[i]==1,\"TRT_6MESES_SIN_1_MES\"],df_sin_anomalos.loc[df_sin_anomalos[i]==2,\"TRT_6MESES_SIN_1_MES\"],df_sin_anomalos.loc[df_sin_anomalos[i]==3,\"TRT_6MESES_SIN_1_MES\"],df_sin_anomalos.loc[df_sin_anomalos[i]==4,\"TRT_6MESES_SIN_1_MES\"],df_sin_anomalos.loc[df_sin_anomalos[i]==5,\"TRT_6MESES_SIN_1_MES\"],df_sin_anomalos.loc[df_sin_anomalos[i]==6,\"TRT_6MESES_SIN_1_MES\"],df_sin_anomalos.loc[df_sin_anomalos[i]==7,\"TRT_6MESES_SIN_1_MES\"],df_sin_anomalos.loc[df_sin_anomalos[i]==8,\"TRT_6MESES_SIN_1_MES\"],df_sin_anomalos.loc[df_sin_anomalos[i]==9,\"TRT_6MESES_SIN_1_MES\"]))\n",
    "        print(\"\")"
   ]
  },
  {
   "cell_type": "code",
   "execution_count": null,
   "metadata": {},
   "outputs": [],
   "source": [
    "# test de kruskal wallis para TRT_6MESES_SIN_1_MES para variables categoricas con mas de dos valores unicos\n",
    "from scipy.stats import kruskal\n",
    "for i in df_sin_anomalos.columns:\n",
    "    if df_sin_anomalos[i].nunique() > 2 and df_sin_anomalos[i].nunique() <= 10:\n",
    "        print(i)\n",
    "        print(kruskal(*[group[\"TRT_6MESES_SIN_1_MES\"].values for name, group in df_sin_anomalos.groupby(i)]))\n",
    "        print(\"\")"
   ]
  },
  {
   "attachments": {},
   "cell_type": "markdown",
   "metadata": {},
   "source": [
    "### Estandarización"
   ]
  },
  {
   "cell_type": "code",
   "execution_count": null,
   "metadata": {},
   "outputs": [],
   "source": [
    "# estandardizar las variables numericas \n",
    "from sklearn.preprocessing import MinMaxScaler\n",
    "scaler = MinMaxScaler()\n",
    "\n",
    "for col in df_sin_anomalos.columns:\n",
    "    if len(df_sin_anomalos[col].unique()) > 10:\n",
    "        if col != 'TRT_6MESES_SIN_1_MES':\n",
    "            df_sin_anomalos[col] = scaler.fit_transform(df_sin_anomalos[col].values.reshape(-1,1))\n"
   ]
  },
  {
   "cell_type": "code",
   "execution_count": null,
   "metadata": {},
   "outputs": [],
   "source": [
    "# cargar df_val \n",
    "df_val = pd.read_csv(\"df_val.csv\")\n",
    "\n",
    "# aplicar el scaler a df_val\n",
    "for col in df_val.columns:\n",
    "    if len(df_val[col].unique()) > 10:\n",
    "        if col != 'TRT':\n",
    "            df_val[col] = scaler.transform(df_val[col].values.reshape(-1,1))\n",
    "\n",
    "# exportar df_val a csv\n",
    "df_val.to_csv(\"df_val_final.csv\",index=False)"
   ]
  },
  {
   "cell_type": "code",
   "execution_count": null,
   "metadata": {},
   "outputs": [],
   "source": [
    "# quitar las columnas que no se usan\n",
    "df_sin_anomalos.drop([\"N_DETERMINACIONES_PARA_TRT\",\"CHA2DS2-VASC\"], axis=1, inplace=True)"
   ]
  },
  {
   "cell_type": "code",
   "execution_count": null,
   "metadata": {},
   "outputs": [],
   "source": [
    "# renombrar la columna TRT_6MESES_SIN_1_MES a TRT\n",
    "df_sin_anomalos.rename(columns={\"TRT_6MESES_SIN_1_MES\":\"TRT\"},inplace=True)"
   ]
  },
  {
   "cell_type": "code",
   "execution_count": null,
   "metadata": {},
   "outputs": [],
   "source": [
    "variables_numericas = [\"TRT\",\"IMC\",\"N_PASTILLAS_D_INICIO\",\"ADE\",\"LEUCOCITOS\",\"NEUTROFILOS\",\"LINFOCITOS\",\"MONOCITOS\",\"HEMOGLOBINA\",\"PLAQUETAS\",\"EDAD\",\"RATIO_NEUTROFILO/LINFOCITO\"]"
   ]
  },
  {
   "cell_type": "code",
   "execution_count": null,
   "metadata": {},
   "outputs": [],
   "source": [
    "df_sin_anomalos[variables_numericas]"
   ]
  },
  {
   "attachments": {},
   "cell_type": "markdown",
   "metadata": {},
   "source": [
    "### Correlación de Pearson y Spearman"
   ]
  },
  {
   "cell_type": "code",
   "execution_count": null,
   "metadata": {},
   "outputs": [],
   "source": [
    "# correlacion de pearson y spearman heatmap\n",
    "import seaborn as sns\n",
    "import matplotlib.pyplot as plt\n",
    "plt.figure(figsize=(10,10))\n",
    "a = sns.heatmap(df_sin_anomalos[variables_numericas].corr(method='spearman'), annot=True)\n",
    "plt.title('Correlación de Spearman')\n",
    "# variable TRT de color rojo\n",
    "a.get_yticklabels()[0].set_color(\"red\")\n",
    "a.get_xticklabels()[0].set_color(\"red\")\n",
    "# linea separadora de la variable TRT mas gorda\n",
    "a.axhline(y=1, color='w', linestyle='-')\n",
    "# mas gorda\n",
    "a.axvline(x=1, color='w', linestyle='-')\n",
    "# cambiar los label de los ejes\n",
    "plt.show()\n",
    "\n",
    "# correlacion de pearson y spearman heatmap\n",
    "import seaborn as sns\n",
    "import matplotlib.pyplot as plt\n",
    "plt.figure(figsize=(10,10))\n",
    "b = sns.heatmap(df_sin_anomalos[variables_numericas].corr(method='pearson'), annot=True)\n",
    "plt.title('Correlación de Pearson')\n",
    "b.get_yticklabels()[0].set_color(\"red\")\n",
    "b.get_xticklabels()[0].set_color(\"red\")\n",
    "# linea separadora de la variable TRT mas gorda\n",
    "b.axhline(y=1, color='w', linestyle='-')\n",
    "# mas gorda\n",
    "b.axvline(x=1, color='w', linestyle='-')\n",
    "plt.show()\n"
   ]
  },
  {
   "cell_type": "code",
   "execution_count": null,
   "metadata": {},
   "outputs": [],
   "source": [
    "# sacar el p-value de la correlacion de pearson para cada variable\n",
    "# importar la libreria\n",
    "from scipy.stats import pearsonr, spearmanr\n",
    "print(\"PEARSON\")\n",
    "for col in variables_numericas:\n",
    "    print(col, pearsonr(df_sin_anomalos[col], df_sin_anomalos['TRT'])[1])\n",
    "    print()\n",
    "print()\n",
    "# sacar el p-value de la correlacion de spearman para cada variable\n",
    "print(\"SPEARMAN\")\n",
    "for col in variables_numericas:\n",
    "    print(col, spearmanr(df_sin_anomalos[col], df_sin_anomalos['TRT'])[1])\n",
    "    print()"
   ]
  },
  {
   "cell_type": "code",
   "execution_count": null,
   "metadata": {},
   "outputs": [],
   "source": [
    "# graficar los p-valores de la correlacion de spearman y pearson\n",
    "# importar la libreria\n",
    "import matplotlib.pyplot as plt\n",
    "# crear una lista con los p-valores de la correlacion de spearman\n",
    "spearman_pval = []\n",
    "for col in variables_numericas:\n",
    "    spearman_pval.append(spearmanr(df_sin_anomalos[col], df_sin_anomalos['TRT'])[1])\n",
    "# crear una lista con los p-valores de la correlacion de pearson\n",
    "pearson_pval = []\n",
    "for col in variables_numericas:\n",
    "    pearson_pval.append(pearsonr(df_sin_anomalos[col], df_sin_anomalos['TRT'])[1])\n",
    "# crear una lista con los nombres de las variables\n",
    "variables = []\n",
    "for col in variables_numericas:\n",
    "    variables.append(col)\n",
    "\n",
    "# crear un dataframe con los p-valores de la correlacion de spearman y pearson\n",
    "df_pval = pd.DataFrame({\"Variable\":variables,\"Spearman\":spearman_pval,\"Pearson\":pearson_pval})"
   ]
  },
  {
   "cell_type": "code",
   "execution_count": null,
   "metadata": {},
   "outputs": [],
   "source": [
    "df_pval"
   ]
  },
  {
   "cell_type": "code",
   "execution_count": null,
   "metadata": {},
   "outputs": [],
   "source": [
    "variables.remove(\"TRT\")\n",
    "variables.remove(\"LEUCOCITOS\")\n",
    "variables.remove(\"RATIO_NEUTROFILO/LINFOCITO\")"
   ]
  },
  {
   "cell_type": "code",
   "execution_count": null,
   "metadata": {},
   "outputs": [],
   "source": [
    "# Configuración de la figura\n",
    "fig, ax = plt.subplots()\n",
    "index = range(len(variables))\n",
    "bar_width = 0.35\n",
    "\n",
    "# Gráfico de barras para Spearman\n",
    "rects1 = ax.bar(index, spearman_pval, bar_width, color='b', label='Spearman')\n",
    "\n",
    "# Gráfico de barras para Pearson\n",
    "rects2 = ax.bar([i + bar_width for i in index], pearson_pval, bar_width,color = \"C1\", label='Pearson')\n",
    "\n",
    "# Configuración de ejes y etiquetas\n",
    "ax.set_xlabel('Variables')\n",
    "ax.set_ylabel('Valor p')\n",
    "ax.set_title('Comparación de valores p: Spearman vs Pearson')\n",
    "ax.set_xticks([i + bar_width/2 for i in index])\n",
    "ax.set_xticklabels(variables)\n",
    "ax.legend()\n",
    "\n",
    "# x labels en vertical\n",
    "plt.xticks(rotation=90)\n",
    "# mas pequeñas\n",
    "plt.tick_params(axis='x', labelsize=8)\n",
    "\n",
    "# linea horizontal en 0.15\n",
    "plt.axhline(y=0.2, color='r', linestyle='--')\n",
    "\n",
    "# Mostrar la figura\n",
    "plt.tight_layout()\n",
    "plt.show()"
   ]
  },
  {
   "cell_type": "code",
   "execution_count": null,
   "metadata": {},
   "outputs": [],
   "source": [
    "# renombrar NEOPLASIA_0 a NEOPLASIA_NO\n",
    "df_sin_anomalos.rename(columns={\"NEOPLASIA_0\":\"NEOPLASIA_NO\"},inplace=True)\n",
    "df_sin_anomalos.rename(columns={\"NEOPLASIA_1\":\"NEOPLASIA_ANTECEDENTES\"},inplace=True)"
   ]
  },
  {
   "cell_type": "code",
   "execution_count": null,
   "metadata": {},
   "outputs": [],
   "source": [
    "df_pca = df_sin_anomalos.copy()"
   ]
  },
  {
   "cell_type": "code",
   "execution_count": null,
   "metadata": {},
   "outputs": [],
   "source": [
    "df_total = df_sin_anomalos.copy()"
   ]
  },
  {
   "cell_type": "code",
   "execution_count": null,
   "metadata": {},
   "outputs": [],
   "source": [
    "df_total.drop([\"VERAPAMILO\",\"ALTERACION_HEPATICA\",\"SANGRADO_PREVIO\",\"DILTIAZEM\",\"DEMENCIA\",\"TROMBOCITOPENIA\",\"DIGOXINA\",\"ALCOHOL\",\n",
    "                      \"NEOPLASIA_2\",\"SOTALOL\",\"EMBOLIA_SISTEMICA_PREVIA\",\"DOBLE_ANTIAGREGACION\",\n",
    "                      \"RATIO_NEUTROFILO/LINFOCITO\",\"LEUCOCITOS\",\"NEOPLASIA_ANTECEDENTES\",\"CONTROL_FRECUENCIA\",\n",
    "                      \"CUALQUIER_ANTIAGREGANTE\",\"BLOQUEO_CALCIO\",\"CUALQUIER_ANTIARRITMICO\",\"ALTERACION\",\"SAME-TT2R2\",\n",
    "                      \"FUMA\",\"CARDIOPATIA_ISQUEMICA\",\"TAMANO_AURICULA_IZQUIERDA\",\"ICTUS_PREVIO\",\"N_COMEDICACIONES\",\"EDAD_60\"], axis=1, inplace=True)"
   ]
  },
  {
   "cell_type": "code",
   "execution_count": null,
   "metadata": {},
   "outputs": [],
   "source": [
    "df_final = df_total.copy()"
   ]
  },
  {
   "cell_type": "code",
   "execution_count": null,
   "metadata": {},
   "outputs": [],
   "source": [
    "# exportar el dataframe final\n",
    "df_final.to_csv('df_final.csv', index=False)"
   ]
  },
  {
   "attachments": {},
   "cell_type": "markdown",
   "metadata": {},
   "source": [
    "### PCA"
   ]
  },
  {
   "cell_type": "code",
   "execution_count": null,
   "metadata": {},
   "outputs": [],
   "source": [
    "variables_numericas = []\n",
    "for i in df_pca.columns:\n",
    "    if len(df_pca[i].unique()) > 10:\n",
    "        if i != 'TRT':\n",
    "            variables_numericas.append(i)"
   ]
  },
  {
   "cell_type": "code",
   "execution_count": null,
   "metadata": {},
   "outputs": [],
   "source": [
    "\n",
    "\n",
    "# Supongamos que tienes una matriz de características llamada 'features' y un arreglo de la variable objetivo 'TRT'\n",
    "\n",
    "# Crear una instancia de PCA\n",
    "pca = PCA(n_components=2)  # Definir el número de componentes principales deseados\n",
    "\n",
    "features=df_pca[variables_numericas]\n",
    "\n",
    "# Realizar el PCA en las características\n",
    "pca_features = pca.fit_transform(features)\n",
    "\n",
    "# Crear un DataFrame con los datos de PCA y TRT\n",
    "data = pd.DataFrame(data=pca_features, columns=['Componente 1', 'Componente 2'])\n",
    "\n",
    "data['TRT'] = 0\n",
    "data.loc[df_final['TRT']>60,'TRT'] = 1\n",
    "\n",
    "# Configurar el estilo del gráfico\n",
    "sns.set(style=\"ticks\")\n",
    "\n",
    "# Crear el scatter plot\n",
    "sns.scatterplot(data=data, x='Componente 1', y='Componente 2', hue='TRT', palette='Set1')\n",
    "\n",
    "# Agregar etiquetas y título\n",
    "plt.xlabel('Componente 1')\n",
    "plt.ylabel('Componente 2')\n",
    "plt.title('Scatter plot del PCA separado por TRT')\n",
    "\n",
    "# Mostrar el gráfico\n",
    "plt.show()"
   ]
  },
  {
   "cell_type": "code",
   "execution_count": null,
   "metadata": {},
   "outputs": [],
   "source": [
    "# varianza explicada\n",
    "pca.explained_variance_ratio_"
   ]
  },
  {
   "cell_type": "code",
   "execution_count": null,
   "metadata": {},
   "outputs": [],
   "source": [
    "variables_numericas "
   ]
  },
  {
   "cell_type": "code",
   "execution_count": null,
   "metadata": {},
   "outputs": [],
   "source": [
    "import numpy as np\n",
    "import matplotlib.pyplot as plt\n",
    "import seaborn as sns\n",
    "from sklearn.decomposition import PCA\n",
    "\n",
    "pca = PCA(n_components=9)  # Definir el número de componentes principales deseados\n",
    "\n",
    "features=df_pca[variables_numericas]\n",
    "\n",
    "# Realizar el PCA en las características\n",
    "pca_features = pca.fit_transform(features)"
   ]
  },
  {
   "cell_type": "code",
   "execution_count": null,
   "metadata": {},
   "outputs": [],
   "source": [
    "# bar plot de la varianza explicada (acumulado)\n",
    "plt.figure()\n",
    "plt.bar(range(1,10),pca.explained_variance_ratio_.cumsum())\n",
    "plt.xlabel(\"Componentes\")\n",
    "plt.ylabel(\"Varianza explicada\")\n",
    "plt.title(\"Varianza explicada acumulada\")\n",
    "plt.show()"
   ]
  },
  {
   "cell_type": "code",
   "execution_count": null,
   "metadata": {},
   "outputs": [],
   "source": [
    "PC1 = pca_features[:,0]\n",
    "PC2 = pca_features[:,1]\n",
    "ldngs = pca.components_"
   ]
  },
  {
   "cell_type": "code",
   "execution_count": null,
   "metadata": {},
   "outputs": [],
   "source": [
    "scalePC1 = 1.0/(PC1.max() - PC1.min())\n",
    "scalePC2 = 1.0/(PC2.max() - PC2.min())"
   ]
  },
  {
   "cell_type": "code",
   "execution_count": null,
   "metadata": {},
   "outputs": [],
   "source": [
    "data = pd.DataFrame(data=pca_features, columns=['Componente 1', 'Componente 2','Componente 3','Componente 4','Componente 5','Componente 6','Componente 7','Componente 8','Componente 9'])"
   ]
  },
  {
   "cell_type": "code",
   "execution_count": null,
   "metadata": {},
   "outputs": [],
   "source": [
    "data['TRT'] = 0\n",
    "data.loc[df_final['TRT']>=60,'TRT'] = 1"
   ]
  },
  {
   "cell_type": "code",
   "execution_count": null,
   "metadata": {},
   "outputs": [],
   "source": [
    "fig, ax = plt.subplots(figsize=(14, 9))\n",
    " \n",
    "for i, feature in enumerate(features):\n",
    "    ax.arrow(0, 0, ldngs[0, i], \n",
    "             ldngs[1, i], \n",
    "             head_width=0.03, \n",
    "             head_length=0.03,\n",
    "             color=\"purple\")\n",
    "    ax.text(ldngs[0, i] * 1.15, \n",
    "            ldngs[1, i] * 1.15, \n",
    "            feature, fontsize = 10,\n",
    "            color=\"black\")\n",
    " \n",
    "scatter = ax.scatter(PC1 * scalePC1, \n",
    "                     PC2 * scalePC2, \n",
    "                     c=data['TRT'], \n",
    "                     cmap='viridis')\n",
    "\n",
    "# cambiar color de los puntos a azul claro y oscuro\n",
    "scatter.set_facecolor('none')\n",
    "\n",
    "# set edge color a azul claro y oscuro\n",
    "scatter.set_edgecolor(['lightblue' if x == 0 else 'orange' for x in data['TRT']])\n",
    " \n",
    "ax.set_xlabel('PC1', fontsize=20)\n",
    "ax.set_ylabel('PC2', fontsize=20)\n",
    "\n",
    "# leyenda de los puntos (0 lightblue, 1 orange)\n",
    "legend_elements = [plt.Line2D([0], [0], marker='o', color='w', markeredgecolor=color, markersize=10) for color in ['lightblue', 'orange']]\n",
    "labels = ['< 60%', '>= 60%']\n",
    "legend1 = ax.legend(legend_elements, labels, loc=\"upper right\", title=\"TRT\")\n",
    "\n",
    "ax.add_artist(legend1)"
   ]
  }
 ],
 "metadata": {
  "kernelspec": {
   "display_name": "Python 3",
   "language": "python",
   "name": "python3"
  },
  "language_info": {
   "codemirror_mode": {
    "name": "ipython",
    "version": 3
   },
   "file_extension": ".py",
   "mimetype": "text/x-python",
   "name": "python",
   "nbconvert_exporter": "python",
   "pygments_lexer": "ipython3",
   "version": "3.9.4"
  },
  "orig_nbformat": 4
 },
 "nbformat": 4,
 "nbformat_minor": 2
}
