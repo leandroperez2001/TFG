{
 "cells": [
  {
   "cell_type": "code",
   "execution_count": null,
   "metadata": {},
   "outputs": [],
   "source": [
    "import pandas as pd\n",
    "df = pd.read_csv(\"ConjuntoValidacion.csv\")\n",
    "df"
   ]
  },
  {
   "attachments": {},
   "cell_type": "markdown",
   "metadata": {},
   "source": [
    "### Pretratamiento"
   ]
  },
  {
   "cell_type": "code",
   "execution_count": null,
   "metadata": {},
   "outputs": [],
   "source": [
    "df.columns = df.columns.str.replace(\"á\",\"a\")\n",
    "df.columns = df.columns.str.replace(\"é\",\"e\")\n",
    "df.columns = df.columns.str.replace(\"í\",\"i\")\n",
    "df.columns = df.columns.str.replace(\"ó\",\"o\")\n",
    "df.columns = df.columns.str.replace(\"ú\",\"u\")\n",
    "df.columns = df.columns.str.replace(\"ñ\",\"n\")\n",
    "df.columns = df.columns.str.replace(\"(\",\"\")\n",
    "df.columns = df.columns.str.replace(\")\",\"\")\n",
    "df.columns = df.columns.str.replace('/ mL',\"\")\n",
    "df.columns = df.columns.str.replace(\"/mL\",\"\")\n",
    "df.columns = df.columns.str.replace(\"g/dL\",\"\")\n",
    "df.columns = df.columns.str.replace(\" %\",\"\")\n",
    "df.columns = df.columns.str.upper()\n",
    "df.columns = df.columns.str.strip()\n",
    "df.columns = df.columns.str.replace(\"º \",\"_\")\n",
    "df.columns = df.columns.str.replace(\"º\",\"_\")\n",
    "df.columns = df.columns.str.replace(\" \",\"_\")\n",
    "df.columns = df.columns.str.replace(\"/\",\"_\")\n",
    "\n",
    "df.columns"
   ]
  },
  {
   "cell_type": "code",
   "execution_count": null,
   "metadata": {},
   "outputs": [],
   "source": [
    "# cambiar TRT_6MESES_SIN_1_MES por TRT\n",
    "df = df.rename(columns={'TRT_6MESES_SIN_1_MES': 'TRT'})\n",
    "df = df.rename(columns={'N_PASTILLAS': 'N_PASTILLAS_D_INICIO'})"
   ]
  },
  {
   "cell_type": "code",
   "execution_count": null,
   "metadata": {},
   "outputs": [],
   "source": [
    "df.drop([\"CRITERIO_DE_GRUPO\",\"NHC\"],inplace=True,axis=1)"
   ]
  },
  {
   "cell_type": "code",
   "execution_count": null,
   "metadata": {},
   "outputs": [],
   "source": [
    "df.dtypes"
   ]
  },
  {
   "cell_type": "code",
   "execution_count": null,
   "metadata": {},
   "outputs": [],
   "source": [
    "df[\"FECHA_INICIO_TAO\"] = pd.to_datetime(df[\"FECHA_INICIO_TAO\"],format=\"%d/%m/%Y\")\n",
    "df[\"FECHA_NACIMIENTO\"] = pd.to_datetime(df[\"FECHA_NACIMIENTO\"],format=\"%d/%m/%Y\")"
   ]
  },
  {
   "cell_type": "code",
   "execution_count": null,
   "metadata": {},
   "outputs": [],
   "source": [
    "df[\"EDAD\"] = round((df[\"FECHA_INICIO_TAO\"] - df[\"FECHA_NACIMIENTO\"]).dt.days/365.25,0)"
   ]
  },
  {
   "cell_type": "code",
   "execution_count": null,
   "metadata": {},
   "outputs": [],
   "source": [
    "df[\"RATIO_NEUTROFILO/LINFOCITO\"] = round(df[\"NEUTROFILOS\"]/df[\"LINFOCITOS\"],2)\n",
    "\n",
    "df[\"ANEMIA\"] = 0\n",
    "df.loc[(df[\"SEXO\"] == \"H\") & (df[\"HEMOGLOBINA\"] < 13),\"ANEMIA\"] = 1\n",
    "df.loc[(df[\"SEXO\"] == \"M\") & (df[\"HEMOGLOBINA\"] < 12),\"ANEMIA\"] = 1\n",
    "\n",
    "df[\"TROMBOCITOPENIA\"] = 0\n",
    "df.loc[df[\"PLAQUETAS\"] < 100,\"TROMBOCITOPENIA\"] = 1\n",
    "\n",
    "df[\"CHA2DS2-VASC\"] = 0\n",
    "df.loc[df[\"EDAD\"] >= 75,\"CHA2DS2-VASC\"] += 2\n",
    "df.loc[(df[\"EDAD\"] >= 65) & (df[\"EDAD\"] < 75),\"CHA2DS2-VASC\"] += 1\n",
    "df.loc[df[\"HTA\"] == 1,\"CHA2DS2-VASC\"] += 1\n",
    "df.loc[(df[\"ICTUS_PREVIO\"] == 1) | (df[\"EMBOLIA_SISTEMICA_PREVIA\"] == 1),\"CHA2DS2-VASC\"] += 2\n",
    "df.loc[df[\"DM\"] == 1,\"CHA2DS2-VASC\"] += 1\n",
    "df.loc[(df[\"CARDIOPATIA_ISQUEMICA\"] == 1) | (df[\"ARTERIOPATIA_PERIFERICA\"] == 1),\"CHA2DS2-VASC\"] += 1\n",
    "df.loc[df[\"SEXO\"] == \"M\",\"CHA2DS2-VASC\"] += 1\n",
    "df.loc[df[\"INSUFICIENCIA_CARDIACA\"] == 1,\"CHA2DS2-VASC\"] += 1\n",
    "\n",
    "df[\"SAME-TT2R2\"] = 0\n",
    "df.loc[df[\"SEXO\"] == \"M\",\"SAME-TT2R2\"] += 1\n",
    "df.loc[df[\"EDAD\"] < 60,\"SAME-TT2R2\"] += 1\n",
    "df.loc[(df[\"HTA\"] + df[\"DM\"] + df[\"CARDIOPATIA_ISQUEMICA\"] + df[\"ARTERIOPATIA_PERIFERICA\"] + df[\"INSUFICIENCIA_CARDIACA\"] + df[\"ICTUS_PREVIO\"] + df[\"ENFERMEDAD_PULMONAR\"] + (df[\"ALTERACION_HEPATICA\"] | df[\"INSUFICIENCIA_RENAL\"]))>2,\"SAME-TT2R2\"] += 1\n",
    "df.loc[(df[\"AMIODARONA\"] == 1), \"SAME-TT2R2\"] += 1\n",
    "df.loc[df[\"FUMA\"]==1,\"SAME-TT2R2\"] += 2\n",
    "\n",
    "df.drop([\"FECHA_INICIO_TAO\",\"FECHA_NACIMIENTO\"],inplace=True,axis=1)\n",
    "\n",
    "df[\"CUALQUIER_ANTIARRITMICO\"] = 0\n",
    "df.loc[(df[\"AMIODARONA\"] == 1) | (df[\"OTROS_ANTIARRITMICOS\"] == 1),\"CUALQUIER_ANTIARRITMICO\"] = 1\n",
    "\n",
    "df[\"CONTROL_FRECUENCIA\"] = 0\n",
    "df.loc[(df[\"BETABLOQUEANTES\"] == 1) | (df[\"SOTALOL\"] == 1) | (df[\"VERAPAMILO\"] == 1) | (df[\"DILTIAZEM\"] == 1) | (df[\"DIGOXINA\"] == 1),\"CONTROL_FRECUENCIA\"] = 1\n",
    "\n",
    "df[\"CUALQUIER_ANTIAGREGANTE\"] = 0\n",
    "df.loc[(df[\"ASPIRINA\"] == 1) | (df[\"OTROS_ANTIAGREGANTES\"] == 1),\"CUALQUIER_ANTIAGREGANTE\"] = 1\n",
    "\n",
    "df[\"DOBLE_ANTIAGREGACION\"] = 0\n",
    "df.loc[(df[\"ASPIRINA\"] == 1) & (df[\"OTROS_ANTIAGREGANTES\"] == 1),\"DOBLE_ANTIAGREGACION\"] = 1\n",
    "\n",
    "df[\"EDAD_60\"] = 1\n",
    "df.loc[df[\"EDAD\"] >= 60,\"EDAD_60\"] = 0\n",
    "\n",
    "df[\"EDAD_65\"] = df[\"EDAD\"].apply(lambda x: 1 if x >= 65 else 0)\n",
    "\n",
    "df[\"N_COMEDICACIONES\"]= 0\n",
    "df.loc[(df[\"CONTROL_FRECUENCIA\"] == 1) | (df[\"CUALQUIER_ANTIARRITMICO\"] == 1) ,\"N_COMEDICACIONES\"] = 1\n",
    "df.loc[(df[\"CONTROL_FRECUENCIA\"] == 1) & (df[\"CUALQUIER_ANTIARRITMICO\"] == 1) ,\"N_COMEDICACIONES\"] = 2\n",
    "\n",
    "df[\"ICTUS/EMBOLIA\"] = 0\n",
    "df.loc[(df[\"ICTUS_PREVIO\"] == 1) | (df[\"EMBOLIA_SISTEMICA_PREVIA\"] == 1),\"ICTUS/EMBOLIA\"] = 1\n",
    "\n",
    "df[\"ENFERMEDAD_VASCULAR\"] = 0\n",
    "df.loc[(df[\"CARDIOPATIA_ISQUEMICA\"] == 1) | (df[\"ARTERIOPATIA_PERIFERICA\"] == 1),\"ENFERMEDAD_VASCULAR\"] = 1\n",
    "\n",
    "df[\"DISFUNCION/DILATACION\"] = 0\n",
    "df.loc[(df[\"DISFUNCION_VENTRICULAR_EN_ECO\"] == 1) | (df[\"TAMANO_AURICULA_IZQUIERDA\"] == 1),\"DISFUNCION/DILATACION\"] = 1\n",
    "\n",
    "df[\"SAME_MAS_DE_2\"] = 0\n",
    "df.loc[(df[\"HTA\"] + df[\"DM\"] + df[\"CARDIOPATIA_ISQUEMICA\"]+ df[\"ARTERIOPATIA_PERIFERICA\"]  + df[\"INSUFICIENCIA_CARDIACA\"] + df[\"ICTUS_PREVIO\"] + (df[\"ALTERACION_HEPATICA\"] | df[\"INSUFICIENCIA_RENAL\"]) + df[\"ENFERMEDAD_PULMONAR\"] )>2,\"SAME_MAS_DE_2\"] = 1\n",
    "\n",
    "df[\"ALTERACION\"] = 0\n",
    "df.loc[(df[\"ALTERACION_HEPATICA\"] == 1) | (df[\"INSUFICIENCIA_RENAL\"] == 1),\"ALTERACION\"] = 1\n",
    "\n",
    "df[\"BLOQUEO_CALCIO\"]=0\n",
    "df.loc[(df[\"VERAPAMILO\"]==1) | (df[\"DILTIAZEM\"]==1),\"BLOQUEO_CALCIO\"]=1\n",
    "\n",
    "df['SAME-TT2R2_MAS3'] = 0\n",
    "df.loc[df['SAME-TT2R2'] > 2, 'SAME-TT2R2_MAS3'] = 1\n",
    "\n",
    "dummies_neoplasia = pd.get_dummies(df['NEOPLASIA'], prefix='NEOPLASIA')\n",
    "df = pd.concat([df, dummies_neoplasia], axis=1)\n",
    "df.drop([\"NEOPLASIA\"],inplace=True,axis=1)"
   ]
  },
  {
   "cell_type": "code",
   "execution_count": null,
   "metadata": {},
   "outputs": [],
   "source": [
    "# mirar que la suma de neutrofilos, linfocitos y monocitos es igual a la suma de los leucocitos (o -1)\n",
    "df[\"SUMA_LEUCOCITOS\"] = df[\"NEUTROFILOS\"] + df[\"LINFOCITOS\"] + df[\"MONOCITOS\"]\n",
    "df[\"DIFERENCIA_LEUCOCITOS\"] = df[\"SUMA_LEUCOCITOS\"] - df[\"LEUCOCITOS\"]\n",
    "\n",
    "# muestrame aquellos valores absolutos de la columna \"DIFERENCIA_LEUCOCITOS\" que sean mayores que 1\n",
    "df.loc[abs(df[\"DIFERENCIA_LEUCOCITOS\"]) > 1,\"DIFERENCIA_LEUCOCITOS\"]"
   ]
  },
  {
   "cell_type": "code",
   "execution_count": null,
   "metadata": {},
   "outputs": [],
   "source": [
    "df.drop([\"SUMA_LEUCOCITOS\",\"DIFERENCIA_LEUCOCITOS\"],inplace=True,axis=1)"
   ]
  },
  {
   "cell_type": "code",
   "execution_count": null,
   "metadata": {},
   "outputs": [],
   "source": [
    "# rename columns\n",
    "df = df.rename(columns={'NEOPLASIA_0': 'NEOPLASIA_NO'})"
   ]
  },
  {
   "cell_type": "code",
   "execution_count": null,
   "metadata": {},
   "outputs": [],
   "source": [
    "# leer df_final\n",
    "df = df[[\"ADE\",\"MONOCITOS\",\"NEUTROFILOS\",\"EDAD\",\"N_PASTILLAS_D_INICIO\",\"DISLIPEMIA\",\"AMIODARONA\",\"INSUFICIENCIA_CARDIACA\",\"ARTERIOPATIA_PERIFERICA\",\"SAME_MAS_DE_2\",\"SAME-TT2R2_MAS3\",\"NEOPLASIA_NO\",\"ENFERMEDAD_VASCULAR\",\"TRT\"]]"
   ]
  },
  {
   "cell_type": "code",
   "execution_count": null,
   "metadata": {},
   "outputs": [],
   "source": [
    "df.head()"
   ]
  },
  {
   "cell_type": "code",
   "execution_count": null,
   "metadata": {},
   "outputs": [],
   "source": [
    "# aplicar el logaritmo a las variables ADE, Monocitos y Neutrofilos\n",
    "df[\"ADE\"] = df[\"ADE\"].apply(lambda x: np.log(x+1))\n",
    "df[\"MONOCITOS\"] = df[\"MONOCITOS\"].apply(lambda x: np.log(x+1))\n",
    "df[\"NEUTROFILOS\"] = df[\"NEUTROFILOS\"].apply(lambda x: np.log(x+1))"
   ]
  },
  {
   "cell_type": "code",
   "execution_count": null,
   "metadata": {},
   "outputs": [],
   "source": [
    "# cambiar los valores mayores a 2.97 por 2.97 en la variable ADE\n",
    "df.loc[df[\"ADE\"] > 2.97,\"ADE\"] = 2.97\n",
    "df.loc[df[\"ADE\"] < 2.48,\"ADE\"] = 2.48"
   ]
  },
  {
   "cell_type": "code",
   "execution_count": null,
   "metadata": {},
   "outputs": [],
   "source": [
    "df.head()"
   ]
  },
  {
   "cell_type": "code",
   "execution_count": null,
   "metadata": {},
   "outputs": [],
   "source": [
    "# guardar el dataframe en un csv\n",
    "df.to_csv(\"df_val.csv\",index=False)"
   ]
  },
  {
   "cell_type": "code",
   "execution_count": null,
   "metadata": {},
   "outputs": [],
   "source": [
    "# estandarizar"
   ]
  },
  {
   "cell_type": "code",
   "execution_count": null,
   "metadata": {},
   "outputs": [],
   "source": [
    "# importra df_val\n",
    "import pandas as pd\n",
    "df_val_final = pd.read_csv(\"df_val_final.csv\")"
   ]
  },
  {
   "cell_type": "code",
   "execution_count": null,
   "metadata": {},
   "outputs": [],
   "source": [
    "df_val_final.head()"
   ]
  },
  {
   "cell_type": "code",
   "execution_count": null,
   "metadata": {},
   "outputs": [],
   "source": [
    "df_val_final = df_val_final[[\"N_PASTILLAS_D_INICIO\",\"ADE\",\"MONOCITOS\",\"DISLIPEMIA\",\"SAME-TT2R2_MAS3\",\"NEUTROFILOS\",\"TRT\"]]"
   ]
  },
  {
   "cell_type": "code",
   "execution_count": null,
   "metadata": {},
   "outputs": [],
   "source": [
    "# separar df_val_final en X e y\n",
    "X_val = df_val_final.drop([\"TRT\"],axis=1)\n",
    "y_val = df_val_final[\"TRT\"]"
   ]
  },
  {
   "attachments": {},
   "cell_type": "markdown",
   "metadata": {},
   "source": [
    "### MLPRegressor"
   ]
  },
  {
   "cell_type": "code",
   "execution_count": null,
   "metadata": {},
   "outputs": [],
   "source": [
    "# importar MLPRegressor.pkl\n",
    "import pickle\n",
    "with open('MLPRegressor.pkl', 'rb') as file:\n",
    "    mlp = pickle.load(file)\n"
   ]
  },
  {
   "cell_type": "code",
   "execution_count": null,
   "metadata": {},
   "outputs": [],
   "source": [
    "# sacar las predicciones\n",
    "import numpy as np\n",
    "\n",
    "y_pred = mlp.predict(X_val)\n",
    "\n",
    "# sacar metricas\n",
    "from sklearn.metrics import mean_squared_error, mean_absolute_error, r2_score\n",
    "\n",
    "# mejores parametros\n",
    "print(\"Mejores parametros: \", mlp.best_params_)\n",
    "\n",
    "print(\"RMSE: \", np.sqrt(mean_squared_error(y_val, y_pred)))\n",
    "print(\"MAE: \", mean_absolute_error(y_val, y_pred))\n",
    "# std de MAE\n",
    "print(\"std MAE: \", np.std(abs(y_val - y_pred)))\n",
    "print(\"MSE: \", mean_squared_error(y_val, y_pred))\n",
    "print(\"R2: \", r2_score(y_val, y_pred))\n",
    "# r2 ajustado\n",
    "print(\"R2 ajustado: \", 1 - (1-r2_score(y_val, y_pred))*(len(y_val)-1)/(len(y_val)-X_val.shape[1]-1))"
   ]
  },
  {
   "cell_type": "code",
   "execution_count": null,
   "metadata": {},
   "outputs": [],
   "source": [
    "# sm\n",
    "import statsmodels.api as sm\n",
    "# plt\n",
    "import matplotlib.pyplot as plt\n",
    "# sns\n",
    "import seaborn as sns\n",
    "\n",
    "# residuos\n",
    "residuos = y_val - y_pred\n",
    "\n",
    "fig, axes = plt.subplots(nrows=3, ncols=2, figsize=(9, 8))\n",
    "\n",
    "axes[0, 0].scatter(y_val, y_pred, edgecolors=(0, 0, 0), alpha = 0.4)\n",
    "axes[0, 0].plot([y_val.min(), y_val.max()], [y_val.min(), y_val.max()],\n",
    "                'k--', color = 'black', lw=2)\n",
    "axes[0, 0].set_title('Valor predicho vs valor real', fontsize = 10, fontweight = \"bold\")\n",
    "axes[0, 0].set_xlabel('Real')\n",
    "axes[0, 0].set_ylabel('Predicción')\n",
    "axes[0, 0].tick_params(labelsize = 7)\n",
    "\n",
    "axes[0, 1].scatter(list(range(len(y_val))), residuos,\n",
    "                   edgecolors=(0, 0, 0), alpha = 0.4)\n",
    "axes[0, 1].axhline(y = 0, linestyle = '--', color = 'black', lw=2)\n",
    "axes[0, 1].set_title('Residuos del modelo', fontsize = 10, fontweight = \"bold\")\n",
    "axes[0, 1].set_xlabel('id')\n",
    "axes[0, 1].set_ylabel('Residuo')\n",
    "axes[0, 1].tick_params(labelsize = 7)\n",
    "\n",
    "sns.histplot(\n",
    "    data    = residuos,\n",
    "    stat    = \"density\",\n",
    "    kde     = True,\n",
    "    line_kws= {'linewidth': 1},\n",
    "    color   = \"firebrick\",\n",
    "    alpha   = 0.3,\n",
    "    ax      = axes[1, 0]\n",
    ")\n",
    "\n",
    "axes[1, 0].set_title('Distribución residuos del modelo', fontsize = 10,\n",
    "                     fontweight = \"bold\")\n",
    "axes[1, 0].set_xlabel(\"Residuo\")\n",
    "axes[1, 0].tick_params(labelsize = 7)\n",
    "\n",
    "\n",
    "sm.qqplot(\n",
    "    residuos,\n",
    "    fit   = True,\n",
    "    line  = 'q',\n",
    "    ax    = axes[1, 1], \n",
    "    color = 'firebrick',\n",
    "    alpha = 0.4,\n",
    "    lw    = 2\n",
    ")\n",
    "axes[1, 1].set_title('Q-Q residuos del modelo', fontsize = 10, fontweight = \"bold\")\n",
    "axes[1, 1].tick_params(labelsize = 7)\n",
    "\n",
    "axes[2, 0].scatter(y_pred, residuos,\n",
    "                   edgecolors=(0, 0, 0), alpha = 0.4)\n",
    "axes[2, 0].axhline(y = 0, linestyle = '--', color = 'black', lw=2)\n",
    "axes[2, 0].set_title('Residuos del modelo vs predicción', fontsize = 10, fontweight = \"bold\")\n",
    "axes[2, 0].set_xlabel('Predicción')\n",
    "axes[2, 0].set_ylabel('Residuo')\n",
    "axes[2, 0].tick_params(labelsize = 7)\n",
    "\n",
    "# Se eliminan los axes vacíos\n",
    "fig.delaxes(axes[2,1])\n",
    "\n",
    "fig.tight_layout()\n",
    "plt.subplots_adjust(top=0.9)\n",
    "fig.suptitle('Diagnóstico residuos MLP', fontsize = 12, fontweight = \"bold\");"
   ]
  },
  {
   "cell_type": "code",
   "execution_count": null,
   "metadata": {},
   "outputs": [],
   "source": [
    "# analizar la normalidad y homogeneidad de los residuos\n",
    "from scipy.stats import shapiro\n",
    "from scipy.stats import levene\n",
    "\n",
    "# normalidad\n",
    "stat, p = shapiro(y_val - y_pred)\n",
    "print('Statistics=%.3f, p=%.3f' % (stat, p))\n",
    "# interpret\n",
    "alpha = 0.05\n",
    "if p > alpha:\n",
    "    print('Sample looks Gaussian (fail to reject H0)')\n",
    "else:\n",
    "    print('Sample does not look Gaussian (reject H0)')"
   ]
  },
  {
   "attachments": {},
   "cell_type": "markdown",
   "metadata": {},
   "source": [
    "### Regresion lineal"
   ]
  },
  {
   "cell_type": "code",
   "execution_count": null,
   "metadata": {},
   "outputs": [],
   "source": [
    "# importar linear_regression.pkl\n",
    "import pickle\n",
    "with open('linear_regression.pickle', 'rb') as file:\n",
    "    linear_regression = pickle.load(file)"
   ]
  },
  {
   "cell_type": "code",
   "execution_count": null,
   "metadata": {},
   "outputs": [],
   "source": [
    "y_pred = linear_regression.predict(X_val)\n",
    "\n",
    "# sacar metricas\n",
    "from sklearn.metrics import mean_squared_error, mean_absolute_error, r2_score\n",
    "\n",
    "print(\"RMSE: \", np.sqrt(mean_squared_error(y_val, y_pred)))\n",
    "print(\"MAE: \", mean_absolute_error(y_val, y_pred))\n",
    "# std de MAE\n",
    "print(\"std MAE: \", np.std(abs(y_val - y_pred)))\n",
    "print(\"MSE: \", mean_squared_error(y_val, y_pred))\n",
    "print(\"R2: \", r2_score(y_val, y_pred))\n",
    "# r2 ajustado\n",
    "print(\"R2 ajustado: \", 1 - (1-r2_score(y_val, y_pred))*(len(y_val)-1)/(len(y_val)-X_val.shape[1]-1))"
   ]
  },
  {
   "cell_type": "code",
   "execution_count": null,
   "metadata": {},
   "outputs": [],
   "source": [
    "# sm\n",
    "import statsmodels.api as sm\n",
    "# plt\n",
    "import matplotlib.pyplot as plt\n",
    "# sns\n",
    "import seaborn as sns\n",
    "\n",
    "# residuos\n",
    "residuos = y_val - y_pred\n",
    "\n",
    "fig, axes = plt.subplots(nrows=3, ncols=2, figsize=(9, 8))\n",
    "\n",
    "axes[0, 0].scatter(y_val, y_pred, edgecolors=(0, 0, 0), alpha = 0.4)\n",
    "axes[0, 0].plot([y_val.min(), y_val.max()], [y_val.min(), y_val.max()],\n",
    "                'k--', color = 'black', lw=2)\n",
    "axes[0, 0].set_title('Valor predicho vs valor real', fontsize = 10, fontweight = \"bold\")\n",
    "axes[0, 0].set_xlabel('Real')\n",
    "axes[0, 0].set_ylabel('Predicción')\n",
    "axes[0, 0].tick_params(labelsize = 7)\n",
    "\n",
    "axes[0, 1].scatter(list(range(len(y_val))), residuos,\n",
    "                   edgecolors=(0, 0, 0), alpha = 0.4)\n",
    "axes[0, 1].axhline(y = 0, linestyle = '--', color = 'black', lw=2)\n",
    "axes[0, 1].set_title('Residuos del modelo', fontsize = 10, fontweight = \"bold\")\n",
    "axes[0, 1].set_xlabel('id')\n",
    "axes[0, 1].set_ylabel('Residuo')\n",
    "axes[0, 1].tick_params(labelsize = 7)\n",
    "\n",
    "sns.histplot(\n",
    "    data    = residuos,\n",
    "    stat    = \"density\",\n",
    "    kde     = True,\n",
    "    line_kws= {'linewidth': 1},\n",
    "    color   = \"firebrick\",\n",
    "    alpha   = 0.3,\n",
    "    ax      = axes[1, 0]\n",
    ")\n",
    "\n",
    "axes[1, 0].set_title('Distribución residuos del modelo', fontsize = 10,\n",
    "                     fontweight = \"bold\")\n",
    "axes[1, 0].set_xlabel(\"Residuo\")\n",
    "axes[1, 0].tick_params(labelsize = 7)\n",
    "\n",
    "\n",
    "sm.qqplot(\n",
    "    residuos,\n",
    "    fit   = True,\n",
    "    line  = 'q',\n",
    "    ax    = axes[1, 1], \n",
    "    color = 'firebrick',\n",
    "    alpha = 0.4,\n",
    "    lw    = 2\n",
    ")\n",
    "axes[1, 1].set_title('Q-Q residuos del modelo', fontsize = 10, fontweight = \"bold\")\n",
    "axes[1, 1].tick_params(labelsize = 7)\n",
    "\n",
    "axes[2, 0].scatter(y_pred, residuos,\n",
    "                   edgecolors=(0, 0, 0), alpha = 0.4)\n",
    "axes[2, 0].axhline(y = 0, linestyle = '--', color = 'black', lw=2)\n",
    "axes[2, 0].set_title('Residuos del modelo vs predicción', fontsize = 10, fontweight = \"bold\")\n",
    "axes[2, 0].set_xlabel('Predicción')\n",
    "axes[2, 0].set_ylabel('Residuo')\n",
    "axes[2, 0].tick_params(labelsize = 7)\n",
    "\n",
    "# Se eliminan los axes vacíos\n",
    "fig.delaxes(axes[2,1])\n",
    "\n",
    "fig.tight_layout()\n",
    "plt.subplots_adjust(top=0.9)\n",
    "fig.suptitle('Diagnóstico residuos Regresion lineal', fontsize = 12, fontweight = \"bold\");"
   ]
  },
  {
   "cell_type": "code",
   "execution_count": null,
   "metadata": {},
   "outputs": [],
   "source": [
    "# analizar la normalidad y homogeneidad de los residuos\n",
    "from scipy.stats import shapiro\n",
    "from scipy.stats import levene\n",
    "\n",
    "# normalidad\n",
    "stat, p = shapiro(y_val - y_pred)\n",
    "print('Statistics=%.3f, p=%.3f' % (stat, p))\n",
    "# interpret\n",
    "alpha = 0.05\n",
    "if p > alpha:\n",
    "    print('Sample looks Gaussian (fail to reject H0)')\n",
    "else:\n",
    "    print('Sample does not look Gaussian (reject H0)')"
   ]
  },
  {
   "attachments": {},
   "cell_type": "markdown",
   "metadata": {},
   "source": [
    "### Regresion logistica"
   ]
  },
  {
   "cell_type": "code",
   "execution_count": null,
   "metadata": {},
   "outputs": [],
   "source": [
    "df_val_final = df_val_final[[\"ARTERIOPATIA_PERIFERICA\",\"ENFERMEDAD_VASCULAR\",\"SAME_MAS_DE_2\",\"N_PASTILLAS_D_INICIO\",\"NEOPLASIA_NO\",\"ADE\",\"MONOCITOS\",\"DISLIPEMIA\",\"AMIODARONA\",\"EDAD\",\"INSUFICIENCIA_CARDIACA\",\"SAME-TT2R2_MAS3\",\"NEUTROFILOS\",\"TRT\"]]\n",
    "\n",
    "X_val = df_val_final.drop([\"TRT\"],axis=1)\n",
    "y_val = df_val_final[\"TRT\"]"
   ]
  },
  {
   "cell_type": "code",
   "execution_count": null,
   "metadata": {},
   "outputs": [],
   "source": [
    "# importar logistic_regression.pkl\n",
    "import pickle\n",
    "with open('logistic_regression.pkl', 'rb') as file:\n",
    "    logistic_regression = pickle.load(file)"
   ]
  },
  {
   "cell_type": "code",
   "execution_count": null,
   "metadata": {},
   "outputs": [],
   "source": [
    "# metricas\n",
    "from sklearn.metrics import f1_score, precision_score, recall_score, balanced_accuracy_score, roc_auc_score\n",
    "\n",
    "# sacar las predicciones\n",
    "y_pred = logistic_regression.predict(X_val)\n",
    "\n",
    "# best params\n",
    "print(\"Mejores parametros: \", logistic_regression.best_params_)\n",
    "print(\"F1: \", f1_score(y_val, y_pred))\n",
    "print(\"Precision: \", precision_score(y_val, y_pred))\n",
    "print(\"Recall: \", recall_score(y_val, y_pred))\n",
    "# balanced accuracy\n",
    "print(\"Balanced accuracy: \", balanced_accuracy_score(y_val, y_pred))\n",
    "# roc auc\n",
    "print(\"ROC AUC: \", roc_auc_score(y_val, y_pred))"
   ]
  },
  {
   "cell_type": "code",
   "execution_count": null,
   "metadata": {},
   "outputs": [],
   "source": [
    "# graficar la matriz de confusion\n",
    "from sklearn.metrics import confusion_matrix\n",
    "import seaborn as sns\n",
    "\n",
    "matriz_confusion = confusion_matrix(y_val, y_pred)\n",
    "\n",
    "sns.heatmap(matriz_confusion, annot=True, fmt='g', cmap='Blues')\n",
    "plt.xlabel('Predicción')\n",
    "plt.ylabel('Valor real')\n",
    "plt.title('Matriz de confusión Regresión logística');"
   ]
  },
  {
   "cell_type": "code",
   "execution_count": null,
   "metadata": {},
   "outputs": [],
   "source": [
    "# classification report\n",
    "from sklearn.metrics import classification_report\n",
    "\n",
    "print(classification_report(y_val, y_pred))"
   ]
  },
  {
   "cell_type": "code",
   "execution_count": null,
   "metadata": {},
   "outputs": [],
   "source": [
    "from sklearn.metrics import roc_curve\n",
    "from sklearn.metrics import roc_auc_score\n",
    "\n",
    "y_pred_proba = logistic_regression.predict_proba(X_val)[::,1]\n",
    "\n",
    "fpr, tpr, _ = roc_curve(y_val,  y_pred_proba)\n",
    "auc = roc_auc_score(y_val, y_pred_proba)\n",
    "print(auc)\n",
    "plt.plot(fpr,tpr,label=\"AUC=\"+str(round(auc,2)))\n",
    "# axes\n",
    "plt.ylabel(\"Ratio Verdaderos Positivos\")\n",
    "plt.xlabel(\"Ratio Falsos Positivos\")\n",
    "# linea diagonal en gris claro\n",
    "plt.plot([0, 1], [0, 1], color='gray', lw=1, linestyle='--')\n",
    "# titulo\n",
    "plt.title(\"Curva ROC regresión logística\")\n",
    "plt.legend(loc=4)\n",
    "plt.show()"
   ]
  },
  {
   "attachments": {},
   "cell_type": "markdown",
   "metadata": {},
   "source": [
    "### KNN"
   ]
  },
  {
   "cell_type": "code",
   "execution_count": null,
   "metadata": {},
   "outputs": [],
   "source": [
    "# importar KNeighborsClassifier.pkl\n",
    "import pickle\n",
    "with open('KNeighborsClassifier60.pickle', 'rb') as file:\n",
    "    KNeighborsClassifier = pickle.load(file)"
   ]
  },
  {
   "cell_type": "code",
   "execution_count": null,
   "metadata": {},
   "outputs": [],
   "source": [
    "from sklearn.metrics import f1_score, precision_score, recall_score, balanced_accuracy_score, roc_auc_score\n",
    "\n",
    "# sacar las predicciones\n",
    "y_pred = KNeighborsClassifier.predict(X_val)\n",
    "\n",
    "# best params\n",
    "print(\"Mejores parametros: \", KNeighborsClassifier.best_params_)\n",
    "print(\"F1: \", f1_score(y_val, y_pred))\n",
    "print(\"Precision: \", precision_score(y_val, y_pred))\n",
    "print(\"Recall: \", recall_score(y_val, y_pred))\n",
    "# balanced accuracy\n",
    "print(\"Balanced accuracy: \", balanced_accuracy_score(y_val, y_pred))\n",
    "# roc auc\n",
    "print(\"ROC AUC: \", roc_auc_score(y_val, y_pred))"
   ]
  },
  {
   "cell_type": "code",
   "execution_count": null,
   "metadata": {},
   "outputs": [],
   "source": [
    "# matriz de confusion\n",
    "from sklearn.metrics import confusion_matrix\n",
    "import seaborn as sns\n",
    "\n",
    "matriz_confusion = confusion_matrix(y_val, y_pred)\n",
    "\n",
    "sns.heatmap(matriz_confusion, annot=True, fmt='g', cmap='Blues')\n",
    "plt.xlabel('Predicción')\n",
    "plt.ylabel('Valor real')\n",
    "plt.title('Matriz de confusión KNN');"
   ]
  },
  {
   "cell_type": "code",
   "execution_count": null,
   "metadata": {},
   "outputs": [],
   "source": [
    "# classification report\n",
    "from sklearn.metrics import classification_report\n",
    "\n",
    "print(classification_report(y_val, y_pred))"
   ]
  },
  {
   "cell_type": "code",
   "execution_count": null,
   "metadata": {},
   "outputs": [],
   "source": [
    "# curva roc\n",
    "from sklearn.metrics import roc_curve\n",
    "\n",
    "y_pred_proba = KNeighborsClassifier.predict_proba(X_val)[::,1]   \n",
    "\n",
    "fpr, tpr, _ = roc_curve(y_val,  y_pred_proba)\n",
    "auc = roc_auc_score(y_val, y_pred_proba)\n",
    "print(auc)\n",
    "plt.plot(fpr,tpr,label=\"AUC=\"+str(round(auc,2)))\n",
    "# axes\n",
    "plt.ylabel(\"Ratio Verdaderos Positivos\")\n",
    "plt.xlabel(\"Ratio Falsos Positivos\")\n",
    "# linea diagonal en gris claro\n",
    "plt.plot([0, 1], [0, 1], color='gray', lw=1, linestyle='--')\n",
    "# titulo\n",
    "plt.title(\"Curva ROC KNN\")\n",
    "plt.legend(loc=4)\n",
    "plt.show()"
   ]
  }
 ],
 "metadata": {
  "kernelspec": {
   "display_name": "Python 3",
   "language": "python",
   "name": "python3"
  },
  "language_info": {
   "codemirror_mode": {
    "name": "ipython",
    "version": 3
   },
   "file_extension": ".py",
   "mimetype": "text/x-python",
   "name": "python",
   "nbconvert_exporter": "python",
   "pygments_lexer": "ipython3",
   "version": "3.9.4"
  },
  "orig_nbformat": 4
 },
 "nbformat": 4,
 "nbformat_minor": 2
}
